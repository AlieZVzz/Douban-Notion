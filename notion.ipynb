{
 "cells": [
  {
   "cell_type": "code",
   "execution_count": 12,
   "metadata": {
    "ExecuteTime": {
     "end_time": "2023-07-06T14:23:03.910206Z",
     "start_time": "2023-07-06T14:23:01.523773Z"
    },
    "collapsed": true
   },
   "outputs": [],
   "source": [
    "from notion_database.database import Database\n",
    "\n",
    "D = Database(integrations_token=\"secret_wa5Mmdai45S2vBpXXr1Hkx8eATxKQVGTydscWBstPsG\")\n",
    "D.retrieve_database(database_id=\"9c4b15b3675d439680c87cb3a1e50873\")"
   ]
  },
  {
   "cell_type": "code",
   "execution_count": 17,
   "metadata": {
    "ExecuteTime": {
     "end_time": "2023-07-06T14:27:19.982019Z",
     "start_time": "2023-07-06T14:27:19.975774Z"
    },
    "collapsed": false
   },
   "outputs": [],
   "source": [
    "NOTION_KEY = \"secret_wa5Mmdai45S2vBpXXr1Hkx8eATxKQVGTydscWBstPsG\""
   ]
  },
  {
   "attachments": {},
   "cell_type": "markdown",
   "metadata": {
    "collapsed": false
   },
   "source": []
  },
  {
   "cell_type": "code",
   "execution_count": 20,
   "metadata": {
    "ExecuteTime": {
     "end_time": "2023-07-05T13:32:48.850755Z",
     "start_time": "2023-07-05T13:32:43.378265Z"
    },
    "collapsed": false
   },
   "outputs": [],
   "source": [
    "D = Database(integrations_token=\"secret_wa5Mmdai45S2vBpXXr1Hkx8eATxKQVGTydscWBstPsG\")\n",
    "D.find_all_page(database_id=\"9c4b15b3675d439680c87cb3a1e50873\")"
   ]
  },
  {
   "cell_type": "code",
   "execution_count": 21,
   "metadata": {},
   "outputs": [],
   "source": [
    "if D.result[\"has_more\"]:\n",
    "    D.find_all_page(database_id=\"9c4b15b3675d439680c87cb3a1e50873\", start_cursor=D.result[\"next_cursor\"])\n",
    "    firms = D.result[\"results\"]"
   ]
  },
  {
   "cell_type": "code",
   "execution_count": 32,
   "metadata": {
    "ExecuteTime": {
     "end_time": "2023-07-05T13:33:27.476771Z",
     "start_time": "2023-07-05T13:33:27.469140Z"
    },
    "collapsed": false
   },
   "outputs": [
    {
     "name": "stdout",
     "output_type": "stream",
     "text": [
      "{'object': 'list', 'results': [{'object': 'page', 'id': '7c376d76-5a10-46f3-a962-203e7eb217be', 'created_time': '2022-10-31T13:47:00.000Z', 'last_edited_time': '2022-10-31T13:47:00.000Z', 'created_by': {'object': 'user', 'id': 'f2ce332b-8a03-4c31-adba-86f0b763dbb1'}, 'last_edited_by': {'object': 'user', 'id': 'f2ce332b-8a03-4c31-adba-86f0b763dbb1'}, 'cover': None, 'icon': None, 'parent': {'type': 'database_id', 'database_id': '9c4b15b3-675d-4396-80c8-7cb3a1e50873'}, 'archived': False, 'properties': {'影片链接': {'id': '%3C%3AGD', 'type': 'url', 'url': 'https://movie.douban.com/subject/25882296/'}, '观看时间': {'id': 'Nmq%7C', 'type': 'date', 'date': {'start': '2021-01-21', 'end': None, 'time_zone': None}}, '类型': {'id': 'Tt%3BE', 'type': 'multi_select', 'multi_select': []}, '有啥想说的不': {'id': 'T%7DY%3B', 'type': 'rich_text', 'rich_text': []}, '评分': {'id': 'XQnP', 'type': 'select', 'select': None}, '封面': {'id': 'tSca', 'type': 'files', 'files': []}, '导演': {'id': 'wV%3AI', 'type': 'multi_select', 'multi_select': []}, '名称': {'id': 'title', 'type': 'title', 'title': [{'type': 'text', 'text': {'content': '狄仁杰之四大天王', 'link': None}, 'annotations': {'bold': False, 'italic': False, 'strikethrough': False, 'underline': False, 'code': False, 'color': 'default'}, 'plain_text': '狄仁杰之四大天王', 'href': None}]}}, 'url': 'https://www.notion.so/7c376d765a1046f3a962203e7eb217be', 'public_url': 'https://sparklingdeng.notion.site/7c376d765a1046f3a962203e7eb217be'}, {'object': 'page', 'id': '836bf940-48c8-4a70-91a5-118377cad466', 'created_time': '2022-10-31T13:47:00.000Z', 'last_edited_time': '2022-10-31T13:47:00.000Z', 'created_by': {'object': 'user', 'id': 'f2ce332b-8a03-4c31-adba-86f0b763dbb1'}, 'last_edited_by': {'object': 'user', 'id': 'f2ce332b-8a03-4c31-adba-86f0b763dbb1'}, 'cover': None, 'icon': None, 'parent': {'type': 'database_id', 'database_id': '9c4b15b3-675d-4396-80c8-7cb3a1e50873'}, 'archived': False, 'properties': {'影片链接': {'id': '%3C%3AGD', 'type': 'url', 'url': 'https://movie.douban.com/subject/20277632/'}, '观看时间': {'id': 'Nmq%7C', 'type': 'date', 'date': {'start': '2021-01-21', 'end': None, 'time_zone': None}}, '类型': {'id': 'Tt%3BE', 'type': 'multi_select', 'multi_select': []}, '有啥想说的不': {'id': 'T%7DY%3B', 'type': 'rich_text', 'rich_text': []}, '评分': {'id': 'XQnP', 'type': 'select', 'select': None}, '封面': {'id': 'tSca', 'type': 'files', 'files': []}, '导演': {'id': 'wV%3AI', 'type': 'multi_select', 'multi_select': []}, '名称': {'id': 'title', 'type': 'title', 'title': [{'type': 'text', 'text': {'content': '飓风营救3 / Taken 3', 'link': None}, 'annotations': {'bold': False, 'italic': False, 'strikethrough': False, 'underline': False, 'code': False, 'color': 'default'}, 'plain_text': '飓风营救3 / Taken 3', 'href': None}]}}, 'url': 'https://www.notion.so/3-Taken-3-836bf94048c84a7091a5118377cad466', 'public_url': 'https://sparklingdeng.notion.site/3-Taken-3-836bf94048c84a7091a5118377cad466'}, {'object': 'page', 'id': '83e08be6-3042-448c-b556-9b88ce846157', 'created_time': '2022-10-31T13:47:00.000Z', 'last_edited_time': '2022-10-31T13:47:00.000Z', 'created_by': {'object': 'user', 'id': 'f2ce332b-8a03-4c31-adba-86f0b763dbb1'}, 'last_edited_by': {'object': 'user', 'id': 'f2ce332b-8a03-4c31-adba-86f0b763dbb1'}, 'cover': None, 'icon': None, 'parent': {'type': 'database_id', 'database_id': '9c4b15b3-675d-4396-80c8-7cb3a1e50873'}, 'archived': False, 'properties': {'影片链接': {'id': '%3C%3AGD', 'type': 'url', 'url': 'https://movie.douban.com/subject/1794171/'}, '观看时间': {'id': 'Nmq%7C', 'type': 'date', 'date': {'start': '2021-01-21', 'end': None, 'time_zone': None}}, '类型': {'id': 'Tt%3BE', 'type': 'multi_select', 'multi_select': []}, '有啥想说的不': {'id': 'T%7DY%3B', 'type': 'rich_text', 'rich_text': []}, '评分': {'id': 'XQnP', 'type': 'select', 'select': None}, '封面': {'id': 'tSca', 'type': 'files', 'files': []}, '导演': {'id': 'wV%3AI', 'type': 'multi_select', 'multi_select': []}, '名称': {'id': 'title', 'type': 'title', 'title': [{'type': 'text', 'text': {'content': '变形金刚 / Transformers', 'link': None}, 'annotations': {'bold': False, 'italic': False, 'strikethrough': False, 'underline': False, 'code': False, 'color': 'default'}, 'plain_text': '变形金刚 / Transformers', 'href': None}]}}, 'url': 'https://www.notion.so/Transformers-83e08be63042448cb5569b88ce846157', 'public_url': 'https://sparklingdeng.notion.site/Transformers-83e08be63042448cb5569b88ce846157'}, {'object': 'page', 'id': '85b4e357-55fc-49b4-be0d-adda17dc12b4', 'created_time': '2022-10-31T13:47:00.000Z', 'last_edited_time': '2022-10-31T13:47:00.000Z', 'created_by': {'object': 'user', 'id': 'f2ce332b-8a03-4c31-adba-86f0b763dbb1'}, 'last_edited_by': {'object': 'user', 'id': 'f2ce332b-8a03-4c31-adba-86f0b763dbb1'}, 'cover': None, 'icon': None, 'parent': {'type': 'database_id', 'database_id': '9c4b15b3-675d-4396-80c8-7cb3a1e50873'}, 'archived': False, 'properties': {'影片链接': {'id': '%3C%3AGD', 'type': 'url', 'url': 'https://movie.douban.com/subject/30402296/'}, '观看时间': {'id': 'Nmq%7C', 'type': 'date', 'date': {'start': '2021-01-21', 'end': None, 'time_zone': None}}, '类型': {'id': 'Tt%3BE', 'type': 'multi_select', 'multi_select': []}, '有啥想说的不': {'id': 'T%7DY%3B', 'type': 'rich_text', 'rich_text': []}, '评分': {'id': 'XQnP', 'type': 'select', 'select': None}, '封面': {'id': 'tSca', 'type': 'files', 'files': []}, '导演': {'id': 'wV%3AI', 'type': 'multi_select', 'multi_select': []}, '名称': {'id': 'title', 'type': 'title', 'title': [{'type': 'text', 'text': {'content': '天气之子 / 天気の子', 'link': None}, 'annotations': {'bold': False, 'italic': False, 'strikethrough': False, 'underline': False, 'code': False, 'color': 'default'}, 'plain_text': '天气之子 / 天気の子', 'href': None}]}}, 'url': 'https://www.notion.so/85b4e35755fc49b4be0dadda17dc12b4', 'public_url': 'https://sparklingdeng.notion.site/85b4e35755fc49b4be0dadda17dc12b4'}, {'object': 'page', 'id': '8aca3e68-3ba6-4b87-9ba4-08d45df10ce4', 'created_time': '2022-10-31T13:47:00.000Z', 'last_edited_time': '2022-10-31T13:47:00.000Z', 'created_by': {'object': 'user', 'id': 'f2ce332b-8a03-4c31-adba-86f0b763dbb1'}, 'last_edited_by': {'object': 'user', 'id': 'f2ce332b-8a03-4c31-adba-86f0b763dbb1'}, 'cover': None, 'icon': None, 'parent': {'type': 'database_id', 'database_id': '9c4b15b3-675d-4396-80c8-7cb3a1e50873'}, 'archived': False, 'properties': {'影片链接': {'id': '%3C%3AGD', 'type': 'url', 'url': 'https://movie.douban.com/subject/6533054/'}, '观看时间': {'id': 'Nmq%7C', 'type': 'date', 'date': {'start': '2021-01-21', 'end': None, 'time_zone': None}}, '类型': {'id': 'Tt%3BE', 'type': 'multi_select', 'multi_select': []}, '有啥想说的不': {'id': 'T%7DY%3B', 'type': 'rich_text', 'rich_text': []}, '评分': {'id': 'XQnP', 'type': 'select', 'select': None}, '封面': {'id': 'tSca', 'type': 'files', 'files': []}, '导演': {'id': 'wV%3AI', 'type': 'multi_select', 'multi_select': []}, '名称': {'id': 'title', 'type': 'title', 'title': [{'type': 'text', 'text': {'content': '饥饿游戏3：嘲笑鸟(上) / The Hunger Games: Mockingjay - Part 1', 'link': None}, 'annotations': {'bold': False, 'italic': False, 'strikethrough': False, 'underline': False, 'code': False, 'color': 'default'}, 'plain_text': '饥饿游戏3：嘲笑鸟(上) / The Hunger Games: Mockingjay - Part 1', 'href': None}]}}, 'url': 'https://www.notion.so/3-The-Hunger-Games-Mockingjay-Part-1-8aca3e683ba64b879ba408d45df10ce4', 'public_url': 'https://sparklingdeng.notion.site/3-The-Hunger-Games-Mockingjay-Part-1-8aca3e683ba64b879ba408d45df10ce4'}, {'object': 'page', 'id': '8baf824b-6a14-4663-a707-51b55a78bd59', 'created_time': '2022-10-31T13:47:00.000Z', 'last_edited_time': '2022-10-31T13:47:00.000Z', 'created_by': {'object': 'user', 'id': 'f2ce332b-8a03-4c31-adba-86f0b763dbb1'}, 'last_edited_by': {'object': 'user', 'id': 'f2ce332b-8a03-4c31-adba-86f0b763dbb1'}, 'cover': None, 'icon': None, 'parent': {'type': 'database_id', 'database_id': '9c4b15b3-675d-4396-80c8-7cb3a1e50873'}, 'archived': False, 'properties': {'影片链接': {'id': '%3C%3AGD', 'type': 'url', 'url': 'https://movie.douban.com/subject/4811813/'}, '观看时间': {'id': 'Nmq%7C', 'type': 'date', 'date': {'start': '2021-01-21', 'end': None, 'time_zone': None}}, '类型': {'id': 'Tt%3BE', 'type': 'multi_select', 'multi_select': []}, '有啥想说的不': {'id': 'T%7DY%3B', 'type': 'rich_text', 'rich_text': []}, '评分': {'id': 'XQnP', 'type': 'select', 'select': None}, '封面': {'id': 'tSca', 'type': 'files', 'files': []}, '导演': {'id': 'wV%3AI', 'type': 'multi_select', 'multi_select': []}, '名称': {'id': 'title', 'type': 'title', 'title': [{'type': 'text', 'text': {'content': '独立日2：卷土重来 / Independence Day: Resurgence', 'link': None}, 'annotations': {'bold': False, 'italic': False, 'strikethrough': False, 'underline': False, 'code': False, 'color': 'default'}, 'plain_text': '独立日2：卷土重来 / Independence Day: Resurgence', 'href': None}]}}, 'url': 'https://www.notion.so/2-Independence-Day-Resurgence-8baf824b6a144663a70751b55a78bd59', 'public_url': 'https://sparklingdeng.notion.site/2-Independence-Day-Resurgence-8baf824b6a144663a70751b55a78bd59'}, {'object': 'page', 'id': '8d9b160b-4494-4e16-8cae-12fd04e41ebd', 'created_time': '2022-10-31T13:47:00.000Z', 'last_edited_time': '2022-10-31T13:47:00.000Z', 'created_by': {'object': 'user', 'id': 'f2ce332b-8a03-4c31-adba-86f0b763dbb1'}, 'last_edited_by': {'object': 'user', 'id': 'f2ce332b-8a03-4c31-adba-86f0b763dbb1'}, 'cover': None, 'icon': None, 'parent': {'type': 'database_id', 'database_id': '9c4b15b3-675d-4396-80c8-7cb3a1e50873'}, 'archived': False, 'properties': {'影片链接': {'id': '%3C%3AGD', 'type': 'url', 'url': 'https://movie.douban.com/subject/1432146/'}, '观看时间': {'id': 'Nmq%7C', 'type': 'date', 'date': {'start': '2021-01-21', 'end': None, 'time_zone': None}}, '类型': {'id': 'Tt%3BE', 'type': 'multi_select', 'multi_select': []}, '有啥想说的不': {'id': 'T%7DY%3B', 'type': 'rich_text', 'rich_text': []}, '评分': {'id': 'XQnP', 'type': 'select', 'select': None}, '封面': {'id': 'tSca', 'type': 'files', 'files': []}, '导演': {'id': 'wV%3AI', 'type': 'multi_select', 'multi_select': []}, '名称': {'id': 'title', 'type': 'title', 'title': [{'type': 'text', 'text': {'content': '钢铁侠 / Iron Man', 'link': None}, 'annotations': {'bold': False, 'italic': False, 'strikethrough': False, 'underline': False, 'code': False, 'color': 'default'}, 'plain_text': '钢铁侠 / Iron Man', 'href': None}]}}, 'url': 'https://www.notion.so/Iron-Man-8d9b160b44944e168cae12fd04e41ebd', 'public_url': 'https://sparklingdeng.notion.site/Iron-Man-8d9b160b44944e168cae12fd04e41ebd'}, {'object': 'page', 'id': '8dc44e1f-650d-4e15-9e86-08261725760f', 'created_time': '2022-10-31T13:47:00.000Z', 'last_edited_time': '2022-10-31T13:47:00.000Z', 'created_by': {'object': 'user', 'id': 'f2ce332b-8a03-4c31-adba-86f0b763dbb1'}, 'last_edited_by': {'object': 'user', 'id': 'f2ce332b-8a03-4c31-adba-86f0b763dbb1'}, 'cover': None, 'icon': None, 'parent': {'type': 'database_id', 'database_id': '9c4b15b3-675d-4396-80c8-7cb3a1e50873'}, 'archived': False, 'properties': {'影片链接': {'id': '%3C%3AGD', 'type': 'url', 'url': 'https://movie.douban.com/subject/30306570/'}, '观看时间': {'id': 'Nmq%7C', 'type': 'date', 'date': {'start': '2021-09-20', 'end': None, 'time_zone': None}}, '类型': {'id': 'Tt%3BE', 'type': 'multi_select', 'multi_select': []}, '有啥想说的不': {'id': 'T%7DY%3B', 'type': 'rich_text', 'rich_text': []}, '评分': {'id': 'XQnP', 'type': 'select', 'select': None}, '封面': {'id': 'tSca', 'type': 'files', 'files': []}, '导演': {'id': 'wV%3AI', 'type': 'multi_select', 'multi_select': []}, '名称': {'id': 'title', 'type': 'title', 'title': [{'type': 'text', 'text': {'content': '囧妈', 'link': None}, 'annotations': {'bold': False, 'italic': False, 'strikethrough': False, 'underline': False, 'code': False, 'color': 'default'}, 'plain_text': '囧妈', 'href': None}]}}, 'url': 'https://www.notion.so/8dc44e1f650d4e159e8608261725760f', 'public_url': 'https://sparklingdeng.notion.site/8dc44e1f650d4e159e8608261725760f'}, {'object': 'page', 'id': '915ffa81-d223-43f6-9c02-3b017f2da169', 'created_time': '2022-10-31T13:47:00.000Z', 'last_edited_time': '2022-10-31T13:47:00.000Z', 'created_by': {'object': 'user', 'id': 'f2ce332b-8a03-4c31-adba-86f0b763dbb1'}, 'last_edited_by': {'object': 'user', 'id': 'f2ce332b-8a03-4c31-adba-86f0b763dbb1'}, 'cover': None, 'icon': None, 'parent': {'type': 'database_id', 'database_id': '9c4b15b3-675d-4396-80c8-7cb3a1e50873'}, 'archived': False, 'properties': {'影片链接': {'id': '%3C%3AGD', 'type': 'url', 'url': 'https://movie.douban.com/subject/25900945/'}, '观看时间': {'id': 'Nmq%7C', 'type': 'date', 'date': {'start': '2021-01-21', 'end': None, 'time_zone': None}}, '类型': {'id': 'Tt%3BE', 'type': 'multi_select', 'multi_select': []}, '有啥想说的不': {'id': 'T%7DY%3B', 'type': 'rich_text', 'rich_text': []}, '评分': {'id': 'XQnP', 'type': 'select', 'select': None}, '封面': {'id': 'tSca', 'type': 'files', 'files': []}, '导演': {'id': 'wV%3AI', 'type': 'multi_select', 'multi_select': []}, '名称': {'id': 'title', 'type': 'title', 'title': [{'type': 'text', 'text': {'content': '美女与野兽 / Beauty and the Beast', 'link': None}, 'annotations': {'bold': False, 'italic': False, 'strikethrough': False, 'underline': False, 'code': False, 'color': 'default'}, 'plain_text': '美女与野兽 / Beauty and the Beast', 'href': None}]}}, 'url': 'https://www.notion.so/Beauty-and-the-Beast-915ffa81d22343f69c023b017f2da169', 'public_url': 'https://sparklingdeng.notion.site/Beauty-and-the-Beast-915ffa81d22343f69c023b017f2da169'}, {'object': 'page', 'id': '933391d9-2482-4b30-9489-23492d2d04c0', 'created_time': '2022-10-31T13:47:00.000Z', 'last_edited_time': '2022-10-31T13:47:00.000Z', 'created_by': {'object': 'user', 'id': 'f2ce332b-8a03-4c31-adba-86f0b763dbb1'}, 'last_edited_by': {'object': 'user', 'id': 'f2ce332b-8a03-4c31-adba-86f0b763dbb1'}, 'cover': None, 'icon': None, 'parent': {'type': 'database_id', 'database_id': '9c4b15b3-675d-4396-80c8-7cb3a1e50873'}, 'archived': False, 'properties': {'影片链接': {'id': '%3C%3AGD', 'type': 'url', 'url': 'https://movie.douban.com/subject/11589036/'}, '观看时间': {'id': 'Nmq%7C', 'type': 'date', 'date': {'start': '2021-01-21', 'end': None, 'time_zone': None}}, '类型': {'id': 'Tt%3BE', 'type': 'multi_select', 'multi_select': []}, '有啥想说的不': {'id': 'T%7DY%3B', 'type': 'rich_text', 'rich_text': []}, '评分': {'id': 'XQnP', 'type': 'select', 'select': None}, '封面': {'id': 'tSca', 'type': 'files', 'files': []}, '导演': {'id': 'wV%3AI', 'type': 'multi_select', 'multi_select': []}, '名称': {'id': 'title', 'type': 'title', 'title': [{'type': 'text', 'text': {'content': '功夫熊猫3 / Kung Fu Panda 3', 'link': None}, 'annotations': {'bold': False, 'italic': False, 'strikethrough': False, 'underline': False, 'code': False, 'color': 'default'}, 'plain_text': '功夫熊猫3 / Kung Fu Panda 3', 'href': None}]}}, 'url': 'https://www.notion.so/3-Kung-Fu-Panda-3-933391d924824b30948923492d2d04c0', 'public_url': 'https://sparklingdeng.notion.site/3-Kung-Fu-Panda-3-933391d924824b30948923492d2d04c0'}, {'object': 'page', 'id': '937e43b9-9907-43cc-8185-cdc2dc30e1c0', 'created_time': '2022-10-31T13:47:00.000Z', 'last_edited_time': '2022-10-31T13:47:00.000Z', 'created_by': {'object': 'user', 'id': 'f2ce332b-8a03-4c31-adba-86f0b763dbb1'}, 'last_edited_by': {'object': 'user', 'id': 'f2ce332b-8a03-4c31-adba-86f0b763dbb1'}, 'cover': None, 'icon': None, 'parent': {'type': 'database_id', 'database_id': '9c4b15b3-675d-4396-80c8-7cb3a1e50873'}, 'archived': False, 'properties': {'影片链接': {'id': '%3C%3AGD', 'type': 'url', 'url': 'https://movie.douban.com/subject/3610047/'}, '观看时间': {'id': 'Nmq%7C', 'type': 'date', 'date': {'start': '2021-01-21', 'end': None, 'time_zone': None}}, '类型': {'id': 'Tt%3BE', 'type': 'multi_select', 'multi_select': []}, '有啥想说的不': {'id': 'T%7DY%3B', 'type': 'rich_text', 'rich_text': []}, '评分': {'id': 'XQnP', 'type': 'select', 'select': None}, '封面': {'id': 'tSca', 'type': 'files', 'files': []}, '导演': {'id': 'wV%3AI', 'type': 'multi_select', 'multi_select': []}, '名称': {'id': 'title', 'type': 'title', 'title': [{'type': 'text', 'text': {'content': '变形金刚3 / Transformers: Dark of the Moon', 'link': None}, 'annotations': {'bold': False, 'italic': False, 'strikethrough': False, 'underline': False, 'code': False, 'color': 'default'}, 'plain_text': '变形金刚3 / Transformers: Dark of the Moon', 'href': None}]}}, 'url': 'https://www.notion.so/3-Transformers-Dark-of-the-Moon-937e43b9990743cc8185cdc2dc30e1c0', 'public_url': 'https://sparklingdeng.notion.site/3-Transformers-Dark-of-the-Moon-937e43b9990743cc8185cdc2dc30e1c0'}, {'object': 'page', 'id': '938d47b1-c781-4630-a813-f725d51cc560', 'created_time': '2022-10-31T13:47:00.000Z', 'last_edited_time': '2022-10-31T13:47:00.000Z', 'created_by': {'object': 'user', 'id': 'f2ce332b-8a03-4c31-adba-86f0b763dbb1'}, 'last_edited_by': {'object': 'user', 'id': 'f2ce332b-8a03-4c31-adba-86f0b763dbb1'}, 'cover': None, 'icon': None, 'parent': {'type': 'database_id', 'database_id': '9c4b15b3-675d-4396-80c8-7cb3a1e50873'}, 'archived': False, 'properties': {'影片链接': {'id': '%3C%3AGD', 'type': 'url', 'url': 'https://movie.douban.com/subject/3217149/'}, '观看时间': {'id': 'Nmq%7C', 'type': 'date', 'date': {'start': '2021-01-21', 'end': None, 'time_zone': None}}, '类型': {'id': 'Tt%3BE', 'type': 'multi_select', 'multi_select': []}, '有啥想说的不': {'id': 'T%7DY%3B', 'type': 'rich_text', 'rich_text': []}, '评分': {'id': 'XQnP', 'type': 'select', 'select': None}, '封面': {'id': 'tSca', 'type': 'files', 'files': []}, '导演': {'id': 'wV%3AI', 'type': 'multi_select', 'multi_select': []}, '名称': {'id': 'title', 'type': 'title', 'title': [{'type': 'text', 'text': {'content': '忍者神龟：变种时代 / Teenage Mutant Ninja Turtles', 'link': None}, 'annotations': {'bold': False, 'italic': False, 'strikethrough': False, 'underline': False, 'code': False, 'color': 'default'}, 'plain_text': '忍者神龟：变种时代 / Teenage Mutant Ninja Turtles', 'href': None}]}}, 'url': 'https://www.notion.so/Teenage-Mutant-Ninja-Turtles-938d47b1c7814630a813f725d51cc560', 'public_url': 'https://sparklingdeng.notion.site/Teenage-Mutant-Ninja-Turtles-938d47b1c7814630a813f725d51cc560'}, {'object': 'page', 'id': '939ef795-f63e-4ac2-ac4e-7387fc9099c3', 'created_time': '2022-10-31T13:47:00.000Z', 'last_edited_time': '2022-10-31T13:47:00.000Z', 'created_by': {'object': 'user', 'id': 'f2ce332b-8a03-4c31-adba-86f0b763dbb1'}, 'last_edited_by': {'object': 'user', 'id': 'f2ce332b-8a03-4c31-adba-86f0b763dbb1'}, 'cover': None, 'icon': None, 'parent': {'type': 'database_id', 'database_id': '9c4b15b3-675d-4396-80c8-7cb3a1e50873'}, 'archived': False, 'properties': {'影片链接': {'id': '%3C%3AGD', 'type': 'url', 'url': 'https://movie.douban.com/subject/3274505/'}, '观看时间': {'id': 'Nmq%7C', 'type': 'date', 'date': {'start': '2021-01-21', 'end': None, 'time_zone': None}}, '类型': {'id': 'Tt%3BE', 'type': 'multi_select', 'multi_select': []}, '有啥想说的不': {'id': 'T%7DY%3B', 'type': 'rich_text', 'rich_text': []}, '评分': {'id': 'XQnP', 'type': 'select', 'select': None}, '封面': {'id': 'tSca', 'type': 'files', 'files': []}, '导演': {'id': 'wV%3AI', 'type': 'multi_select', 'multi_select': []}, '名称': {'id': 'title', 'type': 'title', 'title': [{'type': 'text', 'text': {'content': '猩球崛起 / Rise of the Planet of the Apes', 'link': None}, 'annotations': {'bold': False, 'italic': False, 'strikethrough': False, 'underline': False, 'code': False, 'color': 'default'}, 'plain_text': '猩球崛起 / Rise of the Planet of the Apes', 'href': None}]}}, 'url': 'https://www.notion.so/Rise-of-the-Planet-of-the-Apes-939ef795f63e4ac2ac4e7387fc9099c3', 'public_url': 'https://sparklingdeng.notion.site/Rise-of-the-Planet-of-the-Apes-939ef795f63e4ac2ac4e7387fc9099c3'}, {'object': 'page', 'id': '961f5d96-fd2a-42a9-93c6-db6a8d9d6612', 'created_time': '2022-10-31T13:47:00.000Z', 'last_edited_time': '2022-10-31T13:47:00.000Z', 'created_by': {'object': 'user', 'id': 'f2ce332b-8a03-4c31-adba-86f0b763dbb1'}, 'last_edited_by': {'object': 'user', 'id': 'f2ce332b-8a03-4c31-adba-86f0b763dbb1'}, 'cover': None, 'icon': None, 'parent': {'type': 'database_id', 'database_id': '9c4b15b3-675d-4396-80c8-7cb3a1e50873'}, 'archived': False, 'properties': {'影片链接': {'id': '%3C%3AGD', 'type': 'url', 'url': 'https://movie.douban.com/subject/23232876/'}, '观看时间': {'id': 'Nmq%7C', 'type': 'date', 'date': {'start': '2021-02-13', 'end': None, 'time_zone': None}}, '类型': {'id': 'Tt%3BE', 'type': 'multi_select', 'multi_select': []}, '有啥想说的不': {'id': 'T%7DY%3B', 'type': 'rich_text', 'rich_text': []}, '评分': {'id': 'XQnP', 'type': 'select', 'select': None}, '封面': {'id': 'tSca', 'type': 'files', 'files': []}, '导演': {'id': 'wV%3AI', 'type': 'multi_select', 'multi_select': []}, '名称': {'id': 'title', 'type': 'title', 'title': [{'type': 'text', 'text': {'content': '权力的游戏 第四季 / Game of Thrones Season 4', 'link': None}, 'annotations': {'bold': False, 'italic': False, 'strikethrough': False, 'underline': False, 'code': False, 'color': 'default'}, 'plain_text': '权力的游戏 第四季 / Game of Thrones Season 4', 'href': None}]}}, 'url': 'https://www.notion.so/Game-of-Thrones-Season-4-961f5d96fd2a42a993c6db6a8d9d6612', 'public_url': 'https://sparklingdeng.notion.site/Game-of-Thrones-Season-4-961f5d96fd2a42a993c6db6a8d9d6612'}, {'object': 'page', 'id': '97af7ced-e6aa-49d1-a53f-dbfe19b8524b', 'created_time': '2022-10-31T13:47:00.000Z', 'last_edited_time': '2022-10-31T13:47:00.000Z', 'created_by': {'object': 'user', 'id': 'f2ce332b-8a03-4c31-adba-86f0b763dbb1'}, 'last_edited_by': {'object': 'user', 'id': 'f2ce332b-8a03-4c31-adba-86f0b763dbb1'}, 'cover': None, 'icon': None, 'parent': {'type': 'database_id', 'database_id': '9c4b15b3-675d-4396-80c8-7cb3a1e50873'}, 'archived': False, 'properties': {'影片链接': {'id': '%3C%3AGD', 'type': 'url', 'url': 'https://movie.douban.com/subject/11526817/'}, '观看时间': {'id': 'Nmq%7C', 'type': 'date', 'date': {'start': '2021-01-21', 'end': None, 'time_zone': None}}, '类型': {'id': 'Tt%3BE', 'type': 'multi_select', 'multi_select': []}, '有啥想说的不': {'id': 'T%7DY%3B', 'type': 'rich_text', 'rich_text': []}, '评分': {'id': 'XQnP', 'type': 'select', 'select': None}, '封面': {'id': 'tSca', 'type': 'files', 'files': []}, '导演': {'id': 'wV%3AI', 'type': 'multi_select', 'multi_select': []}, '名称': {'id': 'title', 'type': 'title', 'title': [{'type': 'text', 'text': {'content': \"刺客信条 / Assassin's Creed\", 'link': None}, 'annotations': {'bold': False, 'italic': False, 'strikethrough': False, 'underline': False, 'code': False, 'color': 'default'}, 'plain_text': \"刺客信条 / Assassin's Creed\", 'href': None}]}}, 'url': 'https://www.notion.so/Assassin-s-Creed-97af7cede6aa49d1a53fdbfe19b8524b', 'public_url': 'https://sparklingdeng.notion.site/Assassin-s-Creed-97af7cede6aa49d1a53fdbfe19b8524b'}, {'object': 'page', 'id': '9965ce5d-4a31-47e4-a939-734ab0f42402', 'created_time': '2022-10-31T13:47:00.000Z', 'last_edited_time': '2022-10-31T13:47:00.000Z', 'created_by': {'object': 'user', 'id': 'f2ce332b-8a03-4c31-adba-86f0b763dbb1'}, 'last_edited_by': {'object': 'user', 'id': 'f2ce332b-8a03-4c31-adba-86f0b763dbb1'}, 'cover': None, 'icon': None, 'parent': {'type': 'database_id', 'database_id': '9c4b15b3-675d-4396-80c8-7cb3a1e50873'}, 'archived': False, 'properties': {'影片链接': {'id': '%3C%3AGD', 'type': 'url', 'url': 'https://movie.douban.com/subject/20451290/'}, '观看时间': {'id': 'Nmq%7C', 'type': 'date', 'date': {'start': '2021-01-21', 'end': None, 'time_zone': None}}, '类型': {'id': 'Tt%3BE', 'type': 'multi_select', 'multi_select': []}, '有啥想说的不': {'id': 'T%7DY%3B', 'type': 'rich_text', 'rich_text': []}, '评分': {'id': 'XQnP', 'type': 'select', 'select': None}, '封面': {'id': 'tSca', 'type': 'files', 'files': []}, '导演': {'id': 'wV%3AI', 'type': 'multi_select', 'multi_select': []}, '名称': {'id': 'title', 'type': 'title', 'title': [{'type': 'text', 'text': {'content': '新木乃伊 / The Mummy', 'link': None}, 'annotations': {'bold': False, 'italic': False, 'strikethrough': False, 'underline': False, 'code': False, 'color': 'default'}, 'plain_text': '新木乃伊 / The Mummy', 'href': None}]}}, 'url': 'https://www.notion.so/The-Mummy-9965ce5d4a3147e4a939734ab0f42402', 'public_url': 'https://sparklingdeng.notion.site/The-Mummy-9965ce5d4a3147e4a939734ab0f42402'}, {'object': 'page', 'id': '9fa10b92-8fdc-4ed5-97a5-466accb57829', 'created_time': '2022-10-31T13:47:00.000Z', 'last_edited_time': '2022-10-31T13:47:00.000Z', 'created_by': {'object': 'user', 'id': 'f2ce332b-8a03-4c31-adba-86f0b763dbb1'}, 'last_edited_by': {'object': 'user', 'id': 'f2ce332b-8a03-4c31-adba-86f0b763dbb1'}, 'cover': None, 'icon': None, 'parent': {'type': 'database_id', 'database_id': '9c4b15b3-675d-4396-80c8-7cb3a1e50873'}, 'archived': False, 'properties': {'影片链接': {'id': '%3C%3AGD', 'type': 'url', 'url': 'https://movie.douban.com/subject/10741834/'}, '观看时间': {'id': 'Nmq%7C', 'type': 'date', 'date': {'start': '2021-01-21', 'end': None, 'time_zone': None}}, '类型': {'id': 'Tt%3BE', 'type': 'multi_select', 'multi_select': []}, '有啥想说的不': {'id': 'T%7DY%3B', 'type': 'rich_text', 'rich_text': []}, '评分': {'id': 'XQnP', 'type': 'select', 'select': None}, '封面': {'id': 'tSca', 'type': 'files', 'files': []}, '导演': {'id': 'wV%3AI', 'type': 'multi_select', 'multi_select': []}, '名称': {'id': 'title', 'type': 'title', 'title': [{'type': 'text', 'text': {'content': '复仇者联盟2：奥创纪元 / Avengers: Age of Ultron', 'link': None}, 'annotations': {'bold': False, 'italic': False, 'strikethrough': False, 'underline': False, 'code': False, 'color': 'default'}, 'plain_text': '复仇者联盟2：奥创纪元 / Avengers: Age of Ultron', 'href': None}]}}, 'url': 'https://www.notion.so/2-Avengers-Age-of-Ultron-9fa10b928fdc4ed597a5466accb57829', 'public_url': 'https://sparklingdeng.notion.site/2-Avengers-Age-of-Ultron-9fa10b928fdc4ed597a5466accb57829'}, {'object': 'page', 'id': 'a300a05c-f1a9-4b17-8dea-3e899d9bdaf2', 'created_time': '2022-10-31T13:47:00.000Z', 'last_edited_time': '2022-10-31T13:47:00.000Z', 'created_by': {'object': 'user', 'id': 'f2ce332b-8a03-4c31-adba-86f0b763dbb1'}, 'last_edited_by': {'object': 'user', 'id': 'f2ce332b-8a03-4c31-adba-86f0b763dbb1'}, 'cover': None, 'icon': None, 'parent': {'type': 'database_id', 'database_id': '9c4b15b3-675d-4396-80c8-7cb3a1e50873'}, 'archived': False, 'properties': {'影片链接': {'id': '%3C%3AGD', 'type': 'url', 'url': 'https://movie.douban.com/subject/26794435/'}, '观看时间': {'id': 'Nmq%7C', 'type': 'date', 'date': {'start': '2021-01-21', 'end': None, 'time_zone': None}}, '类型': {'id': 'Tt%3BE', 'type': 'multi_select', 'multi_select': []}, '有啥想说的不': {'id': 'T%7DY%3B', 'type': 'rich_text', 'rich_text': []}, '评分': {'id': 'XQnP', 'type': 'select', 'select': None}, '封面': {'id': 'tSca', 'type': 'files', 'files': []}, '导演': {'id': 'wV%3AI', 'type': 'multi_select', 'multi_select': []}, '名称': {'id': 'title', 'type': 'title', 'title': [{'type': 'text', 'text': {'content': '哪吒之魔童降世', 'link': None}, 'annotations': {'bold': False, 'italic': False, 'strikethrough': False, 'underline': False, 'code': False, 'color': 'default'}, 'plain_text': '哪吒之魔童降世', 'href': None}]}}, 'url': 'https://www.notion.so/a300a05cf1a94b178dea3e899d9bdaf2', 'public_url': 'https://sparklingdeng.notion.site/a300a05cf1a94b178dea3e899d9bdaf2'}, {'object': 'page', 'id': 'a343f197-edd8-410c-a3e3-badc6f763af9', 'created_time': '2022-10-31T13:47:00.000Z', 'last_edited_time': '2022-10-31T13:47:00.000Z', 'created_by': {'object': 'user', 'id': 'f2ce332b-8a03-4c31-adba-86f0b763dbb1'}, 'last_edited_by': {'object': 'user', 'id': 'f2ce332b-8a03-4c31-adba-86f0b763dbb1'}, 'cover': None, 'icon': None, 'parent': {'type': 'database_id', 'database_id': '9c4b15b3-675d-4396-80c8-7cb3a1e50873'}, 'archived': False, 'properties': {'影片链接': {'id': '%3C%3AGD', 'type': 'url', 'url': 'https://movie.douban.com/subject/30378158/'}, '观看时间': {'id': 'Nmq%7C', 'type': 'date', 'date': {'start': '2021-09-20', 'end': None, 'time_zone': None}}, '类型': {'id': 'Tt%3BE', 'type': 'multi_select', 'multi_select': []}, '有啥想说的不': {'id': 'T%7DY%3B', 'type': 'rich_text', 'rich_text': []}, '评分': {'id': 'XQnP', 'type': 'select', 'select': None}, '封面': {'id': 'tSca', 'type': 'files', 'files': []}, '导演': {'id': 'wV%3AI', 'type': 'multi_select', 'multi_select': []}, '名称': {'id': 'title', 'type': 'title', 'title': [{'type': 'text', 'text': {'content': '秘密访客', 'link': None}, 'annotations': {'bold': False, 'italic': False, 'strikethrough': False, 'underline': False, 'code': False, 'color': 'default'}, 'plain_text': '秘密访客', 'href': None}]}}, 'url': 'https://www.notion.so/a343f197edd8410ca3e3badc6f763af9', 'public_url': 'https://sparklingdeng.notion.site/a343f197edd8410ca3e3badc6f763af9'}, {'object': 'page', 'id': 'a4c2fac7-0e70-4d08-b7c6-7d82e2aeaad9', 'created_time': '2022-10-31T13:47:00.000Z', 'last_edited_time': '2022-10-31T13:47:00.000Z', 'created_by': {'object': 'user', 'id': 'f2ce332b-8a03-4c31-adba-86f0b763dbb1'}, 'last_edited_by': {'object': 'user', 'id': 'f2ce332b-8a03-4c31-adba-86f0b763dbb1'}, 'cover': None, 'icon': None, 'parent': {'type': 'database_id', 'database_id': '9c4b15b3-675d-4396-80c8-7cb3a1e50873'}, 'archived': False, 'properties': {'影片链接': {'id': '%3C%3AGD', 'type': 'url', 'url': 'https://movie.douban.com/subject/3097572/'}, '观看时间': {'id': 'Nmq%7C', 'type': 'date', 'date': {'start': '2021-01-21', 'end': None, 'time_zone': None}}, '类型': {'id': 'Tt%3BE', 'type': 'multi_select', 'multi_select': []}, '有啥想说的不': {'id': 'T%7DY%3B', 'type': 'rich_text', 'rich_text': []}, '评分': {'id': 'XQnP', 'type': 'select', 'select': None}, '封面': {'id': 'tSca', 'type': 'files', 'files': []}, '导演': {'id': 'wV%3AI', 'type': 'multi_select', 'multi_select': []}, '名称': {'id': 'title', 'type': 'title', 'title': [{'type': 'text', 'text': {'content': '双子杀手 / Gemini Man', 'link': None}, 'annotations': {'bold': False, 'italic': False, 'strikethrough': False, 'underline': False, 'code': False, 'color': 'default'}, 'plain_text': '双子杀手 / Gemini Man', 'href': None}]}}, 'url': 'https://www.notion.so/Gemini-Man-a4c2fac70e704d08b7c67d82e2aeaad9', 'public_url': 'https://sparklingdeng.notion.site/Gemini-Man-a4c2fac70e704d08b7c67d82e2aeaad9'}, {'object': 'page', 'id': 'a73637d4-a37f-4985-9323-0b0c4c85f50f', 'created_time': '2022-10-31T13:47:00.000Z', 'last_edited_time': '2022-10-31T13:47:00.000Z', 'created_by': {'object': 'user', 'id': 'f2ce332b-8a03-4c31-adba-86f0b763dbb1'}, 'last_edited_by': {'object': 'user', 'id': 'f2ce332b-8a03-4c31-adba-86f0b763dbb1'}, 'cover': None, 'icon': None, 'parent': {'type': 'database_id', 'database_id': '9c4b15b3-675d-4396-80c8-7cb3a1e50873'}, 'archived': False, 'properties': {'影片链接': {'id': '%3C%3AGD', 'type': 'url', 'url': 'https://movie.douban.com/subject/10440138/'}, '观看时间': {'id': 'Nmq%7C', 'type': 'date', 'date': {'start': '2021-01-21', 'end': None, 'time_zone': None}}, '类型': {'id': 'Tt%3BE', 'type': 'multi_select', 'multi_select': []}, '有啥想说的不': {'id': 'T%7DY%3B', 'type': 'rich_text', 'rich_text': []}, '评分': {'id': 'XQnP', 'type': 'select', 'select': None}, '封面': {'id': 'tSca', 'type': 'files', 'files': []}, '导演': {'id': 'wV%3AI', 'type': 'multi_select', 'multi_select': []}, '名称': {'id': 'title', 'type': 'title', 'title': [{'type': 'text', 'text': {'content': '侏罗纪世界 / Jurassic World', 'link': None}, 'annotations': {'bold': False, 'italic': False, 'strikethrough': False, 'underline': False, 'code': False, 'color': 'default'}, 'plain_text': '侏罗纪世界 / Jurassic World', 'href': None}]}}, 'url': 'https://www.notion.so/Jurassic-World-a73637d4a37f498593230b0c4c85f50f', 'public_url': 'https://sparklingdeng.notion.site/Jurassic-World-a73637d4a37f498593230b0c4c85f50f'}, {'object': 'page', 'id': 'a80bd45d-d43c-4b5f-bde1-ccf6311b5814', 'created_time': '2022-10-31T13:47:00.000Z', 'last_edited_time': '2022-10-31T13:47:00.000Z', 'created_by': {'object': 'user', 'id': 'f2ce332b-8a03-4c31-adba-86f0b763dbb1'}, 'last_edited_by': {'object': 'user', 'id': 'f2ce332b-8a03-4c31-adba-86f0b763dbb1'}, 'cover': None, 'icon': None, 'parent': {'type': 'database_id', 'database_id': '9c4b15b3-675d-4396-80c8-7cb3a1e50873'}, 'archived': False, 'properties': {'影片链接': {'id': '%3C%3AGD', 'type': 'url', 'url': 'https://movie.douban.com/subject/3878007/'}, '观看时间': {'id': 'Nmq%7C', 'type': 'date', 'date': {'start': '2021-01-21', 'end': None, 'time_zone': None}}, '类型': {'id': 'Tt%3BE', 'type': 'multi_select', 'multi_select': []}, '有啥想说的不': {'id': 'T%7DY%3B', 'type': 'rich_text', 'rich_text': []}, '评分': {'id': 'XQnP', 'type': 'select', 'select': None}, '封面': {'id': 'tSca', 'type': 'files', 'files': []}, '导演': {'id': 'wV%3AI', 'type': 'multi_select', 'multi_select': []}, '名称': {'id': 'title', 'type': 'title', 'title': [{'type': 'text', 'text': {'content': '海王 / Aquaman', 'link': None}, 'annotations': {'bold': False, 'italic': False, 'strikethrough': False, 'underline': False, 'code': False, 'color': 'default'}, 'plain_text': '海王 / Aquaman', 'href': None}]}}, 'url': 'https://www.notion.so/Aquaman-a80bd45dd43c4b5fbde1ccf6311b5814', 'public_url': 'https://sparklingdeng.notion.site/Aquaman-a80bd45dd43c4b5fbde1ccf6311b5814'}, {'object': 'page', 'id': 'a855a83d-66a1-4b88-8784-e03d48664aa5', 'created_time': '2022-10-31T13:47:00.000Z', 'last_edited_time': '2022-10-31T13:47:00.000Z', 'created_by': {'object': 'user', 'id': 'f2ce332b-8a03-4c31-adba-86f0b763dbb1'}, 'last_edited_by': {'object': 'user', 'id': 'f2ce332b-8a03-4c31-adba-86f0b763dbb1'}, 'cover': None, 'icon': None, 'parent': {'type': 'database_id', 'database_id': '9c4b15b3-675d-4396-80c8-7cb3a1e50873'}, 'archived': False, 'properties': {'影片链接': {'id': '%3C%3AGD', 'type': 'url', 'url': 'https://movie.douban.com/subject/6390823/'}, '观看时间': {'id': 'Nmq%7C', 'type': 'date', 'date': {'start': '2021-01-21', 'end': None, 'time_zone': None}}, '类型': {'id': 'Tt%3BE', 'type': 'multi_select', 'multi_select': []}, '有啥想说的不': {'id': 'T%7DY%3B', 'type': 'rich_text', 'rich_text': []}, '评分': {'id': 'XQnP', 'type': 'select', 'select': None}, '封面': {'id': 'tSca', 'type': 'files', 'files': []}, '导演': {'id': 'wV%3AI', 'type': 'multi_select', 'multi_select': []}, '名称': {'id': 'title', 'type': 'title', 'title': [{'type': 'text', 'text': {'content': '美国队长2 / Captain America: The Winter Soldier', 'link': None}, 'annotations': {'bold': False, 'italic': False, 'strikethrough': False, 'underline': False, 'code': False, 'color': 'default'}, 'plain_text': '美国队长2 / Captain America: The Winter Soldier', 'href': None}]}}, 'url': 'https://www.notion.so/2-Captain-America-The-Winter-Soldier-a855a83d66a14b888784e03d48664aa5', 'public_url': 'https://sparklingdeng.notion.site/2-Captain-America-The-Winter-Soldier-a855a83d66a14b888784e03d48664aa5'}, {'object': 'page', 'id': 'abe86018-c87b-4714-909d-08b563ff2a45', 'created_time': '2022-10-31T13:47:00.000Z', 'last_edited_time': '2022-10-31T13:47:00.000Z', 'created_by': {'object': 'user', 'id': 'f2ce332b-8a03-4c31-adba-86f0b763dbb1'}, 'last_edited_by': {'object': 'user', 'id': 'f2ce332b-8a03-4c31-adba-86f0b763dbb1'}, 'cover': None, 'icon': None, 'parent': {'type': 'database_id', 'database_id': '9c4b15b3-675d-4396-80c8-7cb3a1e50873'}, 'archived': False, 'properties': {'影片链接': {'id': '%3C%3AGD', 'type': 'url', 'url': 'https://movie.douban.com/subject/26147417/'}, '观看时间': {'id': 'Nmq%7C', 'type': 'date', 'date': {'start': '2021-01-21', 'end': None, 'time_zone': None}}, '类型': {'id': 'Tt%3BE', 'type': 'multi_select', 'multi_select': []}, '有啥想说的不': {'id': 'T%7DY%3B', 'type': 'rich_text', 'rich_text': []}, '评分': {'id': 'XQnP', 'type': 'select', 'select': None}, '封面': {'id': 'tSca', 'type': 'files', 'files': []}, '导演': {'id': 'wV%3AI', 'type': 'multi_select', 'multi_select': []}, '名称': {'id': 'title', 'type': 'title', 'title': [{'type': 'text', 'text': {'content': '神奇动物：格林德沃之罪 / Fantastic Beasts: The Crimes of Grind...', 'link': None}, 'annotations': {'bold': False, 'italic': False, 'strikethrough': False, 'underline': False, 'code': False, 'color': 'default'}, 'plain_text': '神奇动物：格林德沃之罪 / Fantastic Beasts: The Crimes of Grind...', 'href': None}]}}, 'url': 'https://www.notion.so/Fantastic-Beasts-The-Crimes-of-Grind-abe86018c87b4714909d08b563ff2a45', 'public_url': 'https://sparklingdeng.notion.site/Fantastic-Beasts-The-Crimes-of-Grind-abe86018c87b4714909d08b563ff2a45'}, {'object': 'page', 'id': 'acc08693-0152-49d4-8df8-c3ebdca71fca', 'created_time': '2022-10-31T13:47:00.000Z', 'last_edited_time': '2022-10-31T13:47:00.000Z', 'created_by': {'object': 'user', 'id': 'f2ce332b-8a03-4c31-adba-86f0b763dbb1'}, 'last_edited_by': {'object': 'user', 'id': 'f2ce332b-8a03-4c31-adba-86f0b763dbb1'}, 'cover': None, 'icon': None, 'parent': {'type': 'database_id', 'database_id': '9c4b15b3-675d-4396-80c8-7cb3a1e50873'}, 'archived': False, 'properties': {'影片链接': {'id': '%3C%3AGD', 'type': 'url', 'url': 'https://movie.douban.com/subject/26931786/'}, '观看时间': {'id': 'Nmq%7C', 'type': 'date', 'date': {'start': '2021-01-21', 'end': None, 'time_zone': None}}, '类型': {'id': 'Tt%3BE', 'type': 'multi_select', 'multi_select': []}, '有啥想说的不': {'id': 'T%7DY%3B', 'type': 'rich_text', 'rich_text': []}, '评分': {'id': 'XQnP', 'type': 'select', 'select': None}, '封面': {'id': 'tSca', 'type': 'files', 'files': []}, '导演': {'id': 'wV%3AI', 'type': 'multi_select', 'multi_select': []}, '名称': {'id': 'title', 'type': 'title', 'title': [{'type': 'text', 'text': {'content': '蜘蛛侠：英雄远征 / Spider-Man: Far from Home', 'link': None}, 'annotations': {'bold': False, 'italic': False, 'strikethrough': False, 'underline': False, 'code': False, 'color': 'default'}, 'plain_text': '蜘蛛侠：英雄远征 / Spider-Man: Far from Home', 'href': None}]}}, 'url': 'https://www.notion.so/Spider-Man-Far-from-Home-acc08693015249d48df8c3ebdca71fca', 'public_url': 'https://sparklingdeng.notion.site/Spider-Man-Far-from-Home-acc08693015249d48df8c3ebdca71fca'}, {'object': 'page', 'id': 'ae2df5ce-e1fb-4649-a779-96093733a65c', 'created_time': '2022-10-31T13:47:00.000Z', 'last_edited_time': '2022-10-31T13:47:00.000Z', 'created_by': {'object': 'user', 'id': 'f2ce332b-8a03-4c31-adba-86f0b763dbb1'}, 'last_edited_by': {'object': 'user', 'id': 'f2ce332b-8a03-4c31-adba-86f0b763dbb1'}, 'cover': None, 'icon': None, 'parent': {'type': 'database_id', 'database_id': '9c4b15b3-675d-4396-80c8-7cb3a1e50873'}, 'archived': False, 'properties': {'影片链接': {'id': '%3C%3AGD', 'type': 'url', 'url': 'https://movie.douban.com/subject/27163278/'}, '观看时间': {'id': 'Nmq%7C', 'type': 'date', 'date': {'start': '2021-01-21', 'end': None, 'time_zone': None}}, '类型': {'id': 'Tt%3BE', 'type': 'multi_select', 'multi_select': []}, '有啥想说的不': {'id': 'T%7DY%3B', 'type': 'rich_text', 'rich_text': []}, '评分': {'id': 'XQnP', 'type': 'select', 'select': None}, '封面': {'id': 'tSca', 'type': 'files', 'files': []}, '导演': {'id': 'wV%3AI', 'type': 'multi_select', 'multi_select': []}, '名称': {'id': 'title', 'type': 'title', 'title': [{'type': 'text', 'text': {'content': '速度与激情：特别行动 / Fast & Furious Presents: Hobbs & Shaw', 'link': None}, 'annotations': {'bold': False, 'italic': False, 'strikethrough': False, 'underline': False, 'code': False, 'color': 'default'}, 'plain_text': '速度与激情：特别行动 / Fast & Furious Presents: Hobbs & Shaw', 'href': None}]}}, 'url': 'https://www.notion.so/Fast-Furious-Presents-Hobbs-Shaw-ae2df5cee1fb4649a77996093733a65c', 'public_url': 'https://sparklingdeng.notion.site/Fast-Furious-Presents-Hobbs-Shaw-ae2df5cee1fb4649a77996093733a65c'}, {'object': 'page', 'id': 'b0017804-f9ad-4667-ac52-0ef48174efa1', 'created_time': '2022-10-31T13:47:00.000Z', 'last_edited_time': '2022-10-31T13:47:00.000Z', 'created_by': {'object': 'user', 'id': 'f2ce332b-8a03-4c31-adba-86f0b763dbb1'}, 'last_edited_by': {'object': 'user', 'id': 'f2ce332b-8a03-4c31-adba-86f0b763dbb1'}, 'cover': None, 'icon': None, 'parent': {'type': 'database_id', 'database_id': '9c4b15b3-675d-4396-80c8-7cb3a1e50873'}, 'archived': False, 'properties': {'影片链接': {'id': '%3C%3AGD', 'type': 'url', 'url': 'https://movie.douban.com/subject/2146991/'}, '观看时间': {'id': 'Nmq%7C', 'type': 'date', 'date': {'start': '2021-01-21', 'end': None, 'time_zone': None}}, '类型': {'id': 'Tt%3BE', 'type': 'multi_select', 'multi_select': []}, '有啥想说的不': {'id': 'T%7DY%3B', 'type': 'rich_text', 'rich_text': []}, '评分': {'id': 'XQnP', 'type': 'select', 'select': None}, '封面': {'id': 'tSca', 'type': 'files', 'files': []}, '导演': {'id': 'wV%3AI', 'type': 'multi_select', 'multi_select': []}, '名称': {'id': 'title', 'type': 'title', 'title': [{'type': 'text', 'text': {'content': '变形金刚2 / Transformers: Revenge of the Fallen', 'link': None}, 'annotations': {'bold': False, 'italic': False, 'strikethrough': False, 'underline': False, 'code': False, 'color': 'default'}, 'plain_text': '变形金刚2 / Transformers: Revenge of the Fallen', 'href': None}]}}, 'url': 'https://www.notion.so/2-Transformers-Revenge-of-the-Fallen-b0017804f9ad4667ac520ef48174efa1', 'public_url': 'https://sparklingdeng.notion.site/2-Transformers-Revenge-of-the-Fallen-b0017804f9ad4667ac520ef48174efa1'}, {'object': 'page', 'id': 'b08964ce-1888-4565-a4ba-cbe25a3f198e', 'created_time': '2022-10-31T13:47:00.000Z', 'last_edited_time': '2022-10-31T13:47:00.000Z', 'created_by': {'object': 'user', 'id': 'f2ce332b-8a03-4c31-adba-86f0b763dbb1'}, 'last_edited_by': {'object': 'user', 'id': 'f2ce332b-8a03-4c31-adba-86f0b763dbb1'}, 'cover': None, 'icon': None, 'parent': {'type': 'database_id', 'database_id': '9c4b15b3-675d-4396-80c8-7cb3a1e50873'}, 'archived': False, 'properties': {'影片链接': {'id': '%3C%3AGD', 'type': 'url', 'url': 'https://movie.douban.com/subject/6517421/'}, '观看时间': {'id': 'Nmq%7C', 'type': 'date', 'date': {'start': '2021-01-21', 'end': None, 'time_zone': None}}, '类型': {'id': 'Tt%3BE', 'type': 'multi_select', 'multi_select': []}, '有啥想说的不': {'id': 'T%7DY%3B', 'type': 'rich_text', 'rich_text': []}, '评分': {'id': 'XQnP', 'type': 'select', 'select': None}, '封面': {'id': 'tSca', 'type': 'files', 'files': []}, '导演': {'id': 'wV%3AI', 'type': 'multi_select', 'multi_select': []}, '名称': {'id': 'title', 'type': 'title', 'title': [{'type': 'text', 'text': {'content': '惊天魔盗团 / Now You See Me', 'link': None}, 'annotations': {'bold': False, 'italic': False, 'strikethrough': False, 'underline': False, 'code': False, 'color': 'default'}, 'plain_text': '惊天魔盗团 / Now You See Me', 'href': None}]}}, 'url': 'https://www.notion.so/Now-You-See-Me-b08964ce18884565a4bacbe25a3f198e', 'public_url': 'https://sparklingdeng.notion.site/Now-You-See-Me-b08964ce18884565a4bacbe25a3f198e'}, {'object': 'page', 'id': 'bf534346-8df9-463c-9105-36c1a92ed480', 'created_time': '2022-10-31T13:47:00.000Z', 'last_edited_time': '2022-10-31T13:47:00.000Z', 'created_by': {'object': 'user', 'id': 'f2ce332b-8a03-4c31-adba-86f0b763dbb1'}, 'last_edited_by': {'object': 'user', 'id': 'f2ce332b-8a03-4c31-adba-86f0b763dbb1'}, 'cover': None, 'icon': None, 'parent': {'type': 'database_id', 'database_id': '9c4b15b3-675d-4396-80c8-7cb3a1e50873'}, 'archived': False, 'properties': {'影片链接': {'id': '%3C%3AGD', 'type': 'url', 'url': 'https://movie.douban.com/subject/25864085/'}, '观看时间': {'id': 'Nmq%7C', 'type': 'date', 'date': {'start': '2021-01-21', 'end': None, 'time_zone': None}}, '类型': {'id': 'Tt%3BE', 'type': 'multi_select', 'multi_select': []}, '有啥想说的不': {'id': 'T%7DY%3B', 'type': 'rich_text', 'rich_text': []}, '评分': {'id': 'XQnP', 'type': 'select', 'select': None}, '封面': {'id': 'tSca', 'type': 'files', 'files': []}, '导演': {'id': 'wV%3AI', 'type': 'multi_select', 'multi_select': []}, '名称': {'id': 'title', 'type': 'title', 'title': [{'type': 'text', 'text': {'content': '火星救援 / The Martian', 'link': None}, 'annotations': {'bold': False, 'italic': False, 'strikethrough': False, 'underline': False, 'code': False, 'color': 'default'}, 'plain_text': '火星救援 / The Martian', 'href': None}]}}, 'url': 'https://www.notion.so/The-Martian-bf5343468df9463c910536c1a92ed480', 'public_url': 'https://sparklingdeng.notion.site/The-Martian-bf5343468df9463c910536c1a92ed480'}, {'object': 'page', 'id': 'c3553683-23ff-46fb-a712-5a91a6aac4a9', 'created_time': '2022-10-31T13:47:00.000Z', 'last_edited_time': '2022-10-31T13:47:00.000Z', 'created_by': {'object': 'user', 'id': 'f2ce332b-8a03-4c31-adba-86f0b763dbb1'}, 'last_edited_by': {'object': 'user', 'id': 'f2ce332b-8a03-4c31-adba-86f0b763dbb1'}, 'cover': None, 'icon': None, 'parent': {'type': 'database_id', 'database_id': '9c4b15b3-675d-4396-80c8-7cb3a1e50873'}, 'archived': False, 'properties': {'影片链接': {'id': '%3C%3AGD', 'type': 'url', 'url': 'https://movie.douban.com/subject/26861685/'}, '观看时间': {'id': 'Nmq%7C', 'type': 'date', 'date': {'start': '2021-01-21', 'end': None, 'time_zone': None}}, '类型': {'id': 'Tt%3BE', 'type': 'multi_select', 'multi_select': []}, '有啥想说的不': {'id': 'T%7DY%3B', 'type': 'rich_text', 'rich_text': []}, '评分': {'id': 'XQnP', 'type': 'select', 'select': None}, '封面': {'id': 'tSca', 'type': 'files', 'files': []}, '导演': {'id': 'wV%3AI', 'type': 'multi_select', 'multi_select': []}, '名称': {'id': 'title', 'type': 'title', 'title': [{'type': 'text', 'text': {'content': '红海行动', 'link': None}, 'annotations': {'bold': False, 'italic': False, 'strikethrough': False, 'underline': False, 'code': False, 'color': 'default'}, 'plain_text': '红海行动', 'href': None}]}}, 'url': 'https://www.notion.so/c355368323ff46fba7125a91a6aac4a9', 'public_url': 'https://sparklingdeng.notion.site/c355368323ff46fba7125a91a6aac4a9'}, {'object': 'page', 'id': 'c36e608d-894d-4f9a-b7b9-98f0a8b81ae8', 'created_time': '2022-10-31T13:47:00.000Z', 'last_edited_time': '2022-10-31T13:47:00.000Z', 'created_by': {'object': 'user', 'id': 'f2ce332b-8a03-4c31-adba-86f0b763dbb1'}, 'last_edited_by': {'object': 'user', 'id': 'f2ce332b-8a03-4c31-adba-86f0b763dbb1'}, 'cover': None, 'icon': None, 'parent': {'type': 'database_id', 'database_id': '9c4b15b3-675d-4396-80c8-7cb3a1e50873'}, 'archived': False, 'properties': {'影片链接': {'id': '%3C%3AGD', 'type': 'url', 'url': 'https://movie.douban.com/subject/4286017/'}, '观看时间': {'id': 'Nmq%7C', 'type': 'date', 'date': {'start': '2021-01-21', 'end': None, 'time_zone': None}}, '类型': {'id': 'Tt%3BE', 'type': 'multi_select', 'multi_select': []}, '有啥想说的不': {'id': 'T%7DY%3B', 'type': 'rich_text', 'rich_text': []}, '评分': {'id': 'XQnP', 'type': 'select', 'select': None}, '封面': {'id': 'tSca', 'type': 'files', 'files': []}, '导演': {'id': 'wV%3AI', 'type': 'multi_select', 'multi_select': []}, '名称': {'id': 'title', 'type': 'title', 'title': [{'type': 'text', 'text': {'content': '速度与激情5 / Fast Five', 'link': None}, 'annotations': {'bold': False, 'italic': False, 'strikethrough': False, 'underline': False, 'code': False, 'color': 'default'}, 'plain_text': '速度与激情5 / Fast Five', 'href': None}]}}, 'url': 'https://www.notion.so/5-Fast-Five-c36e608d894d4f9ab7b998f0a8b81ae8', 'public_url': 'https://sparklingdeng.notion.site/5-Fast-Five-c36e608d894d4f9ab7b998f0a8b81ae8'}, {'object': 'page', 'id': 'c5f9c4ab-dcd3-4540-bbbb-649c23d79337', 'created_time': '2022-10-31T13:47:00.000Z', 'last_edited_time': '2022-10-31T13:47:00.000Z', 'created_by': {'object': 'user', 'id': 'f2ce332b-8a03-4c31-adba-86f0b763dbb1'}, 'last_edited_by': {'object': 'user', 'id': 'f2ce332b-8a03-4c31-adba-86f0b763dbb1'}, 'cover': None, 'icon': None, 'parent': {'type': 'database_id', 'database_id': '9c4b15b3-675d-4396-80c8-7cb3a1e50873'}, 'archived': False, 'properties': {'影片链接': {'id': '%3C%3AGD', 'type': 'url', 'url': 'https://movie.douban.com/subject/32659890/'}, '观看时间': {'id': 'Nmq%7C', 'type': 'date', 'date': {'start': '2021-09-20', 'end': None, 'time_zone': None}}, '类型': {'id': 'Tt%3BE', 'type': 'multi_select', 'multi_select': []}, '有啥想说的不': {'id': 'T%7DY%3B', 'type': 'rich_text', 'rich_text': []}, '评分': {'id': 'XQnP', 'type': 'select', 'select': None}, '封面': {'id': 'tSca', 'type': 'files', 'files': []}, '导演': {'id': 'wV%3AI', 'type': 'multi_select', 'multi_select': []}, '名称': {'id': 'title', 'type': 'title', 'title': [{'type': 'text', 'text': {'content': '我和我的祖国', 'link': None}, 'annotations': {'bold': False, 'italic': False, 'strikethrough': False, 'underline': False, 'code': False, 'color': 'default'}, 'plain_text': '我和我的祖国', 'href': None}]}}, 'url': 'https://www.notion.so/c5f9c4abdcd34540bbbb649c23d79337', 'public_url': 'https://sparklingdeng.notion.site/c5f9c4abdcd34540bbbb649c23d79337'}, {'object': 'page', 'id': 'c696158d-94d4-4ea8-9102-a886048a15a5', 'created_time': '2022-10-31T13:47:00.000Z', 'last_edited_time': '2022-10-31T13:47:00.000Z', 'created_by': {'object': 'user', 'id': 'f2ce332b-8a03-4c31-adba-86f0b763dbb1'}, 'last_edited_by': {'object': 'user', 'id': 'f2ce332b-8a03-4c31-adba-86f0b763dbb1'}, 'cover': None, 'icon': None, 'parent': {'type': 'database_id', 'database_id': '9c4b15b3-675d-4396-80c8-7cb3a1e50873'}, 'archived': False, 'properties': {'影片链接': {'id': '%3C%3AGD', 'type': 'url', 'url': 'https://movie.douban.com/subject/26929010/'}, '观看时间': {'id': 'Nmq%7C', 'type': 'date', 'date': {'start': '2021-09-20', 'end': None, 'time_zone': None}}, '类型': {'id': 'Tt%3BE', 'type': 'multi_select', 'multi_select': []}, '有啥想说的不': {'id': 'T%7DY%3B', 'type': 'rich_text', 'rich_text': []}, '评分': {'id': 'XQnP', 'type': 'select', 'select': None}, '封面': {'id': 'tSca', 'type': 'files', 'files': []}, '导演': {'id': 'wV%3AI', 'type': 'multi_select', 'multi_select': []}, '名称': {'id': 'title', 'type': 'title', 'title': [{'type': 'text', 'text': {'content': '雪人奇缘 / Abominable', 'link': None}, 'annotations': {'bold': False, 'italic': False, 'strikethrough': False, 'underline': False, 'code': False, 'color': 'default'}, 'plain_text': '雪人奇缘 / Abominable', 'href': None}]}}, 'url': 'https://www.notion.so/Abominable-c696158d94d44ea89102a886048a15a5', 'public_url': 'https://sparklingdeng.notion.site/Abominable-c696158d94d44ea89102a886048a15a5'}, {'object': 'page', 'id': 'c7598c65-5fc7-48cd-b6a8-7986d34744af', 'created_time': '2022-10-31T13:47:00.000Z', 'last_edited_time': '2022-10-31T13:47:00.000Z', 'created_by': {'object': 'user', 'id': 'f2ce332b-8a03-4c31-adba-86f0b763dbb1'}, 'last_edited_by': {'object': 'user', 'id': 'f2ce332b-8a03-4c31-adba-86f0b763dbb1'}, 'cover': None, 'icon': None, 'parent': {'type': 'database_id', 'database_id': '9c4b15b3-675d-4396-80c8-7cb3a1e50873'}, 'archived': False, 'properties': {'影片链接': {'id': '%3C%3AGD', 'type': 'url', 'url': 'https://movie.douban.com/subject/3025375/'}, '观看时间': {'id': 'Nmq%7C', 'type': 'date', 'date': {'start': '2021-01-21', 'end': None, 'time_zone': None}}, '类型': {'id': 'Tt%3BE', 'type': 'multi_select', 'multi_select': []}, '有啥想说的不': {'id': 'T%7DY%3B', 'type': 'rich_text', 'rich_text': []}, '评分': {'id': 'XQnP', 'type': 'select', 'select': None}, '封面': {'id': 'tSca', 'type': 'files', 'files': []}, '导演': {'id': 'wV%3AI', 'type': 'multi_select', 'multi_select': []}, '名称': {'id': 'title', 'type': 'title', 'title': [{'type': 'text', 'text': {'content': '奇异博士 / Doctor Strange', 'link': None}, 'annotations': {'bold': False, 'italic': False, 'strikethrough': False, 'underline': False, 'code': False, 'color': 'default'}, 'plain_text': '奇异博士 / Doctor Strange', 'href': None}]}}, 'url': 'https://www.notion.so/Doctor-Strange-c7598c655fc748cdb6a87986d34744af', 'public_url': 'https://sparklingdeng.notion.site/Doctor-Strange-c7598c655fc748cdb6a87986d34744af'}, {'object': 'page', 'id': 'c7cea80b-2a69-479d-af80-f4e54c670c3d', 'created_time': '2022-10-31T13:47:00.000Z', 'last_edited_time': '2022-10-31T13:47:00.000Z', 'created_by': {'object': 'user', 'id': 'f2ce332b-8a03-4c31-adba-86f0b763dbb1'}, 'last_edited_by': {'object': 'user', 'id': 'f2ce332b-8a03-4c31-adba-86f0b763dbb1'}, 'cover': None, 'icon': None, 'parent': {'type': 'database_id', 'database_id': '9c4b15b3-675d-4396-80c8-7cb3a1e50873'}, 'archived': False, 'properties': {'影片链接': {'id': '%3C%3AGD', 'type': 'url', 'url': 'https://movie.douban.com/subject/2131940/'}, '观看时间': {'id': 'Nmq%7C', 'type': 'date', 'date': {'start': '2021-01-21', 'end': None, 'time_zone': None}}, '类型': {'id': 'Tt%3BE', 'type': 'multi_select', 'multi_select': []}, '有啥想说的不': {'id': 'T%7DY%3B', 'type': 'rich_text', 'rich_text': []}, '评分': {'id': 'XQnP', 'type': 'select', 'select': None}, '封面': {'id': 'tSca', 'type': 'files', 'files': []}, '导演': {'id': 'wV%3AI', 'type': 'multi_select', 'multi_select': []}, '名称': {'id': 'title', 'type': 'title', 'title': [{'type': 'text', 'text': {'content': '魔兽 / Warcraft', 'link': None}, 'annotations': {'bold': False, 'italic': False, 'strikethrough': False, 'underline': False, 'code': False, 'color': 'default'}, 'plain_text': '魔兽 / Warcraft', 'href': None}]}}, 'url': 'https://www.notion.so/Warcraft-c7cea80b2a69479daf80f4e54c670c3d', 'public_url': 'https://sparklingdeng.notion.site/Warcraft-c7cea80b2a69479daf80f4e54c670c3d'}, {'object': 'page', 'id': 'c9854e8b-4b9a-4d43-a213-6443839b7687', 'created_time': '2022-10-31T13:47:00.000Z', 'last_edited_time': '2022-10-31T13:47:00.000Z', 'created_by': {'object': 'user', 'id': 'f2ce332b-8a03-4c31-adba-86f0b763dbb1'}, 'last_edited_by': {'object': 'user', 'id': 'f2ce332b-8a03-4c31-adba-86f0b763dbb1'}, 'cover': None, 'icon': None, 'parent': {'type': 'database_id', 'database_id': '9c4b15b3-675d-4396-80c8-7cb3a1e50873'}, 'archived': False, 'properties': {'影片链接': {'id': '%3C%3AGD', 'type': 'url', 'url': 'https://movie.douban.com/subject/7054604/'}, '观看时间': {'id': 'Nmq%7C', 'type': 'date', 'date': {'start': '2021-01-21', 'end': None, 'time_zone': None}}, '类型': {'id': 'Tt%3BE', 'type': 'multi_select', 'multi_select': []}, '有啥想说的不': {'id': 'T%7DY%3B', 'type': 'rich_text', 'rich_text': []}, '评分': {'id': 'XQnP', 'type': 'select', 'select': None}, '封面': {'id': 'tSca', 'type': 'files', 'files': []}, '导演': {'id': 'wV%3AI', 'type': 'multi_select', 'multi_select': []}, '名称': {'id': 'title', 'type': 'title', 'title': [{'type': 'text', 'text': {'content': '变形金刚4：绝迹重生 / Transformers: Age of Extinction', 'link': None}, 'annotations': {'bold': False, 'italic': False, 'strikethrough': False, 'underline': False, 'code': False, 'color': 'default'}, 'plain_text': '变形金刚4：绝迹重生 / Transformers: Age of Extinction', 'href': None}]}}, 'url': 'https://www.notion.so/4-Transformers-Age-of-Extinction-c9854e8b4b9a4d43a2136443839b7687', 'public_url': 'https://sparklingdeng.notion.site/4-Transformers-Age-of-Extinction-c9854e8b4b9a4d43a2136443839b7687'}, {'object': 'page', 'id': 'ca1f3dbc-98e7-47c0-a736-c08c14c062ae', 'created_time': '2022-10-31T13:47:00.000Z', 'last_edited_time': '2022-10-31T13:47:00.000Z', 'created_by': {'object': 'user', 'id': 'f2ce332b-8a03-4c31-adba-86f0b763dbb1'}, 'last_edited_by': {'object': 'user', 'id': 'f2ce332b-8a03-4c31-adba-86f0b763dbb1'}, 'cover': None, 'icon': None, 'parent': {'type': 'database_id', 'database_id': '9c4b15b3-675d-4396-80c8-7cb3a1e50873'}, 'archived': False, 'properties': {'影片链接': {'id': '%3C%3AGD', 'type': 'url', 'url': 'https://movie.douban.com/subject/10590706/'}, '观看时间': {'id': 'Nmq%7C', 'type': 'date', 'date': {'start': '2021-02-13', 'end': None, 'time_zone': None}}, '类型': {'id': 'Tt%3BE', 'type': 'multi_select', 'multi_select': []}, '有啥想说的不': {'id': 'T%7DY%3B', 'type': 'rich_text', 'rich_text': []}, '评分': {'id': 'XQnP', 'type': 'select', 'select': None}, '封面': {'id': 'tSca', 'type': 'files', 'files': []}, '导演': {'id': 'wV%3AI', 'type': 'multi_select', 'multi_select': []}, '名称': {'id': 'title', 'type': 'title', 'title': [{'type': 'text', 'text': {'content': '权力的游戏 第三季 / Game of Thrones Season 3', 'link': None}, 'annotations': {'bold': False, 'italic': False, 'strikethrough': False, 'underline': False, 'code': False, 'color': 'default'}, 'plain_text': '权力的游戏 第三季 / Game of Thrones Season 3', 'href': None}]}}, 'url': 'https://www.notion.so/Game-of-Thrones-Season-3-ca1f3dbc98e747c0a736c08c14c062ae', 'public_url': 'https://sparklingdeng.notion.site/Game-of-Thrones-Season-3-ca1f3dbc98e747c0a736c08c14c062ae'}, {'object': 'page', 'id': 'ccbea1bf-a8f5-40a0-a42b-5e9ee5db0269', 'created_time': '2022-10-31T13:47:00.000Z', 'last_edited_time': '2022-10-31T13:47:00.000Z', 'created_by': {'object': 'user', 'id': 'f2ce332b-8a03-4c31-adba-86f0b763dbb1'}, 'last_edited_by': {'object': 'user', 'id': 'f2ce332b-8a03-4c31-adba-86f0b763dbb1'}, 'cover': None, 'icon': None, 'parent': {'type': 'database_id', 'database_id': '9c4b15b3-675d-4396-80c8-7cb3a1e50873'}, 'archived': False, 'properties': {'影片链接': {'id': '%3C%3AGD', 'type': 'url', 'url': 'https://movie.douban.com/subject/6560058/'}, '观看时间': {'id': 'Nmq%7C', 'type': 'date', 'date': {'start': '2021-01-21', 'end': None, 'time_zone': None}}, '类型': {'id': 'Tt%3BE', 'type': 'multi_select', 'multi_select': []}, '有啥想说的不': {'id': 'T%7DY%3B', 'type': 'rich_text', 'rich_text': []}, '评分': {'id': 'XQnP', 'type': 'select', 'select': None}, '封面': {'id': 'tSca', 'type': 'files', 'files': []}, '导演': {'id': 'wV%3AI', 'type': 'multi_select', 'multi_select': []}, '名称': {'id': 'title', 'type': 'title', 'title': [{'type': 'text', 'text': {'content': '雷神2：黑暗世界 / Thor: The Dark World', 'link': None}, 'annotations': {'bold': False, 'italic': False, 'strikethrough': False, 'underline': False, 'code': False, 'color': 'default'}, 'plain_text': '雷神2：黑暗世界 / Thor: The Dark World', 'href': None}]}}, 'url': 'https://www.notion.so/2-Thor-The-Dark-World-ccbea1bfa8f540a0a42b5e9ee5db0269', 'public_url': 'https://sparklingdeng.notion.site/2-Thor-The-Dark-World-ccbea1bfa8f540a0a42b5e9ee5db0269'}, {'object': 'page', 'id': 'd242b29f-d1f5-4dde-bd41-bda3183d2b3f', 'created_time': '2022-10-31T13:47:00.000Z', 'last_edited_time': '2022-10-31T13:47:00.000Z', 'created_by': {'object': 'user', 'id': 'f2ce332b-8a03-4c31-adba-86f0b763dbb1'}, 'last_edited_by': {'object': 'user', 'id': 'f2ce332b-8a03-4c31-adba-86f0b763dbb1'}, 'cover': None, 'icon': None, 'parent': {'type': 'database_id', 'database_id': '9c4b15b3-675d-4396-80c8-7cb3a1e50873'}, 'archived': False, 'properties': {'影片链接': {'id': '%3C%3AGD', 'type': 'url', 'url': 'https://movie.douban.com/subject/1866479/'}, '观看时间': {'id': 'Nmq%7C', 'type': 'date', 'date': {'start': '2021-01-21', 'end': None, 'time_zone': None}}, '类型': {'id': 'Tt%3BE', 'type': 'multi_select', 'multi_select': []}, '有啥想说的不': {'id': 'T%7DY%3B', 'type': 'rich_text', 'rich_text': []}, '评分': {'id': 'XQnP', 'type': 'select', 'select': None}, '封面': {'id': 'tSca', 'type': 'files', 'files': []}, '导演': {'id': 'wV%3AI', 'type': 'multi_select', 'multi_select': []}, '名称': {'id': 'title', 'type': 'title', 'title': [{'type': 'text', 'text': {'content': '复仇者联盟 / The Avengers', 'link': None}, 'annotations': {'bold': False, 'italic': False, 'strikethrough': False, 'underline': False, 'code': False, 'color': 'default'}, 'plain_text': '复仇者联盟 / The Avengers', 'href': None}]}}, 'url': 'https://www.notion.so/The-Avengers-d242b29fd1f54ddebd41bda3183d2b3f', 'public_url': 'https://sparklingdeng.notion.site/The-Avengers-d242b29fd1f54ddebd41bda3183d2b3f'}, {'object': 'page', 'id': 'd2e72427-e210-4660-97b3-2f8fcd7242b6', 'created_time': '2022-10-31T13:47:00.000Z', 'last_edited_time': '2022-10-31T13:47:00.000Z', 'created_by': {'object': 'user', 'id': 'f2ce332b-8a03-4c31-adba-86f0b763dbb1'}, 'last_edited_by': {'object': 'user', 'id': 'f2ce332b-8a03-4c31-adba-86f0b763dbb1'}, 'cover': None, 'icon': None, 'parent': {'type': 'database_id', 'database_id': '9c4b15b3-675d-4396-80c8-7cb3a1e50873'}, 'archived': False, 'properties': {'影片链接': {'id': '%3C%3AGD', 'type': 'url', 'url': 'https://movie.douban.com/subject/24405378/'}, '观看时间': {'id': 'Nmq%7C', 'type': 'date', 'date': {'start': '2021-01-21', 'end': None, 'time_zone': None}}, '类型': {'id': 'Tt%3BE', 'type': 'multi_select', 'multi_select': []}, '有啥想说的不': {'id': 'T%7DY%3B', 'type': 'rich_text', 'rich_text': []}, '评分': {'id': 'XQnP', 'type': 'select', 'select': None}, '封面': {'id': 'tSca', 'type': 'files', 'files': []}, '导演': {'id': 'wV%3AI', 'type': 'multi_select', 'multi_select': []}, '名称': {'id': 'title', 'type': 'title', 'title': [{'type': 'text', 'text': {'content': '王牌特工：特工学院 / Kingsman: The Secret Service', 'link': None}, 'annotations': {'bold': False, 'italic': False, 'strikethrough': False, 'underline': False, 'code': False, 'color': 'default'}, 'plain_text': '王牌特工：特工学院 / Kingsman: The Secret Service', 'href': None}]}}, 'url': 'https://www.notion.so/Kingsman-The-Secret-Service-d2e72427e210466097b32f8fcd7242b6', 'public_url': 'https://sparklingdeng.notion.site/Kingsman-The-Secret-Service-d2e72427e210466097b32f8fcd7242b6'}, {'object': 'page', 'id': 'd6f9d2b7-0de7-43de-86a3-ecc1ca66ade3', 'created_time': '2022-10-31T13:47:00.000Z', 'last_edited_time': '2022-10-31T13:47:00.000Z', 'created_by': {'object': 'user', 'id': 'f2ce332b-8a03-4c31-adba-86f0b763dbb1'}, 'last_edited_by': {'object': 'user', 'id': 'f2ce332b-8a03-4c31-adba-86f0b763dbb1'}, 'cover': None, 'icon': None, 'parent': {'type': 'database_id', 'database_id': '9c4b15b3-675d-4396-80c8-7cb3a1e50873'}, 'archived': False, 'properties': {'影片链接': {'id': '%3C%3AGD', 'type': 'url', 'url': 'https://movie.douban.com/subject/25726614/'}, '观看时间': {'id': 'Nmq%7C', 'type': 'date', 'date': {'start': '2021-01-21', 'end': None, 'time_zone': None}}, '类型': {'id': 'Tt%3BE', 'type': 'multi_select', 'multi_select': []}, '有啥想说的不': {'id': 'T%7DY%3B', 'type': 'rich_text', 'rich_text': []}, '评分': {'id': 'XQnP', 'type': 'select', 'select': None}, '封面': {'id': 'tSca', 'type': 'files', 'files': []}, '导演': {'id': 'wV%3AI', 'type': 'multi_select', 'multi_select': []}, '名称': {'id': 'title', 'type': 'title', 'title': [{'type': 'text', 'text': {'content': '神奇动物在哪里 / Fantastic Beasts and Where to Find Them', 'link': None}, 'annotations': {'bold': False, 'italic': False, 'strikethrough': False, 'underline': False, 'code': False, 'color': 'default'}, 'plain_text': '神奇动物在哪里 / Fantastic Beasts and Where to Find Them', 'href': None}]}}, 'url': 'https://www.notion.so/Fantastic-Beasts-and-Where-to-Find-Them-d6f9d2b70de743de86a3ecc1ca66ade3', 'public_url': 'https://sparklingdeng.notion.site/Fantastic-Beasts-and-Where-to-Find-Them-d6f9d2b70de743de86a3ecc1ca66ade3'}, {'object': 'page', 'id': 'd8192bf3-e1b2-46a2-9e9e-0194feb4c896', 'created_time': '2022-10-31T13:47:00.000Z', 'last_edited_time': '2022-10-31T13:47:00.000Z', 'created_by': {'object': 'user', 'id': 'f2ce332b-8a03-4c31-adba-86f0b763dbb1'}, 'last_edited_by': {'object': 'user', 'id': 'f2ce332b-8a03-4c31-adba-86f0b763dbb1'}, 'cover': None, 'icon': None, 'parent': {'type': 'database_id', 'database_id': '9c4b15b3-675d-4396-80c8-7cb3a1e50873'}, 'archived': False, 'properties': {'影片链接': {'id': '%3C%3AGD', 'type': 'url', 'url': 'https://movie.douban.com/subject/26588308/'}, '观看时间': {'id': 'Nmq%7C', 'type': 'date', 'date': {'start': '2021-01-21', 'end': None, 'time_zone': None}}, '类型': {'id': 'Tt%3BE', 'type': 'multi_select', 'multi_select': []}, '有啥想说的不': {'id': 'T%7DY%3B', 'type': 'rich_text', 'rich_text': []}, '评分': {'id': 'XQnP', 'type': 'select', 'select': None}, '封面': {'id': 'tSca', 'type': 'files', 'files': []}, '导演': {'id': 'wV%3AI', 'type': 'multi_select', 'multi_select': []}, '名称': {'id': 'title', 'type': 'title', 'title': [{'type': 'text', 'text': {'content': '死侍2：我爱我家 / Deadpool 2', 'link': None}, 'annotations': {'bold': False, 'italic': False, 'strikethrough': False, 'underline': False, 'code': False, 'color': 'default'}, 'plain_text': '死侍2：我爱我家 / Deadpool 2', 'href': None}]}}, 'url': 'https://www.notion.so/2-Deadpool-2-d8192bf3e1b246a29e9e0194feb4c896', 'public_url': 'https://sparklingdeng.notion.site/2-Deadpool-2-d8192bf3e1b246a29e9e0194feb4c896'}, {'object': 'page', 'id': 'd968e995-e756-46ee-9c63-98e508bed29b', 'created_time': '2022-10-31T13:47:00.000Z', 'last_edited_time': '2022-10-31T13:47:00.000Z', 'created_by': {'object': 'user', 'id': 'f2ce332b-8a03-4c31-adba-86f0b763dbb1'}, 'last_edited_by': {'object': 'user', 'id': 'f2ce332b-8a03-4c31-adba-86f0b763dbb1'}, 'cover': None, 'icon': None, 'parent': {'type': 'database_id', 'database_id': '9c4b15b3-675d-4396-80c8-7cb3a1e50873'}, 'archived': False, 'properties': {'影片链接': {'id': '%3C%3AGD', 'type': 'url', 'url': 'https://movie.douban.com/subject/25808075/'}, '观看时间': {'id': 'Nmq%7C', 'type': 'date', 'date': {'start': '2021-01-21', 'end': None, 'time_zone': None}}, '类型': {'id': 'Tt%3BE', 'type': 'multi_select', 'multi_select': []}, '有啥想说的不': {'id': 'T%7DY%3B', 'type': 'rich_text', 'rich_text': []}, '评分': {'id': 'XQnP', 'type': 'select', 'select': None}, '封面': {'id': 'tSca', 'type': 'files', 'files': []}, '导演': {'id': 'wV%3AI', 'type': 'multi_select', 'multi_select': []}, '名称': {'id': 'title', 'type': 'title', 'title': [{'type': 'text', 'text': {'content': '猩球崛起3：终极之战 / War for the Planet of the Apes', 'link': None}, 'annotations': {'bold': False, 'italic': False, 'strikethrough': False, 'underline': False, 'code': False, 'color': 'default'}, 'plain_text': '猩球崛起3：终极之战 / War for the Planet of the Apes', 'href': None}]}}, 'url': 'https://www.notion.so/3-War-for-the-Planet-of-the-Apes-d968e995e75646ee9c6398e508bed29b', 'public_url': 'https://sparklingdeng.notion.site/3-War-for-the-Planet-of-the-Apes-d968e995e75646ee9c6398e508bed29b'}, {'object': 'page', 'id': 'da465d9d-a816-427f-895a-218fc7eb210b', 'created_time': '2022-10-31T13:47:00.000Z', 'last_edited_time': '2022-10-31T13:47:00.000Z', 'created_by': {'object': 'user', 'id': 'f2ce332b-8a03-4c31-adba-86f0b763dbb1'}, 'last_edited_by': {'object': 'user', 'id': 'f2ce332b-8a03-4c31-adba-86f0b763dbb1'}, 'cover': None, 'icon': None, 'parent': {'type': 'database_id', 'database_id': '9c4b15b3-675d-4396-80c8-7cb3a1e50873'}, 'archived': False, 'properties': {'影片链接': {'id': '%3C%3AGD', 'type': 'url', 'url': 'https://movie.douban.com/subject/27119724/'}, '观看时间': {'id': 'Nmq%7C', 'type': 'date', 'date': {'start': '2021-01-21', 'end': None, 'time_zone': None}}, '类型': {'id': 'Tt%3BE', 'type': 'multi_select', 'multi_select': []}, '有啥想说的不': {'id': 'T%7DY%3B', 'type': 'rich_text', 'rich_text': []}, '评分': {'id': 'XQnP', 'type': 'select', 'select': None}, '封面': {'id': 'tSca', 'type': 'files', 'files': []}, '导演': {'id': 'wV%3AI', 'type': 'multi_select', 'multi_select': []}, '名称': {'id': 'title', 'type': 'title', 'title': [{'type': 'text', 'text': {'content': '小丑 / Joker', 'link': None}, 'annotations': {'bold': False, 'italic': False, 'strikethrough': False, 'underline': False, 'code': False, 'color': 'default'}, 'plain_text': '小丑 / Joker', 'href': None}]}}, 'url': 'https://www.notion.so/Joker-da465d9da816427f895a218fc7eb210b', 'public_url': 'https://sparklingdeng.notion.site/Joker-da465d9da816427f895a218fc7eb210b'}, {'object': 'page', 'id': 'e26a9423-1795-4076-acc5-afd51f7facca', 'created_time': '2022-10-31T13:47:00.000Z', 'last_edited_time': '2022-10-31T13:47:00.000Z', 'created_by': {'object': 'user', 'id': 'f2ce332b-8a03-4c31-adba-86f0b763dbb1'}, 'last_edited_by': {'object': 'user', 'id': 'f2ce332b-8a03-4c31-adba-86f0b763dbb1'}, 'cover': None, 'icon': None, 'parent': {'type': 'database_id', 'database_id': '9c4b15b3-675d-4396-80c8-7cb3a1e50873'}, 'archived': False, 'properties': {'影片链接': {'id': '%3C%3AGD', 'type': 'url', 'url': 'https://movie.douban.com/subject/24404677/'}, '观看时间': {'id': 'Nmq%7C', 'type': 'date', 'date': {'start': '2021-01-21', 'end': None, 'time_zone': None}}, '类型': {'id': 'Tt%3BE', 'type': 'multi_select', 'multi_select': []}, '有啥想说的不': {'id': 'T%7DY%3B', 'type': 'rich_text', 'rich_text': []}, '评分': {'id': 'XQnP', 'type': 'select', 'select': None}, '封面': {'id': 'tSca', 'type': 'files', 'files': []}, '导演': {'id': 'wV%3AI', 'type': 'multi_select', 'multi_select': []}, '名称': {'id': 'title', 'type': 'title', 'title': [{'type': 'text', 'text': {'content': '超体 / Lucy', 'link': None}, 'annotations': {'bold': False, 'italic': False, 'strikethrough': False, 'underline': False, 'code': False, 'color': 'default'}, 'plain_text': '超体 / Lucy', 'href': None}]}}, 'url': 'https://www.notion.so/Lucy-e26a942317954076acc5afd51f7facca', 'public_url': 'https://sparklingdeng.notion.site/Lucy-e26a942317954076acc5afd51f7facca'}, {'object': 'page', 'id': 'e270520b-d10b-4455-a6f5-4a4860924cf2', 'created_time': '2022-10-31T13:47:00.000Z', 'last_edited_time': '2022-10-31T13:47:00.000Z', 'created_by': {'object': 'user', 'id': 'f2ce332b-8a03-4c31-adba-86f0b763dbb1'}, 'last_edited_by': {'object': 'user', 'id': 'f2ce332b-8a03-4c31-adba-86f0b763dbb1'}, 'cover': None, 'icon': None, 'parent': {'type': 'database_id', 'database_id': '9c4b15b3-675d-4396-80c8-7cb3a1e50873'}, 'archived': False, 'properties': {'影片链接': {'id': '%3C%3AGD', 'type': 'url', 'url': 'https://movie.douban.com/subject/20471852/'}, '观看时间': {'id': 'Nmq%7C', 'type': 'date', 'date': {'start': '2021-01-21', 'end': None, 'time_zone': None}}, '类型': {'id': 'Tt%3BE', 'type': 'multi_select', 'multi_select': []}, '有啥想说的不': {'id': 'T%7DY%3B', 'type': 'rich_text', 'rich_text': []}, '评分': {'id': 'XQnP', 'type': 'select', 'select': None}, '封面': {'id': 'tSca', 'type': 'files', 'files': []}, '导演': {'id': 'wV%3AI', 'type': 'multi_select', 'multi_select': []}, '名称': {'id': 'title', 'type': 'title', 'title': [{'type': 'text', 'text': {'content': '生化危机：终章 / Resident Evil: The Final Chapter', 'link': None}, 'annotations': {'bold': False, 'italic': False, 'strikethrough': False, 'underline': False, 'code': False, 'color': 'default'}, 'plain_text': '生化危机：终章 / Resident Evil: The Final Chapter', 'href': None}]}}, 'url': 'https://www.notion.so/Resident-Evil-The-Final-Chapter-e270520bd10b4455a6f54a4860924cf2', 'public_url': 'https://sparklingdeng.notion.site/Resident-Evil-The-Final-Chapter-e270520bd10b4455a6f54a4860924cf2'}, {'object': 'page', 'id': 'e272ca26-9ef7-4662-8973-6e85732a145b', 'created_time': '2022-10-31T13:47:00.000Z', 'last_edited_time': '2022-10-31T13:47:00.000Z', 'created_by': {'object': 'user', 'id': 'f2ce332b-8a03-4c31-adba-86f0b763dbb1'}, 'last_edited_by': {'object': 'user', 'id': 'f2ce332b-8a03-4c31-adba-86f0b763dbb1'}, 'cover': None, 'icon': None, 'parent': {'type': 'database_id', 'database_id': '9c4b15b3-675d-4396-80c8-7cb3a1e50873'}, 'archived': False, 'properties': {'影片链接': {'id': '%3C%3AGD', 'type': 'url', 'url': 'https://movie.douban.com/subject/26394152/'}, '观看时间': {'id': 'Nmq%7C', 'type': 'date', 'date': {'start': '2021-01-21', 'end': None, 'time_zone': None}}, '类型': {'id': 'Tt%3BE', 'type': 'multi_select', 'multi_select': []}, '有啥想说的不': {'id': 'T%7DY%3B', 'type': 'rich_text', 'rich_text': []}, '评分': {'id': 'XQnP', 'type': 'select', 'select': None}, '封面': {'id': 'tSca', 'type': 'files', 'files': []}, '导演': {'id': 'wV%3AI', 'type': 'multi_select', 'multi_select': []}, '名称': {'id': 'title', 'type': 'title', 'title': [{'type': 'text', 'text': {'content': '大黄蜂 / Bumblebee', 'link': None}, 'annotations': {'bold': False, 'italic': False, 'strikethrough': False, 'underline': False, 'code': False, 'color': 'default'}, 'plain_text': '大黄蜂 / Bumblebee', 'href': None}]}}, 'url': 'https://www.notion.so/Bumblebee-e272ca269ef7466289736e85732a145b', 'public_url': 'https://sparklingdeng.notion.site/Bumblebee-e272ca269ef7466289736e85732a145b'}, {'object': 'page', 'id': 'e5a32778-860f-424e-b241-7915ed294094', 'created_time': '2022-10-31T13:47:00.000Z', 'last_edited_time': '2022-10-31T13:47:00.000Z', 'created_by': {'object': 'user', 'id': 'f2ce332b-8a03-4c31-adba-86f0b763dbb1'}, 'last_edited_by': {'object': 'user', 'id': 'f2ce332b-8a03-4c31-adba-86f0b763dbb1'}, 'cover': None, 'icon': None, 'parent': {'type': 'database_id', 'database_id': '9c4b15b3-675d-4396-80c8-7cb3a1e50873'}, 'archived': False, 'properties': {'影片链接': {'id': '%3C%3AGD', 'type': 'url', 'url': 'https://movie.douban.com/subject/1652592/'}, '观看时间': {'id': 'Nmq%7C', 'type': 'date', 'date': {'start': '2021-01-21', 'end': None, 'time_zone': None}}, '类型': {'id': 'Tt%3BE', 'type': 'multi_select', 'multi_select': []}, '有啥想说的不': {'id': 'T%7DY%3B', 'type': 'rich_text', 'rich_text': []}, '评分': {'id': 'XQnP', 'type': 'select', 'select': None}, '封面': {'id': 'tSca', 'type': 'files', 'files': []}, '导演': {'id': 'wV%3AI', 'type': 'multi_select', 'multi_select': []}, '名称': {'id': 'title', 'type': 'title', 'title': [{'type': 'text', 'text': {'content': '阿丽塔：战斗天使 / Alita: Battle Angel', 'link': None}, 'annotations': {'bold': False, 'italic': False, 'strikethrough': False, 'underline': False, 'code': False, 'color': 'default'}, 'plain_text': '阿丽塔：战斗天使 / Alita: Battle Angel', 'href': None}]}}, 'url': 'https://www.notion.so/Alita-Battle-Angel-e5a32778860f424eb2417915ed294094', 'public_url': 'https://sparklingdeng.notion.site/Alita-Battle-Angel-e5a32778860f424eb2417915ed294094'}, {'object': 'page', 'id': 'e7b6f88d-8bcd-4341-947c-7250d5431fe6', 'created_time': '2022-10-31T13:47:00.000Z', 'last_edited_time': '2022-10-31T13:47:00.000Z', 'created_by': {'object': 'user', 'id': 'f2ce332b-8a03-4c31-adba-86f0b763dbb1'}, 'last_edited_by': {'object': 'user', 'id': 'f2ce332b-8a03-4c31-adba-86f0b763dbb1'}, 'cover': None, 'icon': None, 'parent': {'type': 'database_id', 'database_id': '9c4b15b3-675d-4396-80c8-7cb3a1e50873'}, 'archived': False, 'properties': {'影片链接': {'id': '%3C%3AGD', 'type': 'url', 'url': 'https://movie.douban.com/subject/26698897/'}, '观看时间': {'id': 'Nmq%7C', 'type': 'date', 'date': {'start': '2021-01-21', 'end': None, 'time_zone': None}}, '类型': {'id': 'Tt%3BE', 'type': 'multi_select', 'multi_select': []}, '有啥想说的不': {'id': 'T%7DY%3B', 'type': 'rich_text', 'rich_text': []}, '评分': {'id': 'XQnP', 'type': 'select', 'select': None}, '封面': {'id': 'tSca', 'type': 'files', 'files': []}, '导演': {'id': 'wV%3AI', 'type': 'multi_select', 'multi_select': []}, '名称': {'id': 'title', 'type': 'title', 'title': [{'type': 'text', 'text': {'content': '唐人街探案2', 'link': None}, 'annotations': {'bold': False, 'italic': False, 'strikethrough': False, 'underline': False, 'code': False, 'color': 'default'}, 'plain_text': '唐人街探案2', 'href': None}]}}, 'url': 'https://www.notion.so/2-e7b6f88d8bcd4341947c7250d5431fe6', 'public_url': 'https://sparklingdeng.notion.site/2-e7b6f88d8bcd4341947c7250d5431fe6'}, {'object': 'page', 'id': 'e9e0dbe4-1a63-4036-b67f-e39bc1a86ee9', 'created_time': '2022-10-31T13:47:00.000Z', 'last_edited_time': '2022-10-31T13:47:00.000Z', 'created_by': {'object': 'user', 'id': 'f2ce332b-8a03-4c31-adba-86f0b763dbb1'}, 'last_edited_by': {'object': 'user', 'id': 'f2ce332b-8a03-4c31-adba-86f0b763dbb1'}, 'cover': None, 'icon': None, 'parent': {'type': 'database_id', 'database_id': '9c4b15b3-675d-4396-80c8-7cb3a1e50873'}, 'archived': False, 'properties': {'影片链接': {'id': '%3C%3AGD', 'type': 'url', 'url': 'https://movie.douban.com/subject/1305333/'}, '观看时间': {'id': 'Nmq%7C', 'type': 'date', 'date': {'start': '2021-01-21', 'end': None, 'time_zone': None}}, '类型': {'id': 'Tt%3BE', 'type': 'multi_select', 'multi_select': []}, '有啥想说的不': {'id': 'T%7DY%3B', 'type': 'rich_text', 'rich_text': []}, '评分': {'id': 'XQnP', 'type': 'select', 'select': None}, '封面': {'id': 'tSca', 'type': 'files', 'files': []}, '导演': {'id': 'wV%3AI', 'type': 'multi_select', 'multi_select': []}, '名称': {'id': 'title', 'type': 'title', 'title': [{'type': 'text', 'text': {'content': '终结者3 / Terminator 3: Rise of the Machines', 'link': None}, 'annotations': {'bold': False, 'italic': False, 'strikethrough': False, 'underline': False, 'code': False, 'color': 'default'}, 'plain_text': '终结者3 / Terminator 3: Rise of the Machines', 'href': None}]}}, 'url': 'https://www.notion.so/3-Terminator-3-Rise-of-the-Machines-e9e0dbe41a634036b67fe39bc1a86ee9', 'public_url': 'https://sparklingdeng.notion.site/3-Terminator-3-Rise-of-the-Machines-e9e0dbe41a634036b67fe39bc1a86ee9'}, {'object': 'page', 'id': 'ea919ccb-820f-4626-bc7e-93565837a9fe', 'created_time': '2022-10-31T13:47:00.000Z', 'last_edited_time': '2022-10-31T13:47:00.000Z', 'created_by': {'object': 'user', 'id': 'f2ce332b-8a03-4c31-adba-86f0b763dbb1'}, 'last_edited_by': {'object': 'user', 'id': 'f2ce332b-8a03-4c31-adba-86f0b763dbb1'}, 'cover': None, 'icon': None, 'parent': {'type': 'database_id', 'database_id': '9c4b15b3-675d-4396-80c8-7cb3a1e50873'}, 'archived': False, 'properties': {'影片链接': {'id': '%3C%3AGD', 'type': 'url', 'url': 'https://movie.douban.com/subject/30331149/'}, '观看时间': {'id': 'Nmq%7C', 'type': 'date', 'date': {'start': '2021-01-21', 'end': None, 'time_zone': None}}, '类型': {'id': 'Tt%3BE', 'type': 'multi_select', 'multi_select': []}, '有啥想说的不': {'id': 'T%7DY%3B', 'type': 'rich_text', 'rich_text': []}, '评分': {'id': 'XQnP', 'type': 'select', 'select': None}, '封面': {'id': 'tSca', 'type': 'files', 'files': []}, '导演': {'id': 'wV%3AI', 'type': 'multi_select', 'multi_select': []}, '名称': {'id': 'title', 'type': 'title', 'title': [{'type': 'text', 'text': {'content': '白蛇：缘起', 'link': None}, 'annotations': {'bold': False, 'italic': False, 'strikethrough': False, 'underline': False, 'code': False, 'color': 'default'}, 'plain_text': '白蛇：缘起', 'href': None}]}}, 'url': 'https://www.notion.so/ea919ccb820f4626bc7e93565837a9fe', 'public_url': 'https://sparklingdeng.notion.site/ea919ccb820f4626bc7e93565837a9fe'}, {'object': 'page', 'id': 'ee5a4f52-fdad-49fb-8f8a-089f242aa8c8', 'created_time': '2022-10-31T13:47:00.000Z', 'last_edited_time': '2022-10-31T13:47:00.000Z', 'created_by': {'object': 'user', 'id': 'f2ce332b-8a03-4c31-adba-86f0b763dbb1'}, 'last_edited_by': {'object': 'user', 'id': 'f2ce332b-8a03-4c31-adba-86f0b763dbb1'}, 'cover': None, 'icon': None, 'parent': {'type': 'database_id', 'database_id': '9c4b15b3-675d-4396-80c8-7cb3a1e50873'}, 'archived': False, 'properties': {'影片链接': {'id': '%3C%3AGD', 'type': 'url', 'url': 'https://movie.douban.com/subject/25821634/'}, '观看时间': {'id': 'Nmq%7C', 'type': 'date', 'date': {'start': '2021-01-21', 'end': None, 'time_zone': None}}, '类型': {'id': 'Tt%3BE', 'type': 'multi_select', 'multi_select': []}, '有啥想说的不': {'id': 'T%7DY%3B', 'type': 'rich_text', 'rich_text': []}, '评分': {'id': 'XQnP', 'type': 'select', 'select': None}, '封面': {'id': 'tSca', 'type': 'files', 'files': []}, '导演': {'id': 'wV%3AI', 'type': 'multi_select', 'multi_select': []}, '名称': {'id': 'title', 'type': 'title', 'title': [{'type': 'text', 'text': {'content': '雷神3：诸神黄昏 / Thor: Ragnarok', 'link': None}, 'annotations': {'bold': False, 'italic': False, 'strikethrough': False, 'underline': False, 'code': False, 'color': 'default'}, 'plain_text': '雷神3：诸神黄昏 / Thor: Ragnarok', 'href': None}]}}, 'url': 'https://www.notion.so/3-Thor-Ragnarok-ee5a4f52fdad49fb8f8a089f242aa8c8', 'public_url': 'https://sparklingdeng.notion.site/3-Thor-Ragnarok-ee5a4f52fdad49fb8f8a089f242aa8c8'}, {'object': 'page', 'id': 'ef4a3d38-9a25-44e8-b351-606ff6d797ac', 'created_time': '2022-10-31T13:47:00.000Z', 'last_edited_time': '2022-10-31T13:47:00.000Z', 'created_by': {'object': 'user', 'id': 'f2ce332b-8a03-4c31-adba-86f0b763dbb1'}, 'last_edited_by': {'object': 'user', 'id': 'f2ce332b-8a03-4c31-adba-86f0b763dbb1'}, 'cover': None, 'icon': None, 'parent': {'type': 'database_id', 'database_id': '9c4b15b3-675d-4396-80c8-7cb3a1e50873'}, 'archived': False, 'properties': {'影片链接': {'id': '%3C%3AGD', 'type': 'url', 'url': 'https://movie.douban.com/subject/3718279/'}, '观看时间': {'id': 'Nmq%7C', 'type': 'date', 'date': {'start': '2021-01-21', 'end': None, 'time_zone': None}}, '类型': {'id': 'Tt%3BE', 'type': 'multi_select', 'multi_select': []}, '有啥想说的不': {'id': 'T%7DY%3B', 'type': 'rich_text', 'rich_text': []}, '评分': {'id': 'XQnP', 'type': 'select', 'select': None}, '封面': {'id': 'tSca', 'type': 'files', 'files': []}, '导演': {'id': 'wV%3AI', 'type': 'multi_select', 'multi_select': []}, '名称': {'id': 'title', 'type': 'title', 'title': [{'type': 'text', 'text': {'content': '死侍 / Deadpool', 'link': None}, 'annotations': {'bold': False, 'italic': False, 'strikethrough': False, 'underline': False, 'code': False, 'color': 'default'}, 'plain_text': '死侍 / Deadpool', 'href': None}]}}, 'url': 'https://www.notion.so/Deadpool-ef4a3d389a2544e8b351606ff6d797ac', 'public_url': 'https://sparklingdeng.notion.site/Deadpool-ef4a3d389a2544e8b351606ff6d797ac'}, {'object': 'page', 'id': 'f5a52e8b-2b87-4515-87f2-9b059d1f10f3', 'created_time': '2022-10-31T13:47:00.000Z', 'last_edited_time': '2022-10-31T13:47:00.000Z', 'created_by': {'object': 'user', 'id': 'f2ce332b-8a03-4c31-adba-86f0b763dbb1'}, 'last_edited_by': {'object': 'user', 'id': 'f2ce332b-8a03-4c31-adba-86f0b763dbb1'}, 'cover': None, 'icon': None, 'parent': {'type': 'database_id', 'database_id': '9c4b15b3-675d-4396-80c8-7cb3a1e50873'}, 'archived': False, 'properties': {'影片链接': {'id': '%3C%3AGD', 'type': 'url', 'url': 'https://movie.douban.com/subject/30295905/'}, '观看时间': {'id': 'Nmq%7C', 'type': 'date', 'date': {'start': '2021-09-20', 'end': None, 'time_zone': None}}, '类型': {'id': 'Tt%3BE', 'type': 'multi_select', 'multi_select': []}, '有啥想说的不': {'id': 'T%7DY%3B', 'type': 'rich_text', 'rich_text': []}, '评分': {'id': 'XQnP', 'type': 'select', 'select': None}, '封面': {'id': 'tSca', 'type': 'files', 'files': []}, '导演': {'id': 'wV%3AI', 'type': 'multi_select', 'multi_select': []}, '名称': {'id': 'title', 'type': 'title', 'title': [{'type': 'text', 'text': {'content': '中国机长', 'link': None}, 'annotations': {'bold': False, 'italic': False, 'strikethrough': False, 'underline': False, 'code': False, 'color': 'default'}, 'plain_text': '中国机长', 'href': None}]}}, 'url': 'https://www.notion.so/f5a52e8b2b87451587f29b059d1f10f3', 'public_url': 'https://sparklingdeng.notion.site/f5a52e8b2b87451587f29b059d1f10f3'}, {'object': 'page', 'id': 'f811a262-527e-4706-9646-d99398c0b5fb', 'created_time': '2022-10-31T13:47:00.000Z', 'last_edited_time': '2022-10-31T13:47:00.000Z', 'created_by': {'object': 'user', 'id': 'f2ce332b-8a03-4c31-adba-86f0b763dbb1'}, 'last_edited_by': {'object': 'user', 'id': 'f2ce332b-8a03-4c31-adba-86f0b763dbb1'}, 'cover': None, 'icon': None, 'parent': {'type': 'database_id', 'database_id': '9c4b15b3-675d-4396-80c8-7cb3a1e50873'}, 'archived': False, 'properties': {'影片链接': {'id': '%3C%3AGD', 'type': 'url', 'url': 'https://movie.douban.com/subject/27109633/'}, '观看时间': {'id': 'Nmq%7C', 'type': 'date', 'date': {'start': '2021-01-21', 'end': None, 'time_zone': None}}, '类型': {'id': 'Tt%3BE', 'type': 'multi_select', 'multi_select': []}, '有啥想说的不': {'id': 'T%7DY%3B', 'type': 'rich_text', 'rich_text': []}, '评分': {'id': 'XQnP', 'type': 'select', 'select': None}, '封面': {'id': 'tSca', 'type': 'files', 'files': []}, '导演': {'id': 'wV%3AI', 'type': 'multi_select', 'multi_select': []}, '名称': {'id': 'title', 'type': 'title', 'title': [{'type': 'text', 'text': {'content': '终结者：黑暗命运 / Terminator: Dark Fate', 'link': None}, 'annotations': {'bold': False, 'italic': False, 'strikethrough': False, 'underline': False, 'code': False, 'color': 'default'}, 'plain_text': '终结者：黑暗命运 / Terminator: Dark Fate', 'href': None}]}}, 'url': 'https://www.notion.so/Terminator-Dark-Fate-f811a262527e47069646d99398c0b5fb', 'public_url': 'https://sparklingdeng.notion.site/Terminator-Dark-Fate-f811a262527e47069646d99398c0b5fb'}, {'object': 'page', 'id': 'f8a7480a-6616-4f58-8a3f-c70622459cee', 'created_time': '2022-10-31T13:47:00.000Z', 'last_edited_time': '2022-10-31T13:47:00.000Z', 'created_by': {'object': 'user', 'id': 'f2ce332b-8a03-4c31-adba-86f0b763dbb1'}, 'last_edited_by': {'object': 'user', 'id': 'f2ce332b-8a03-4c31-adba-86f0b763dbb1'}, 'cover': None, 'icon': None, 'parent': {'type': 'database_id', 'database_id': '9c4b15b3-675d-4396-80c8-7cb3a1e50873'}, 'archived': False, 'properties': {'影片链接': {'id': '%3C%3AGD', 'type': 'url', 'url': 'https://movie.douban.com/subject/2132930/'}, '观看时间': {'id': 'Nmq%7C', 'type': 'date', 'date': {'start': '2021-01-21', 'end': None, 'time_zone': None}}, '类型': {'id': 'Tt%3BE', 'type': 'multi_select', 'multi_select': []}, '有啥想说的不': {'id': 'T%7DY%3B', 'type': 'rich_text', 'rich_text': []}, '评分': {'id': 'XQnP', 'type': 'select', 'select': None}, '封面': {'id': 'tSca', 'type': 'files', 'files': []}, '导演': {'id': 'wV%3AI', 'type': 'multi_select', 'multi_select': []}, '名称': {'id': 'title', 'type': 'title', 'title': [{'type': 'text', 'text': {'content': '速度与激情4 / Fast & Furious', 'link': None}, 'annotations': {'bold': False, 'italic': False, 'strikethrough': False, 'underline': False, 'code': False, 'color': 'default'}, 'plain_text': '速度与激情4 / Fast & Furious', 'href': None}]}}, 'url': 'https://www.notion.so/4-Fast-Furious-f8a7480a66164f588a3fc70622459cee', 'public_url': 'https://sparklingdeng.notion.site/4-Fast-Furious-f8a7480a66164f588a3fc70622459cee'}, {'object': 'page', 'id': 'f8c0d95d-7d0c-48bd-9c79-5a7defbc4dd7', 'created_time': '2022-10-31T13:47:00.000Z', 'last_edited_time': '2022-10-31T13:47:00.000Z', 'created_by': {'object': 'user', 'id': 'f2ce332b-8a03-4c31-adba-86f0b763dbb1'}, 'last_edited_by': {'object': 'user', 'id': 'f2ce332b-8a03-4c31-adba-86f0b763dbb1'}, 'cover': None, 'icon': None, 'parent': {'type': 'database_id', 'database_id': '9c4b15b3-675d-4396-80c8-7cb3a1e50873'}, 'archived': False, 'properties': {'影片链接': {'id': '%3C%3AGD', 'type': 'url', 'url': 'https://movie.douban.com/subject/3592853/'}, '观看时间': {'id': 'Nmq%7C', 'type': 'date', 'date': {'start': '2021-01-21', 'end': None, 'time_zone': None}}, '类型': {'id': 'Tt%3BE', 'type': 'multi_select', 'multi_select': []}, '有啥想说的不': {'id': 'T%7DY%3B', 'type': 'rich_text', 'rich_text': []}, '评分': {'id': 'XQnP', 'type': 'select', 'select': None}, '封面': {'id': 'tSca', 'type': 'files', 'files': []}, '导演': {'id': 'wV%3AI', 'type': 'multi_select', 'multi_select': []}, '名称': {'id': 'title', 'type': 'title', 'title': [{'type': 'text', 'text': {'content': '饥饿游戏 / The Hunger Games', 'link': None}, 'annotations': {'bold': False, 'italic': False, 'strikethrough': False, 'underline': False, 'code': False, 'color': 'default'}, 'plain_text': '饥饿游戏 / The Hunger Games', 'href': None}]}}, 'url': 'https://www.notion.so/The-Hunger-Games-f8c0d95d7d0c48bd9c795a7defbc4dd7', 'public_url': 'https://sparklingdeng.notion.site/The-Hunger-Games-f8c0d95d7d0c48bd9c795a7defbc4dd7'}, {'object': 'page', 'id': 'fedb18ee-d711-41c0-a31c-c601b4654d78', 'created_time': '2022-10-31T13:47:00.000Z', 'last_edited_time': '2022-10-31T13:47:00.000Z', 'created_by': {'object': 'user', 'id': 'f2ce332b-8a03-4c31-adba-86f0b763dbb1'}, 'last_edited_by': {'object': 'user', 'id': 'f2ce332b-8a03-4c31-adba-86f0b763dbb1'}, 'cover': None, 'icon': None, 'parent': {'type': 'database_id', 'database_id': '9c4b15b3-675d-4396-80c8-7cb3a1e50873'}, 'archived': False, 'properties': {'影片链接': {'id': '%3C%3AGD', 'type': 'url', 'url': 'https://movie.douban.com/subject/25955779/'}, '观看时间': {'id': 'Nmq%7C', 'type': 'date', 'date': {'start': '2021-01-21', 'end': None, 'time_zone': None}}, '类型': {'id': 'Tt%3BE', 'type': 'multi_select', 'multi_select': []}, '有啥想说的不': {'id': 'T%7DY%3B', 'type': 'rich_text', 'rich_text': []}, '评分': {'id': 'XQnP', 'type': 'select', 'select': None}, '封面': {'id': 'tSca', 'type': 'files', 'files': []}, '导演': {'id': 'wV%3AI', 'type': 'multi_select', 'multi_select': []}, '名称': {'id': 'title', 'type': 'title', 'title': [{'type': 'text', 'text': {'content': '忍者神龟2：破影而出 / Teenage Mutant Ninja Turtles: Out of the...', 'link': None}, 'annotations': {'bold': False, 'italic': False, 'strikethrough': False, 'underline': False, 'code': False, 'color': 'default'}, 'plain_text': '忍者神龟2：破影而出 / Teenage Mutant Ninja Turtles: Out of the...', 'href': None}]}}, 'url': 'https://www.notion.so/2-Teenage-Mutant-Ninja-Turtles-Out-of-the-fedb18eed71141c0a31cc601b4654d78', 'public_url': 'https://sparklingdeng.notion.site/2-Teenage-Mutant-Ninja-Turtles-Out-of-the-fedb18eed71141c0a31cc601b4654d78'}, {'object': 'page', 'id': 'fef0e314-b044-4f6b-978f-651d5a9ab190', 'created_time': '2022-10-31T13:47:00.000Z', 'last_edited_time': '2022-10-31T13:47:00.000Z', 'created_by': {'object': 'user', 'id': 'f2ce332b-8a03-4c31-adba-86f0b763dbb1'}, 'last_edited_by': {'object': 'user', 'id': 'f2ce332b-8a03-4c31-adba-86f0b763dbb1'}, 'cover': None, 'icon': None, 'parent': {'type': 'database_id', 'database_id': '9c4b15b3-675d-4396-80c8-7cb3a1e50873'}, 'archived': False, 'properties': {'影片链接': {'id': '%3C%3AGD', 'type': 'url', 'url': 'https://movie.douban.com/subject/3338862/'}, '观看时间': {'id': 'Nmq%7C', 'type': 'date', 'date': {'start': '2021-01-21', 'end': None, 'time_zone': None}}, '类型': {'id': 'Tt%3BE', 'type': 'multi_select', 'multi_select': []}, '有啥想说的不': {'id': 'T%7DY%3B', 'type': 'rich_text', 'rich_text': []}, '评分': {'id': 'XQnP', 'type': 'select', 'select': None}, '封面': {'id': 'tSca', 'type': 'files', 'files': []}, '导演': {'id': 'wV%3AI', 'type': 'multi_select', 'multi_select': []}, '名称': {'id': 'title', 'type': 'title', 'title': [{'type': 'text', 'text': {'content': '终结者：创世纪 / Terminator Genisys', 'link': None}, 'annotations': {'bold': False, 'italic': False, 'strikethrough': False, 'underline': False, 'code': False, 'color': 'default'}, 'plain_text': '终结者：创世纪 / Terminator Genisys', 'href': None}]}}, 'url': 'https://www.notion.so/Terminator-Genisys-fef0e314b0444f6b978f651d5a9ab190', 'public_url': 'https://sparklingdeng.notion.site/Terminator-Genisys-fef0e314b0444f6b978f651d5a9ab190'}, {'object': 'page', 'id': '04f2c993-d631-4003-8684-1d51bd7ddf4b', 'created_time': '2022-10-31T13:46:00.000Z', 'last_edited_time': '2022-10-31T13:46:00.000Z', 'created_by': {'object': 'user', 'id': 'f2ce332b-8a03-4c31-adba-86f0b763dbb1'}, 'last_edited_by': {'object': 'user', 'id': 'f2ce332b-8a03-4c31-adba-86f0b763dbb1'}, 'cover': None, 'icon': None, 'parent': {'type': 'database_id', 'database_id': '9c4b15b3-675d-4396-80c8-7cb3a1e50873'}, 'archived': False, 'properties': {'影片链接': {'id': '%3C%3AGD', 'type': 'url', 'url': 'https://movie.douban.com/subject/35183042/'}, '观看时间': {'id': 'Nmq%7C', 'type': 'date', 'date': {'start': '2022-08-01', 'end': None, 'time_zone': None}}, '类型': {'id': 'Tt%3BE', 'type': 'multi_select', 'multi_select': []}, '有啥想说的不': {'id': 'T%7DY%3B', 'type': 'rich_text', 'rich_text': []}, '评分': {'id': 'XQnP', 'type': 'select', 'select': {'id': 'e51217d5-f71e-41dc-be48-0a7582889afa', 'name': '⭐⭐⭐', 'color': 'blue'}}, '封面': {'id': 'tSca', 'type': 'files', 'files': []}, '导演': {'id': 'wV%3AI', 'type': 'multi_select', 'multi_select': []}, '名称': {'id': 'title', 'type': 'title', 'title': [{'type': 'text', 'text': {'content': '独行月球', 'link': None}, 'annotations': {'bold': False, 'italic': False, 'strikethrough': False, 'underline': False, 'code': False, 'color': 'default'}, 'plain_text': '独行月球', 'href': None}]}}, 'url': 'https://www.notion.so/04f2c993d631400386841d51bd7ddf4b', 'public_url': 'https://sparklingdeng.notion.site/04f2c993d631400386841d51bd7ddf4b'}, {'object': 'page', 'id': '0a3714e6-2008-431c-b1f7-d6cfe3266185', 'created_time': '2022-10-31T13:46:00.000Z', 'last_edited_time': '2022-10-31T13:46:00.000Z', 'created_by': {'object': 'user', 'id': 'f2ce332b-8a03-4c31-adba-86f0b763dbb1'}, 'last_edited_by': {'object': 'user', 'id': 'f2ce332b-8a03-4c31-adba-86f0b763dbb1'}, 'cover': None, 'icon': None, 'parent': {'type': 'database_id', 'database_id': '9c4b15b3-675d-4396-80c8-7cb3a1e50873'}, 'archived': False, 'properties': {'影片链接': {'id': '%3C%3AGD', 'type': 'url', 'url': 'https://movie.douban.com/subject/30382416/'}, '观看时间': {'id': 'Nmq%7C', 'type': 'date', 'date': {'start': '2021-12-23', 'end': None, 'time_zone': None}}, '类型': {'id': 'Tt%3BE', 'type': 'multi_select', 'multi_select': []}, '有啥想说的不': {'id': 'T%7DY%3B', 'type': 'rich_text', 'rich_text': []}, '评分': {'id': 'XQnP', 'type': 'select', 'select': {'id': 'e51217d5-f71e-41dc-be48-0a7582889afa', 'name': '⭐⭐⭐', 'color': 'blue'}}, '封面': {'id': 'tSca', 'type': 'files', 'files': []}, '导演': {'id': 'wV%3AI', 'type': 'multi_select', 'multi_select': []}, '名称': {'id': 'title', 'type': 'title', 'title': [{'type': 'text', 'text': {'content': '毒液2 / Venom: Let There Be Carnage', 'link': None}, 'annotations': {'bold': False, 'italic': False, 'strikethrough': False, 'underline': False, 'code': False, 'color': 'default'}, 'plain_text': '毒液2 / Venom: Let There Be Carnage', 'href': None}]}}, 'url': 'https://www.notion.so/2-Venom-Let-There-Be-Carnage-0a3714e62008431cb1f7d6cfe3266185', 'public_url': 'https://sparklingdeng.notion.site/2-Venom-Let-There-Be-Carnage-0a3714e62008431cb1f7d6cfe3266185'}, {'object': 'page', 'id': '0a7962ea-0d3b-4878-afde-5e7d3312a480', 'created_time': '2022-10-31T13:46:00.000Z', 'last_edited_time': '2022-10-31T13:47:00.000Z', 'created_by': {'object': 'user', 'id': 'f2ce332b-8a03-4c31-adba-86f0b763dbb1'}, 'last_edited_by': {'object': 'user', 'id': 'f2ce332b-8a03-4c31-adba-86f0b763dbb1'}, 'cover': None, 'icon': None, 'parent': {'type': 'database_id', 'database_id': '9c4b15b3-675d-4396-80c8-7cb3a1e50873'}, 'archived': False, 'properties': {'影片链接': {'id': '%3C%3AGD', 'type': 'url', 'url': 'https://movie.douban.com/subject/26100958/'}, '观看时间': {'id': 'Nmq%7C', 'type': 'date', 'date': {'start': '2021-01-21', 'end': None, 'time_zone': None}}, '类型': {'id': 'Tt%3BE', 'type': 'multi_select', 'multi_select': []}, '有啥想说的不': {'id': 'T%7DY%3B', 'type': 'rich_text', 'rich_text': []}, '评分': {'id': 'XQnP', 'type': 'select', 'select': None}, '封面': {'id': 'tSca', 'type': 'files', 'files': []}, '导演': {'id': 'wV%3AI', 'type': 'multi_select', 'multi_select': []}, '名称': {'id': 'title', 'type': 'title', 'title': [{'type': 'text', 'text': {'content': '复仇者联盟4：终局之战 / Avengers: Endgame', 'link': None}, 'annotations': {'bold': False, 'italic': False, 'strikethrough': False, 'underline': False, 'code': False, 'color': 'default'}, 'plain_text': '复仇者联盟4：终局之战 / Avengers: Endgame', 'href': None}]}}, 'url': 'https://www.notion.so/4-Avengers-Endgame-0a7962ea0d3b4878afde5e7d3312a480', 'public_url': 'https://sparklingdeng.notion.site/4-Avengers-Endgame-0a7962ea0d3b4878afde5e7d3312a480'}, {'object': 'page', 'id': '46d1a196-0ab1-4e05-8aa9-0c9df9ebc0aa', 'created_time': '2022-10-31T13:46:00.000Z', 'last_edited_time': '2022-10-31T13:46:00.000Z', 'created_by': {'object': 'user', 'id': 'f2ce332b-8a03-4c31-adba-86f0b763dbb1'}, 'last_edited_by': {'object': 'user', 'id': 'f2ce332b-8a03-4c31-adba-86f0b763dbb1'}, 'cover': None, 'icon': None, 'parent': {'type': 'database_id', 'database_id': '9c4b15b3-675d-4396-80c8-7cb3a1e50873'}, 'archived': False, 'properties': {'影片链接': {'id': '%3C%3AGD', 'type': 'url', 'url': 'https://movie.douban.com/subject/2609258/'}, '观看时间': {'id': 'Nmq%7C', 'type': 'date', 'date': {'start': '2021-07-25', 'end': None, 'time_zone': None}}, '类型': {'id': 'Tt%3BE', 'type': 'multi_select', 'multi_select': []}, '有啥想说的不': {'id': 'T%7DY%3B', 'type': 'rich_text', 'rich_text': []}, '评分': {'id': 'XQnP', 'type': 'select', 'select': {'id': 'e51217d5-f71e-41dc-be48-0a7582889afa', 'name': '⭐⭐⭐', 'color': 'blue'}}, '封面': {'id': 'tSca', 'type': 'files', 'files': []}, '导演': {'id': 'wV%3AI', 'type': 'multi_select', 'multi_select': []}, '名称': {'id': 'title', 'type': 'title', 'title': [{'type': 'text', 'text': {'content': '芝加哥七君子审判 / The Trial of the Chicago 7', 'link': None}, 'annotations': {'bold': False, 'italic': False, 'strikethrough': False, 'underline': False, 'code': False, 'color': 'default'}, 'plain_text': '芝加哥七君子审判 / The Trial of the Chicago 7', 'href': None}]}}, 'url': 'https://www.notion.so/The-Trial-of-the-Chicago-7-46d1a1960ab14e058aa90c9df9ebc0aa', 'public_url': 'https://sparklingdeng.notion.site/The-Trial-of-the-Chicago-7-46d1a1960ab14e058aa90c9df9ebc0aa'}, {'object': 'page', 'id': '487dee0a-ddc7-4f52-bb80-ebd8192cf251', 'created_time': '2022-10-31T13:46:00.000Z', 'last_edited_time': '2022-10-31T13:46:00.000Z', 'created_by': {'object': 'user', 'id': 'f2ce332b-8a03-4c31-adba-86f0b763dbb1'}, 'last_edited_by': {'object': 'user', 'id': 'f2ce332b-8a03-4c31-adba-86f0b763dbb1'}, 'cover': None, 'icon': None, 'parent': {'type': 'database_id', 'database_id': '9c4b15b3-675d-4396-80c8-7cb3a1e50873'}, 'archived': False, 'properties': {'影片链接': {'id': '%3C%3AGD', 'type': 'url', 'url': 'https://movie.douban.com/subject/26147418/'}, '观看时间': {'id': 'Nmq%7C', 'type': 'date', 'date': {'start': '2022-05-07', 'end': None, 'time_zone': None}}, '类型': {'id': 'Tt%3BE', 'type': 'multi_select', 'multi_select': []}, '有啥想说的不': {'id': 'T%7DY%3B', 'type': 'rich_text', 'rich_text': []}, '评分': {'id': 'XQnP', 'type': 'select', 'select': {'id': 'e51217d5-f71e-41dc-be48-0a7582889afa', 'name': '⭐⭐⭐', 'color': 'blue'}}, '封面': {'id': 'tSca', 'type': 'files', 'files': []}, '导演': {'id': 'wV%3AI', 'type': 'multi_select', 'multi_select': []}, '名称': {'id': 'title', 'type': 'title', 'title': [{'type': 'text', 'text': {'content': '神奇动物：邓布利多之谜 / Fantastic Beasts: The Secrets of Dumb...', 'link': None}, 'annotations': {'bold': False, 'italic': False, 'strikethrough': False, 'underline': False, 'code': False, 'color': 'default'}, 'plain_text': '神奇动物：邓布利多之谜 / Fantastic Beasts: The Secrets of Dumb...', 'href': None}]}}, 'url': 'https://www.notion.so/Fantastic-Beasts-The-Secrets-of-Dumb-487dee0addc74f52bb80ebd8192cf251', 'public_url': 'https://sparklingdeng.notion.site/Fantastic-Beasts-The-Secrets-of-Dumb-487dee0addc74f52bb80ebd8192cf251'}, {'object': 'page', 'id': '4b94e371-3cbb-48b8-8bb1-1d4b786db1c6', 'created_time': '2022-10-31T13:46:00.000Z', 'last_edited_time': '2022-10-31T13:46:00.000Z', 'created_by': {'object': 'user', 'id': 'f2ce332b-8a03-4c31-adba-86f0b763dbb1'}, 'last_edited_by': {'object': 'user', 'id': 'f2ce332b-8a03-4c31-adba-86f0b763dbb1'}, 'cover': None, 'icon': None, 'parent': {'type': 'database_id', 'database_id': '9c4b15b3-675d-4396-80c8-7cb3a1e50873'}, 'archived': False, 'properties': {'影片链接': {'id': '%3C%3AGD', 'type': 'url', 'url': 'https://movie.douban.com/subject/25728006/'}, '观看时间': {'id': 'Nmq%7C', 'type': 'date', 'date': {'start': '2021-05-21', 'end': None, 'time_zone': None}}, '类型': {'id': 'Tt%3BE', 'type': 'multi_select', 'multi_select': []}, '有啥想说的不': {'id': 'T%7DY%3B', 'type': 'rich_text', 'rich_text': []}, '评分': {'id': 'XQnP', 'type': 'select', 'select': {'id': 'e51217d5-f71e-41dc-be48-0a7582889afa', 'name': '⭐⭐⭐', 'color': 'blue'}}, '封面': {'id': 'tSca', 'type': 'files', 'files': []}, '导演': {'id': 'wV%3AI', 'type': 'multi_select', 'multi_select': []}, '名称': {'id': 'title', 'type': 'title', 'title': [{'type': 'text', 'text': {'content': '速度与激情9 / F9: The Fast Saga', 'link': None}, 'annotations': {'bold': False, 'italic': False, 'strikethrough': False, 'underline': False, 'code': False, 'color': 'default'}, 'plain_text': '速度与激情9 / F9: The Fast Saga', 'href': None}]}}, 'url': 'https://www.notion.so/9-F9-The-Fast-Saga-4b94e3713cbb48b88bb11d4b786db1c6', 'public_url': 'https://sparklingdeng.notion.site/9-F9-The-Fast-Saga-4b94e3713cbb48b88bb11d4b786db1c6'}, {'object': 'page', 'id': '4fae924e-f741-4261-9e69-42addb931e7a', 'created_time': '2022-10-31T13:46:00.000Z', 'last_edited_time': '2022-10-31T13:46:00.000Z', 'created_by': {'object': 'user', 'id': 'f2ce332b-8a03-4c31-adba-86f0b763dbb1'}, 'last_edited_by': {'object': 'user', 'id': 'f2ce332b-8a03-4c31-adba-86f0b763dbb1'}, 'cover': None, 'icon': None, 'parent': {'type': 'database_id', 'database_id': '9c4b15b3-675d-4396-80c8-7cb3a1e50873'}, 'archived': False, 'properties': {'影片链接': {'id': '%3C%3AGD', 'type': 'url', 'url': 'https://movie.douban.com/subject/30166971/'}, '观看时间': {'id': 'Nmq%7C', 'type': 'date', 'date': {'start': '2021-08-25', 'end': None, 'time_zone': None}}, '类型': {'id': 'Tt%3BE', 'type': 'multi_select', 'multi_select': []}, '有啥想说的不': {'id': 'T%7DY%3B', 'type': 'rich_text', 'rich_text': []}, '评分': {'id': 'XQnP', 'type': 'select', 'select': {'id': 'a63712e1-3187-4341-9454-4a9840244e22', 'name': '⭐⭐', 'color': 'brown'}}, '封面': {'id': 'tSca', 'type': 'files', 'files': []}, '导演': {'id': 'wV%3AI', 'type': 'multi_select', 'multi_select': []}, '名称': {'id': 'title', 'type': 'title', 'title': [{'type': 'text', 'text': {'content': '测谎人', 'link': None}, 'annotations': {'bold': False, 'italic': False, 'strikethrough': False, 'underline': False, 'code': False, 'color': 'default'}, 'plain_text': '测谎人', 'href': None}]}}, 'url': 'https://www.notion.so/4fae924ef74142619e6942addb931e7a', 'public_url': 'https://sparklingdeng.notion.site/4fae924ef74142619e6942addb931e7a'}, {'object': 'page', 'id': '5856ab94-96f4-443d-ad93-b2731fceb6a2', 'created_time': '2022-10-31T13:46:00.000Z', 'last_edited_time': '2022-10-31T13:46:00.000Z', 'created_by': {'object': 'user', 'id': 'f2ce332b-8a03-4c31-adba-86f0b763dbb1'}, 'last_edited_by': {'object': 'user', 'id': 'f2ce332b-8a03-4c31-adba-86f0b763dbb1'}, 'cover': None, 'icon': None, 'parent': {'type': 'database_id', 'database_id': '9c4b15b3-675d-4396-80c8-7cb3a1e50873'}, 'archived': False, 'properties': {'影片链接': {'id': '%3C%3AGD', 'type': 'url', 'url': 'https://movie.douban.com/subject/30444960/'}, '观看时间': {'id': 'Nmq%7C', 'type': 'date', 'date': {'start': '2021-01-21', 'end': None, 'time_zone': None}}, '类型': {'id': 'Tt%3BE', 'type': 'multi_select', 'multi_select': []}, '有啥想说的不': {'id': 'T%7DY%3B', 'type': 'rich_text', 'rich_text': []}, '评分': {'id': 'XQnP', 'type': 'select', 'select': {'id': 'e51217d5-f71e-41dc-be48-0a7582889afa', 'name': '⭐⭐⭐', 'color': 'blue'}}, '封面': {'id': 'tSca', 'type': 'files', 'files': []}, '导演': {'id': 'wV%3AI', 'type': 'multi_select', 'multi_select': []}, '名称': {'id': 'title', 'type': 'title', 'title': [{'type': 'text', 'text': {'content': '信条 / Tenet', 'link': None}, 'annotations': {'bold': False, 'italic': False, 'strikethrough': False, 'underline': False, 'code': False, 'color': 'default'}, 'plain_text': '信条 / Tenet', 'href': None}]}}, 'url': 'https://www.notion.so/Tenet-5856ab9496f4443dad93b2731fceb6a2', 'public_url': 'https://sparklingdeng.notion.site/Tenet-5856ab9496f4443dad93b2731fceb6a2'}, {'object': 'page', 'id': '66f679b3-cb19-40de-8004-cd7a51c1c95d', 'created_time': '2022-10-31T13:46:00.000Z', 'last_edited_time': '2022-10-31T13:46:00.000Z', 'created_by': {'object': 'user', 'id': 'f2ce332b-8a03-4c31-adba-86f0b763dbb1'}, 'last_edited_by': {'object': 'user', 'id': 'f2ce332b-8a03-4c31-adba-86f0b763dbb1'}, 'cover': None, 'icon': None, 'parent': {'type': 'database_id', 'database_id': '9c4b15b3-675d-4396-80c8-7cb3a1e50873'}, 'archived': False, 'properties': {'影片链接': {'id': '%3C%3AGD', 'type': 'url', 'url': 'https://movie.douban.com/subject/30143331/'}, '观看时间': {'id': 'Nmq%7C', 'type': 'date', 'date': {'start': '2021-12-03', 'end': None, 'time_zone': None}}, '类型': {'id': 'Tt%3BE', 'type': 'multi_select', 'multi_select': []}, '有啥想说的不': {'id': 'T%7DY%3B', 'type': 'rich_text', 'rich_text': []}, '评分': {'id': 'XQnP', 'type': 'select', 'select': {'id': 'e51217d5-f71e-41dc-be48-0a7582889afa', 'name': '⭐⭐⭐', 'color': 'blue'}}, '封面': {'id': 'tSca', 'type': 'files', 'files': []}, '导演': {'id': 'wV%3AI', 'type': 'multi_select', 'multi_select': []}, '名称': {'id': 'title', 'type': 'title', 'title': [{'type': 'text', 'text': {'content': '红色通缉令 / Red Notice', 'link': None}, 'annotations': {'bold': False, 'italic': False, 'strikethrough': False, 'underline': False, 'code': False, 'color': 'default'}, 'plain_text': '红色通缉令 / Red Notice', 'href': None}]}}, 'url': 'https://www.notion.so/Red-Notice-66f679b3cb1940de8004cd7a51c1c95d', 'public_url': 'https://sparklingdeng.notion.site/Red-Notice-66f679b3cb1940de8004cd7a51c1c95d'}, {'object': 'page', 'id': '745470bc-7794-4b10-bf86-50040260f897', 'created_time': '2022-10-31T13:46:00.000Z', 'last_edited_time': '2022-10-31T13:46:00.000Z', 'created_by': {'object': 'user', 'id': 'f2ce332b-8a03-4c31-adba-86f0b763dbb1'}, 'last_edited_by': {'object': 'user', 'id': 'f2ce332b-8a03-4c31-adba-86f0b763dbb1'}, 'cover': None, 'icon': None, 'parent': {'type': 'database_id', 'database_id': '9c4b15b3-675d-4396-80c8-7cb3a1e50873'}, 'archived': False, 'properties': {'影片链接': {'id': '%3C%3AGD', 'type': 'url', 'url': 'https://movie.douban.com/subject/26933210/'}, '观看时间': {'id': 'Nmq%7C', 'type': 'date', 'date': {'start': '2022-07-20', 'end': None, 'time_zone': None}}, '类型': {'id': 'Tt%3BE', 'type': 'multi_select', 'multi_select': []}, '有啥想说的不': {'id': 'T%7DY%3B', 'type': 'rich_text', 'rich_text': []}, '评分': {'id': 'XQnP', 'type': 'select', 'select': {'id': 'e51217d5-f71e-41dc-be48-0a7582889afa', 'name': '⭐⭐⭐', 'color': 'blue'}}, '封面': {'id': 'tSca', 'type': 'files', 'files': []}, '导演': {'id': 'wV%3AI', 'type': 'multi_select', 'multi_select': []}, '名称': {'id': 'title', 'type': 'title', 'title': [{'type': 'text', 'text': {'content': '蜘蛛侠：英雄无归 / Spider-Man: No Way Home', 'link': None}, 'annotations': {'bold': False, 'italic': False, 'strikethrough': False, 'underline': False, 'code': False, 'color': 'default'}, 'plain_text': '蜘蛛侠：英雄无归 / Spider-Man: No Way Home', 'href': None}]}}, 'url': 'https://www.notion.so/Spider-Man-No-Way-Home-745470bc77944b10bf8650040260f897', 'public_url': 'https://sparklingdeng.notion.site/Spider-Man-No-Way-Home-745470bc77944b10bf8650040260f897'}, {'object': 'page', 'id': 'b0eb7832-9c9d-44ac-baf9-2b71e61351f0', 'created_time': '2022-10-31T13:46:00.000Z', 'last_edited_time': '2022-10-31T13:46:00.000Z', 'created_by': {'object': 'user', 'id': 'f2ce332b-8a03-4c31-adba-86f0b763dbb1'}, 'last_edited_by': {'object': 'user', 'id': 'f2ce332b-8a03-4c31-adba-86f0b763dbb1'}, 'cover': None, 'icon': None, 'parent': {'type': 'database_id', 'database_id': '9c4b15b3-675d-4396-80c8-7cb3a1e50873'}, 'archived': False, 'properties': {'影片链接': {'id': '%3C%3AGD', 'type': 'url', 'url': 'https://movie.douban.com/subject/26607693/'}, '观看时间': {'id': 'Nmq%7C', 'type': 'date', 'date': {'start': '2021-12-06', 'end': None, 'time_zone': None}}, '类型': {'id': 'Tt%3BE', 'type': 'multi_select', 'multi_select': []}, '有啥想说的不': {'id': 'T%7DY%3B', 'type': 'rich_text', 'rich_text': []}, '评分': {'id': 'XQnP', 'type': 'select', 'select': {'id': 'e51217d5-f71e-41dc-be48-0a7582889afa', 'name': '⭐⭐⭐', 'color': 'blue'}}, '封面': {'id': 'tSca', 'type': 'files', 'files': []}, '导演': {'id': 'wV%3AI', 'type': 'multi_select', 'multi_select': []}, '名称': {'id': 'title', 'type': 'title', 'title': [{'type': 'text', 'text': {'content': '敦刻尔克 / Dunkirk', 'link': None}, 'annotations': {'bold': False, 'italic': False, 'strikethrough': False, 'underline': False, 'code': False, 'color': 'default'}, 'plain_text': '敦刻尔克 / Dunkirk', 'href': None}]}}, 'url': 'https://www.notion.so/Dunkirk-b0eb78329c9d44acbaf92b71e61351f0', 'public_url': 'https://sparklingdeng.notion.site/Dunkirk-b0eb78329c9d44acbaf92b71e61351f0'}, {'object': 'page', 'id': 'e3313668-964a-4a4d-830c-1d06a311c9c4', 'created_time': '2022-10-31T13:46:00.000Z', 'last_edited_time': '2022-10-31T13:46:00.000Z', 'created_by': {'object': 'user', 'id': 'f2ce332b-8a03-4c31-adba-86f0b763dbb1'}, 'last_edited_by': {'object': 'user', 'id': 'f2ce332b-8a03-4c31-adba-86f0b763dbb1'}, 'cover': None, 'icon': None, 'parent': {'type': 'database_id', 'database_id': '9c4b15b3-675d-4396-80c8-7cb3a1e50873'}, 'archived': False, 'properties': {'影片链接': {'id': '%3C%3AGD', 'type': 'url', 'url': 'https://movie.douban.com/subject/30304994/'}, '观看时间': {'id': 'Nmq%7C', 'type': 'date', 'date': {'start': '2022-08-11', 'end': None, 'time_zone': None}}, '类型': {'id': 'Tt%3BE', 'type': 'multi_select', 'multi_select': []}, '有啥想说的不': {'id': 'T%7DY%3B', 'type': 'rich_text', 'rich_text': []}, '评分': {'id': 'XQnP', 'type': 'select', 'select': {'id': 'e51217d5-f71e-41dc-be48-0a7582889afa', 'name': '⭐⭐⭐', 'color': 'blue'}}, '封面': {'id': 'tSca', 'type': 'files', 'files': []}, '导演': {'id': 'wV%3AI', 'type': 'multi_select', 'multi_select': []}, '名称': {'id': 'title', 'type': 'title', 'title': [{'type': 'text', 'text': {'content': '奇异博士2：疯狂多元宇宙 / Doctor Strange in the Multiverse of ...', 'link': None}, 'annotations': {'bold': False, 'italic': False, 'strikethrough': False, 'underline': False, 'code': False, 'color': 'default'}, 'plain_text': '奇异博士2：疯狂多元宇宙 / Doctor Strange in the Multiverse of ...', 'href': None}]}}, 'url': 'https://www.notion.so/2-Doctor-Strange-in-the-Multiverse-of-e3313668964a4a4d830c1d06a311c9c4', 'public_url': 'https://sparklingdeng.notion.site/2-Doctor-Strange-in-the-Multiverse-of-e3313668964a4a4d830c1d06a311c9c4'}, {'object': 'page', 'id': '06708391-35b9-4fa4-9067-216c7a6a3dad', 'created_time': '2022-10-31T13:45:00.000Z', 'last_edited_time': '2022-10-31T13:45:00.000Z', 'created_by': {'object': 'user', 'id': 'f2ce332b-8a03-4c31-adba-86f0b763dbb1'}, 'last_edited_by': {'object': 'user', 'id': 'f2ce332b-8a03-4c31-adba-86f0b763dbb1'}, 'cover': None, 'icon': None, 'parent': {'type': 'database_id', 'database_id': '9c4b15b3-675d-4396-80c8-7cb3a1e50873'}, 'archived': False, 'properties': {'影片链接': {'id': '%3C%3AGD', 'type': 'url', 'url': 'https://movie.douban.com/subject/26353671/'}, '观看时间': {'id': 'Nmq%7C', 'type': 'date', 'date': {'start': '2022-08-10', 'end': None, 'time_zone': None}}, '类型': {'id': 'Tt%3BE', 'type': 'multi_select', 'multi_select': []}, '有啥想说的不': {'id': 'T%7DY%3B', 'type': 'rich_text', 'rich_text': []}, '评分': {'id': 'XQnP', 'type': 'select', 'select': {'id': 'b48e151e-2257-45a8-a693-a0fde5c4cff1', 'name': '⭐⭐⭐⭐', 'color': 'purple'}}, '封面': {'id': 'tSca', 'type': 'files', 'files': []}, '导演': {'id': 'wV%3AI', 'type': 'multi_select', 'multi_select': []}, '名称': {'id': 'title', 'type': 'title', 'title': [{'type': 'text', 'text': {'content': '明日战记 / 明日戰記', 'link': None}, 'annotations': {'bold': False, 'italic': False, 'strikethrough': False, 'underline': False, 'code': False, 'color': 'default'}, 'plain_text': '明日战记 / 明日戰記', 'href': None}]}}, 'url': 'https://www.notion.so/0670839135b94fa49067216c7a6a3dad', 'public_url': 'https://sparklingdeng.notion.site/0670839135b94fa49067216c7a6a3dad'}, {'object': 'page', 'id': '0674f9bf-7a2f-4bf3-8836-6ef5cc7428e3', 'created_time': '2022-10-31T13:45:00.000Z', 'last_edited_time': '2022-10-31T13:45:00.000Z', 'created_by': {'object': 'user', 'id': 'f2ce332b-8a03-4c31-adba-86f0b763dbb1'}, 'last_edited_by': {'object': 'user', 'id': 'f2ce332b-8a03-4c31-adba-86f0b763dbb1'}, 'cover': None, 'icon': None, 'parent': {'type': 'database_id', 'database_id': '9c4b15b3-675d-4396-80c8-7cb3a1e50873'}, 'archived': False, 'properties': {'影片链接': {'id': '%3C%3AGD', 'type': 'url', 'url': 'https://movie.douban.com/subject/34917447/'}, '观看时间': {'id': 'Nmq%7C', 'type': 'date', 'date': {'start': '2021-06-15', 'end': None, 'time_zone': None}}, '类型': {'id': 'Tt%3BE', 'type': 'multi_select', 'multi_select': []}, '有啥想说的不': {'id': 'T%7DY%3B', 'type': 'rich_text', 'rich_text': []}, '评分': {'id': 'XQnP', 'type': 'select', 'select': {'id': 'b48e151e-2257-45a8-a693-a0fde5c4cff1', 'name': '⭐⭐⭐⭐', 'color': 'purple'}}, '封面': {'id': 'tSca', 'type': 'files', 'files': []}, '导演': {'id': 'wV%3AI', 'type': 'multi_select', 'multi_select': []}, '名称': {'id': 'title', 'type': 'title', 'title': [{'type': 'text', 'text': {'content': '超越', 'link': None}, 'annotations': {'bold': False, 'italic': False, 'strikethrough': False, 'underline': False, 'code': False, 'color': 'default'}, 'plain_text': '超越', 'href': None}]}}, 'url': 'https://www.notion.so/0674f9bf7a2f4bf388366ef5cc7428e3', 'public_url': 'https://sparklingdeng.notion.site/0674f9bf7a2f4bf388366ef5cc7428e3'}, {'object': 'page', 'id': '06e9c37a-1c86-4930-8fe5-f93dda9f26b7', 'created_time': '2022-10-31T13:45:00.000Z', 'last_edited_time': '2022-10-31T13:45:00.000Z', 'created_by': {'object': 'user', 'id': 'f2ce332b-8a03-4c31-adba-86f0b763dbb1'}, 'last_edited_by': {'object': 'user', 'id': 'f2ce332b-8a03-4c31-adba-86f0b763dbb1'}, 'cover': None, 'icon': None, 'parent': {'type': 'database_id', 'database_id': '9c4b15b3-675d-4396-80c8-7cb3a1e50873'}, 'archived': False, 'properties': {'影片链接': {'id': '%3C%3AGD', 'type': 'url', 'url': 'https://movie.douban.com/subject/25828589/'}, '观看时间': {'id': 'Nmq%7C', 'type': 'date', 'date': {'start': '2021-07-17', 'end': None, 'time_zone': None}}, '类型': {'id': 'Tt%3BE', 'type': 'multi_select', 'multi_select': []}, '有啥想说的不': {'id': 'T%7DY%3B', 'type': 'rich_text', 'rich_text': []}, '评分': {'id': 'XQnP', 'type': 'select', 'select': {'id': 'b48e151e-2257-45a8-a693-a0fde5c4cff1', 'name': '⭐⭐⭐⭐', 'color': 'purple'}}, '封面': {'id': 'tSca', 'type': 'files', 'files': []}, '导演': {'id': 'wV%3AI', 'type': 'multi_select', 'multi_select': []}, '名称': {'id': 'title', 'type': 'title', 'title': [{'type': 'text', 'text': {'content': '黑寡妇 / Black Widow', 'link': None}, 'annotations': {'bold': False, 'italic': False, 'strikethrough': False, 'underline': False, 'code': False, 'color': 'default'}, 'plain_text': '黑寡妇 / Black Widow', 'href': None}]}}, 'url': 'https://www.notion.so/Black-Widow-06e9c37a1c8649308fe5f93dda9f26b7', 'public_url': 'https://sparklingdeng.notion.site/Black-Widow-06e9c37a1c8649308fe5f93dda9f26b7'}, {'object': 'page', 'id': '076913de-ee9d-4a8b-9e63-d21766cb18ad', 'created_time': '2022-10-31T13:45:00.000Z', 'last_edited_time': '2022-10-31T13:45:00.000Z', 'created_by': {'object': 'user', 'id': 'f2ce332b-8a03-4c31-adba-86f0b763dbb1'}, 'last_edited_by': {'object': 'user', 'id': 'f2ce332b-8a03-4c31-adba-86f0b763dbb1'}, 'cover': None, 'icon': None, 'parent': {'type': 'database_id', 'database_id': '9c4b15b3-675d-4396-80c8-7cb3a1e50873'}, 'archived': False, 'properties': {'影片链接': {'id': '%3C%3AGD', 'type': 'url', 'url': 'https://movie.douban.com/subject/25907124/'}, '观看时间': {'id': 'Nmq%7C', 'type': 'date', 'date': {'start': '2021-01-21', 'end': None, 'time_zone': None}}, '类型': {'id': 'Tt%3BE', 'type': 'multi_select', 'multi_select': []}, '有啥想说的不': {'id': 'T%7DY%3B', 'type': 'rich_text', 'rich_text': []}, '评分': {'id': 'XQnP', 'type': 'select', 'select': {'id': 'b48e151e-2257-45a8-a693-a0fde5c4cff1', 'name': '⭐⭐⭐⭐', 'color': 'purple'}}, '封面': {'id': 'tSca', 'type': 'files', 'files': []}, '导演': {'id': 'wV%3AI', 'type': 'multi_select', 'multi_select': []}, '名称': {'id': 'title', 'type': 'title', 'title': [{'type': 'text', 'text': {'content': '姜子牙', 'link': None}, 'annotations': {'bold': False, 'italic': False, 'strikethrough': False, 'underline': False, 'code': False, 'color': 'default'}, 'plain_text': '姜子牙', 'href': None}]}}, 'url': 'https://www.notion.so/076913deee9d4a8b9e63d21766cb18ad', 'public_url': 'https://sparklingdeng.notion.site/076913deee9d4a8b9e63d21766cb18ad'}, {'object': 'page', 'id': '0e8dc576-4f39-4504-8aef-368e354b883d', 'created_time': '2022-10-31T13:45:00.000Z', 'last_edited_time': '2022-10-31T13:45:00.000Z', 'created_by': {'object': 'user', 'id': 'f2ce332b-8a03-4c31-adba-86f0b763dbb1'}, 'last_edited_by': {'object': 'user', 'id': 'f2ce332b-8a03-4c31-adba-86f0b763dbb1'}, 'cover': None, 'icon': None, 'parent': {'type': 'database_id', 'database_id': '9c4b15b3-675d-4396-80c8-7cb3a1e50873'}, 'archived': False, 'properties': {'影片链接': {'id': '%3C%3AGD', 'type': 'url', 'url': 'https://movie.douban.com/subject/30378445/'}, '观看时间': {'id': 'Nmq%7C', 'type': 'date', 'date': {'start': '2021-02-14', 'end': None, 'time_zone': None}}, '类型': {'id': 'Tt%3BE', 'type': 'multi_select', 'multi_select': []}, '有啥想说的不': {'id': 'T%7DY%3B', 'type': 'rich_text', 'rich_text': []}, '评分': {'id': 'XQnP', 'type': 'select', 'select': {'id': 'b48e151e-2257-45a8-a693-a0fde5c4cff1', 'name': '⭐⭐⭐⭐', 'color': 'purple'}}, '封面': {'id': 'tSca', 'type': 'files', 'files': []}, '导演': {'id': 'wV%3AI', 'type': 'multi_select', 'multi_select': []}, '名称': {'id': 'title', 'type': 'title', 'title': [{'type': 'text', 'text': {'content': '诸神的黄昏 第一季 / Ragnarok', 'link': None}, 'annotations': {'bold': False, 'italic': False, 'strikethrough': False, 'underline': False, 'code': False, 'color': 'default'}, 'plain_text': '诸神的黄昏 第一季 / Ragnarok', 'href': None}]}}, 'url': 'https://www.notion.so/Ragnarok-0e8dc5764f3945048aef368e354b883d', 'public_url': 'https://sparklingdeng.notion.site/Ragnarok-0e8dc5764f3945048aef368e354b883d'}, {'object': 'page', 'id': '133554d9-7a14-41f7-9179-132b69af6839', 'created_time': '2022-10-31T13:45:00.000Z', 'last_edited_time': '2022-11-01T08:29:00.000Z', 'created_by': {'object': 'user', 'id': 'f2ce332b-8a03-4c31-adba-86f0b763dbb1'}, 'last_edited_by': {'object': 'user', 'id': 'f2ce332b-8a03-4c31-adba-86f0b763dbb1'}, 'cover': None, 'icon': None, 'parent': {'type': 'database_id', 'database_id': '9c4b15b3-675d-4396-80c8-7cb3a1e50873'}, 'archived': False, 'properties': {'影片链接': {'id': '%3C%3AGD', 'type': 'url', 'url': 'https://movie.douban.com/subject/11620560/'}, '观看时间': {'id': 'Nmq%7C', 'type': 'date', 'date': {'start': '2021-01-21', 'end': None, 'time_zone': None}}, '类型': {'id': 'Tt%3BE', 'type': 'multi_select', 'multi_select': []}, '有啥想说的不': {'id': 'T%7DY%3B', 'type': 'rich_text', 'rich_text': []}, '评分': {'id': 'XQnP', 'type': 'select', 'select': {'id': 'b48e151e-2257-45a8-a693-a0fde5c4cff1', 'name': '⭐⭐⭐⭐', 'color': 'purple'}}, '封面': {'id': 'tSca', 'type': 'files', 'files': [{'name': 'https://img9.doubanio.com/view/photo/s_ratio_poster/public/p2276234635.webp', 'type': 'external', 'external': {'url': 'https://img9.doubanio.com/view/photo/s_ratio_poster/public/p2276234635.webp'}}]}, '导演': {'id': 'wV%3AI', 'type': 'multi_select', 'multi_select': []}, '名称': {'id': 'title', 'type': 'title', 'title': [{'type': 'text', 'text': {'content': '007：幽灵党 / Spectre', 'link': None}, 'annotations': {'bold': False, 'italic': False, 'strikethrough': False, 'underline': False, 'code': False, 'color': 'default'}, 'plain_text': '007：幽灵党 / Spectre', 'href': None}]}}, 'url': 'https://www.notion.so/007-Spectre-133554d97a1441f79179132b69af6839', 'public_url': 'https://sparklingdeng.notion.site/007-Spectre-133554d97a1441f79179132b69af6839'}, {'object': 'page', 'id': '250c081a-82e7-430e-aa4b-e3e1d6062741', 'created_time': '2022-10-31T13:45:00.000Z', 'last_edited_time': '2022-10-31T13:45:00.000Z', 'created_by': {'object': 'user', 'id': 'f2ce332b-8a03-4c31-adba-86f0b763dbb1'}, 'last_edited_by': {'object': 'user', 'id': 'f2ce332b-8a03-4c31-adba-86f0b763dbb1'}, 'cover': None, 'icon': None, 'parent': {'type': 'database_id', 'database_id': '9c4b15b3-675d-4396-80c8-7cb3a1e50873'}, 'archived': False, 'properties': {'影片链接': {'id': '%3C%3AGD', 'type': 'url', 'url': 'https://movie.douban.com/subject/34801038/'}, '观看时间': {'id': 'Nmq%7C', 'type': 'date', 'date': {'start': '2022-07-02', 'end': None, 'time_zone': None}}, '类型': {'id': 'Tt%3BE', 'type': 'multi_select', 'multi_select': []}, '有啥想说的不': {'id': 'T%7DY%3B', 'type': 'rich_text', 'rich_text': []}, '评分': {'id': 'XQnP', 'type': 'select', 'select': {'id': 'b48e151e-2257-45a8-a693-a0fde5c4cff1', 'name': '⭐⭐⭐⭐', 'color': 'purple'}}, '封面': {'id': 'tSca', 'type': 'files', 'files': []}, '导演': {'id': 'wV%3AI', 'type': 'multi_select', 'multi_select': []}, '名称': {'id': 'title', 'type': 'title', 'title': [{'type': 'text', 'text': {'content': '黑客帝国：矩阵重启 / The Matrix Resurrections', 'link': None}, 'annotations': {'bold': False, 'italic': False, 'strikethrough': False, 'underline': False, 'code': False, 'color': 'default'}, 'plain_text': '黑客帝国：矩阵重启 / The Matrix Resurrections', 'href': None}]}}, 'url': 'https://www.notion.so/The-Matrix-Resurrections-250c081a82e7430eaa4be3e1d6062741', 'public_url': 'https://sparklingdeng.notion.site/The-Matrix-Resurrections-250c081a82e7430eaa4be3e1d6062741'}, {'object': 'page', 'id': '25d10c24-17b2-4a05-9d21-80f2a5bc7c40', 'created_time': '2022-10-31T13:45:00.000Z', 'last_edited_time': '2022-10-31T13:45:00.000Z', 'created_by': {'object': 'user', 'id': 'f2ce332b-8a03-4c31-adba-86f0b763dbb1'}, 'last_edited_by': {'object': 'user', 'id': 'f2ce332b-8a03-4c31-adba-86f0b763dbb1'}, 'cover': None, 'icon': None, 'parent': {'type': 'database_id', 'database_id': '9c4b15b3-675d-4396-80c8-7cb3a1e50873'}, 'archived': False, 'properties': {'影片链接': {'id': '%3C%3AGD', 'type': 'url', 'url': 'https://movie.douban.com/subject/1291572/'}, '观看时间': {'id': 'Nmq%7C', 'type': 'date', 'date': {'start': '2021-04-20', 'end': None, 'time_zone': None}}, '类型': {'id': 'Tt%3BE', 'type': 'multi_select', 'multi_select': []}, '有啥想说的不': {'id': 'T%7DY%3B', 'type': 'rich_text', 'rich_text': []}, '评分': {'id': 'XQnP', 'type': 'select', 'select': {'id': 'b48e151e-2257-45a8-a693-a0fde5c4cff1', 'name': '⭐⭐⭐⭐', 'color': 'purple'}}, '封面': {'id': 'tSca', 'type': 'files', 'files': []}, '导演': {'id': 'wV%3AI', 'type': 'multi_select', 'multi_select': []}, '名称': {'id': 'title', 'type': 'title', 'title': [{'type': 'text', 'text': {'content': '指环王2：双塔奇兵 / The Lord of the Rings: The Two Towers', 'link': None}, 'annotations': {'bold': False, 'italic': False, 'strikethrough': False, 'underline': False, 'code': False, 'color': 'default'}, 'plain_text': '指环王2：双塔奇兵 / The Lord of the Rings: The Two Towers', 'href': None}]}}, 'url': 'https://www.notion.so/2-The-Lord-of-the-Rings-The-Two-Towers-25d10c2417b24a059d2180f2a5bc7c40', 'public_url': 'https://sparklingdeng.notion.site/2-The-Lord-of-the-Rings-The-Two-Towers-25d10c2417b24a059d2180f2a5bc7c40'}, {'object': 'page', 'id': '3e8aa284-df14-4367-8f68-347109484f05', 'created_time': '2022-10-31T13:45:00.000Z', 'last_edited_time': '2022-10-31T13:45:00.000Z', 'created_by': {'object': 'user', 'id': 'f2ce332b-8a03-4c31-adba-86f0b763dbb1'}, 'last_edited_by': {'object': 'user', 'id': 'f2ce332b-8a03-4c31-adba-86f0b763dbb1'}, 'cover': None, 'icon': None, 'parent': {'type': 'database_id', 'database_id': '9c4b15b3-675d-4396-80c8-7cb3a1e50873'}, 'archived': False, 'properties': {'影片链接': {'id': '%3C%3AGD', 'type': 'url', 'url': 'https://movie.douban.com/subject/3895511/'}, '观看时间': {'id': 'Nmq%7C', 'type': 'date', 'date': {'start': '2021-11-28', 'end': None, 'time_zone': None}}, '类型': {'id': 'Tt%3BE', 'type': 'multi_select', 'multi_select': []}, '有啥想说的不': {'id': 'T%7DY%3B', 'type': 'rich_text', 'rich_text': []}, '评分': {'id': 'XQnP', 'type': 'select', 'select': {'id': 'b48e151e-2257-45a8-a693-a0fde5c4cff1', 'name': '⭐⭐⭐⭐', 'color': 'purple'}}, '封面': {'id': 'tSca', 'type': 'files', 'files': []}, '导演': {'id': 'wV%3AI', 'type': 'multi_select', 'multi_select': []}, '名称': {'id': 'title', 'type': 'title', 'title': [{'type': 'text', 'text': {'content': '遗落战境 / Oblivion', 'link': None}, 'annotations': {'bold': False, 'italic': False, 'strikethrough': False, 'underline': False, 'code': False, 'color': 'default'}, 'plain_text': '遗落战境 / Oblivion', 'href': None}]}}, 'url': 'https://www.notion.so/Oblivion-3e8aa284df1443678f68347109484f05', 'public_url': 'https://sparklingdeng.notion.site/Oblivion-3e8aa284df1443678f68347109484f05'}, {'object': 'page', 'id': '46f74c1b-f574-4d53-881d-688189f5a0e6', 'created_time': '2022-10-31T13:45:00.000Z', 'last_edited_time': '2022-10-31T13:45:00.000Z', 'created_by': {'object': 'user', 'id': 'f2ce332b-8a03-4c31-adba-86f0b763dbb1'}, 'last_edited_by': {'object': 'user', 'id': 'f2ce332b-8a03-4c31-adba-86f0b763dbb1'}, 'cover': None, 'icon': None, 'parent': {'type': 'database_id', 'database_id': '9c4b15b3-675d-4396-80c8-7cb3a1e50873'}, 'archived': False, 'properties': {'影片链接': {'id': '%3C%3AGD', 'type': 'url', 'url': 'https://movie.douban.com/subject/34418203/'}, '观看时间': {'id': 'Nmq%7C', 'type': 'date', 'date': {'start': '2021-05-17', 'end': None, 'time_zone': None}}, '类型': {'id': 'Tt%3BE', 'type': 'multi_select', 'multi_select': []}, '有啥想说的不': {'id': 'T%7DY%3B', 'type': 'rich_text', 'rich_text': []}, '评分': {'id': 'XQnP', 'type': 'select', 'select': {'id': 'b48e151e-2257-45a8-a693-a0fde5c4cff1', 'name': '⭐⭐⭐⭐', 'color': 'purple'}}, '封面': {'id': 'tSca', 'type': 'files', 'files': []}, '导演': {'id': 'wV%3AI', 'type': 'multi_select', 'multi_select': []}, '名称': {'id': 'title', 'type': 'title', 'title': [{'type': 'text', 'text': {'content': '爱，死亡和机器人 第二季 / Love, Death & Robots Season 2', 'link': None}, 'annotations': {'bold': False, 'italic': False, 'strikethrough': False, 'underline': False, 'code': False, 'color': 'default'}, 'plain_text': '爱，死亡和机器人 第二季 / Love, Death & Robots Season 2', 'href': None}]}}, 'url': 'https://www.notion.so/Love-Death-Robots-Season-2-46f74c1bf5744d53881d688189f5a0e6', 'public_url': 'https://sparklingdeng.notion.site/Love-Death-Robots-Season-2-46f74c1bf5744d53881d688189f5a0e6'}, {'object': 'page', 'id': '4d5d6122-c92c-4bc7-acb9-e22942365c31', 'created_time': '2022-10-31T13:45:00.000Z', 'last_edited_time': '2022-10-31T13:45:00.000Z', 'created_by': {'object': 'user', 'id': 'f2ce332b-8a03-4c31-adba-86f0b763dbb1'}, 'last_edited_by': {'object': 'user', 'id': 'f2ce332b-8a03-4c31-adba-86f0b763dbb1'}, 'cover': None, 'icon': None, 'parent': {'type': 'database_id', 'database_id': '9c4b15b3-675d-4396-80c8-7cb3a1e50873'}, 'archived': False, 'properties': {'影片链接': {'id': '%3C%3AGD', 'type': 'url', 'url': 'https://movie.douban.com/subject/30171424/'}, '观看时间': {'id': 'Nmq%7C', 'type': 'date', 'date': {'start': '2022-08-17', 'end': None, 'time_zone': None}}, '类型': {'id': 'Tt%3BE', 'type': 'multi_select', 'multi_select': []}, '有啥想说的不': {'id': 'T%7DY%3B', 'type': 'rich_text', 'rich_text': []}, '评分': {'id': 'XQnP', 'type': 'select', 'select': {'id': 'b48e151e-2257-45a8-a693-a0fde5c4cff1', 'name': '⭐⭐⭐⭐', 'color': 'purple'}}, '封面': {'id': 'tSca', 'type': 'files', 'files': []}, '导演': {'id': 'wV%3AI', 'type': 'multi_select', 'multi_select': []}, '名称': {'id': 'title', 'type': 'title', 'title': [{'type': 'text', 'text': {'content': '拆弹专家2', 'link': None}, 'annotations': {'bold': False, 'italic': False, 'strikethrough': False, 'underline': False, 'code': False, 'color': 'default'}, 'plain_text': '拆弹专家2', 'href': None}]}}, 'url': 'https://www.notion.so/2-4d5d6122c92c4bc7acb9e22942365c31', 'public_url': 'https://sparklingdeng.notion.site/2-4d5d6122c92c4bc7acb9e22942365c31'}, {'object': 'page', 'id': '4fece020-7f31-4211-9704-e4a3baeb8a0e', 'created_time': '2022-10-31T13:45:00.000Z', 'last_edited_time': '2022-10-31T13:45:00.000Z', 'created_by': {'object': 'user', 'id': 'f2ce332b-8a03-4c31-adba-86f0b763dbb1'}, 'last_edited_by': {'object': 'user', 'id': 'f2ce332b-8a03-4c31-adba-86f0b763dbb1'}, 'cover': None, 'icon': None, 'parent': {'type': 'database_id', 'database_id': '9c4b15b3-675d-4396-80c8-7cb3a1e50873'}, 'archived': False, 'properties': {'影片链接': {'id': '%3C%3AGD', 'type': 'url', 'url': 'https://movie.douban.com/subject/30434770/'}, '观看时间': {'id': 'Nmq%7C', 'type': 'date', 'date': {'start': '2021-02-14', 'end': None, 'time_zone': None}}, '类型': {'id': 'Tt%3BE', 'type': 'multi_select', 'multi_select': []}, '有啥想说的不': {'id': 'T%7DY%3B', 'type': 'rich_text', 'rich_text': []}, '评分': {'id': 'XQnP', 'type': 'select', 'select': {'id': 'b48e151e-2257-45a8-a693-a0fde5c4cff1', 'name': '⭐⭐⭐⭐', 'color': 'purple'}}, '封面': {'id': 'tSca', 'type': 'files', 'files': []}, '导演': {'id': 'wV%3AI', 'type': 'multi_select', 'multi_select': []}, '名称': {'id': 'title', 'type': 'title', 'title': [{'type': 'text', 'text': {'content': '太空部队 第一季 / Space Force Season 1', 'link': None}, 'annotations': {'bold': False, 'italic': False, 'strikethrough': False, 'underline': False, 'code': False, 'color': 'default'}, 'plain_text': '太空部队 第一季 / Space Force Season 1', 'href': None}]}}, 'url': 'https://www.notion.so/Space-Force-Season-1-4fece0207f3142119704e4a3baeb8a0e', 'public_url': 'https://sparklingdeng.notion.site/Space-Force-Season-1-4fece0207f3142119704e4a3baeb8a0e'}, {'object': 'page', 'id': '5e93523a-b7ab-41f5-b235-fe9a0a7711ef', 'created_time': '2022-10-31T13:45:00.000Z', 'last_edited_time': '2022-10-31T13:45:00.000Z', 'created_by': {'object': 'user', 'id': 'f2ce332b-8a03-4c31-adba-86f0b763dbb1'}, 'last_edited_by': {'object': 'user', 'id': 'f2ce332b-8a03-4c31-adba-86f0b763dbb1'}, 'cover': None, 'icon': None, 'parent': {'type': 'database_id', 'database_id': '9c4b15b3-675d-4396-80c8-7cb3a1e50873'}, 'archived': False, 'properties': {'影片链接': {'id': '%3C%3AGD', 'type': 'url', 'url': 'https://movie.douban.com/subject/6874475/'}, '观看时间': {'id': 'Nmq%7C', 'type': 'date', 'date': {'start': '2021-08-27', 'end': None, 'time_zone': None}}, '类型': {'id': 'Tt%3BE', 'type': 'multi_select', 'multi_select': []}, '有啥想说的不': {'id': 'T%7DY%3B', 'type': 'rich_text', 'rich_text': []}, '评分': {'id': 'XQnP', 'type': 'select', 'select': {'id': 'b48e151e-2257-45a8-a693-a0fde5c4cff1', 'name': '⭐⭐⭐⭐', 'color': 'purple'}}, '封面': {'id': 'tSca', 'type': 'files', 'files': []}, '导演': {'id': 'wV%3AI', 'type': 'multi_select', 'multi_select': []}, '名称': {'id': 'title', 'type': 'title', 'title': [{'type': 'text', 'text': {'content': '混沌行走 / Chaos Walking', 'link': None}, 'annotations': {'bold': False, 'italic': False, 'strikethrough': False, 'underline': False, 'code': False, 'color': 'default'}, 'plain_text': '混沌行走 / Chaos Walking', 'href': None}]}}, 'url': 'https://www.notion.so/Chaos-Walking-5e93523ab7ab41f5b235fe9a0a7711ef', 'public_url': 'https://sparklingdeng.notion.site/Chaos-Walking-5e93523ab7ab41f5b235fe9a0a7711ef'}, {'object': 'page', 'id': '5f2a27bc-fe06-4c37-aebb-aa9f4b90c8e3', 'created_time': '2022-10-31T13:45:00.000Z', 'last_edited_time': '2022-11-01T08:30:00.000Z', 'created_by': {'object': 'user', 'id': 'f2ce332b-8a03-4c31-adba-86f0b763dbb1'}, 'last_edited_by': {'object': 'user', 'id': 'f2ce332b-8a03-4c31-adba-86f0b763dbb1'}, 'cover': None, 'icon': None, 'parent': {'type': 'database_id', 'database_id': '9c4b15b3-675d-4396-80c8-7cb3a1e50873'}, 'archived': False, 'properties': {'影片链接': {'id': '%3C%3AGD', 'type': 'url', 'url': 'https://movie.douban.com/subject/34884712/'}, '观看时间': {'id': 'Nmq%7C', 'type': 'date', 'date': {'start': '2022-01-22', 'end': None, 'time_zone': None}}, '类型': {'id': 'Tt%3BE', 'type': 'multi_select', 'multi_select': []}, '有啥想说的不': {'id': 'T%7DY%3B', 'type': 'rich_text', 'rich_text': []}, '评分': {'id': 'XQnP', 'type': 'select', 'select': {'id': 'b48e151e-2257-45a8-a693-a0fde5c4cff1', 'name': '⭐⭐⭐⭐', 'color': 'purple'}}, '封面': {'id': 'tSca', 'type': 'files', 'files': [{'name': 'https://img2.doubanio.com/view/photo/s_ratio_poster/public/p2730833093.webp', 'type': 'external', 'external': {'url': 'https://img2.doubanio.com/view/photo/s_ratio_poster/public/p2730833093.webp'}}]}, '导演': {'id': 'wV%3AI', 'type': 'multi_select', 'multi_select': []}, '名称': {'id': 'title', 'type': 'title', 'title': [{'type': 'text', 'text': {'content': \"不要抬头 / Don't Look Up\", 'link': None}, 'annotations': {'bold': False, 'italic': False, 'strikethrough': False, 'underline': False, 'code': False, 'color': 'default'}, 'plain_text': \"不要抬头 / Don't Look Up\", 'href': None}]}}, 'url': 'https://www.notion.so/Don-t-Look-Up-5f2a27bcfe064c37aebbaa9f4b90c8e3', 'public_url': 'https://sparklingdeng.notion.site/Don-t-Look-Up-5f2a27bcfe064c37aebbaa9f4b90c8e3'}, {'object': 'page', 'id': '7da820d4-8094-4974-abf8-01ecafce67ed', 'created_time': '2022-10-31T13:45:00.000Z', 'last_edited_time': '2022-10-31T13:45:00.000Z', 'created_by': {'object': 'user', 'id': 'f2ce332b-8a03-4c31-adba-86f0b763dbb1'}, 'last_edited_by': {'object': 'user', 'id': 'f2ce332b-8a03-4c31-adba-86f0b763dbb1'}, 'cover': None, 'icon': None, 'parent': {'type': 'database_id', 'database_id': '9c4b15b3-675d-4396-80c8-7cb3a1e50873'}, 'archived': False, 'properties': {'影片链接': {'id': '%3C%3AGD', 'type': 'url', 'url': 'https://movie.douban.com/subject/34888567/'}, '观看时间': {'id': 'Nmq%7C', 'type': 'date', 'date': {'start': '2022-08-11', 'end': None, 'time_zone': None}}, '类型': {'id': 'Tt%3BE', 'type': 'multi_select', 'multi_select': []}, '有啥想说的不': {'id': 'T%7DY%3B', 'type': 'rich_text', 'rich_text': []}, '评分': {'id': 'XQnP', 'type': 'select', 'select': {'id': 'b48e151e-2257-45a8-a693-a0fde5c4cff1', 'name': '⭐⭐⭐⭐', 'color': 'purple'}}, '封面': {'id': 'tSca', 'type': 'files', 'files': []}, '导演': {'id': 'wV%3AI', 'type': 'multi_select', 'multi_select': []}, '名称': {'id': 'title', 'type': 'title', 'title': [{'type': 'text', 'text': {'content': '猎魔人 第二季 / The Witcher Season 2', 'link': None}, 'annotations': {'bold': False, 'italic': False, 'strikethrough': False, 'underline': False, 'code': False, 'color': 'default'}, 'plain_text': '猎魔人 第二季 / The Witcher Season 2', 'href': None}]}}, 'url': 'https://www.notion.so/The-Witcher-Season-2-7da820d480944974abf801ecafce67ed', 'public_url': 'https://sparklingdeng.notion.site/The-Witcher-Season-2-7da820d480944974abf801ecafce67ed'}, {'object': 'page', 'id': '8be2fb8b-1674-4554-ae1a-3328b9318192', 'created_time': '2022-10-31T13:45:00.000Z', 'last_edited_time': '2022-10-31T13:45:00.000Z', 'created_by': {'object': 'user', 'id': 'f2ce332b-8a03-4c31-adba-86f0b763dbb1'}, 'last_edited_by': {'object': 'user', 'id': 'f2ce332b-8a03-4c31-adba-86f0b763dbb1'}, 'cover': None, 'icon': None, 'parent': {'type': 'database_id', 'database_id': '9c4b15b3-675d-4396-80c8-7cb3a1e50873'}, 'archived': False, 'properties': {'影片链接': {'id': '%3C%3AGD', 'type': 'url', 'url': 'https://movie.douban.com/subject/3822687/'}, '观看时间': {'id': 'Nmq%7C', 'type': 'date', 'date': {'start': '2022-08-09', 'end': None, 'time_zone': None}}, '类型': {'id': 'Tt%3BE', 'type': 'multi_select', 'multi_select': []}, '有啥想说的不': {'id': 'T%7DY%3B', 'type': 'rich_text', 'rich_text': []}, '评分': {'id': 'XQnP', 'type': 'select', 'select': {'id': 'b48e151e-2257-45a8-a693-a0fde5c4cff1', 'name': '⭐⭐⭐⭐', 'color': 'purple'}}, '封面': {'id': 'tSca', 'type': 'files', 'files': []}, '导演': {'id': 'wV%3AI', 'type': 'multi_select', 'multi_select': []}, '名称': {'id': 'title', 'type': 'title', 'title': [{'type': 'text', 'text': {'content': '神秘海域 / Uncharted', 'link': None}, 'annotations': {'bold': False, 'italic': False, 'strikethrough': False, 'underline': False, 'code': False, 'color': 'default'}, 'plain_text': '神秘海域 / Uncharted', 'href': None}]}}, 'url': 'https://www.notion.so/Uncharted-8be2fb8b16744554ae1a3328b9318192', 'public_url': 'https://sparklingdeng.notion.site/Uncharted-8be2fb8b16744554ae1a3328b9318192'}, {'object': 'page', 'id': '8de73efd-e57f-41d0-b06f-98dd6dab2ab7', 'created_time': '2022-10-31T13:45:00.000Z', 'last_edited_time': '2022-10-31T13:45:00.000Z', 'created_by': {'object': 'user', 'id': 'f2ce332b-8a03-4c31-adba-86f0b763dbb1'}, 'last_edited_by': {'object': 'user', 'id': 'f2ce332b-8a03-4c31-adba-86f0b763dbb1'}, 'cover': None, 'icon': None, 'parent': {'type': 'database_id', 'database_id': '9c4b15b3-675d-4396-80c8-7cb3a1e50873'}, 'archived': False, 'properties': {'影片链接': {'id': '%3C%3AGD', 'type': 'url', 'url': 'https://movie.douban.com/subject/26613692/'}, '观看时间': {'id': 'Nmq%7C', 'type': 'date', 'date': {'start': '2021-04-01', 'end': None, 'time_zone': None}}, '类型': {'id': 'Tt%3BE', 'type': 'multi_select', 'multi_select': []}, '有啥想说的不': {'id': 'T%7DY%3B', 'type': 'rich_text', 'rich_text': []}, '评分': {'id': 'XQnP', 'type': 'select', 'select': {'id': 'b48e151e-2257-45a8-a693-a0fde5c4cff1', 'name': '⭐⭐⭐⭐', 'color': 'purple'}}, '封面': {'id': 'tSca', 'type': 'files', 'files': []}, '导演': {'id': 'wV%3AI', 'type': 'multi_select', 'multi_select': []}, '名称': {'id': 'title', 'type': 'title', 'title': [{'type': 'text', 'text': {'content': '哥斯拉大战金刚 / Godzilla vs Kong', 'link': None}, 'annotations': {'bold': False, 'italic': False, 'strikethrough': False, 'underline': False, 'code': False, 'color': 'default'}, 'plain_text': '哥斯拉大战金刚 / Godzilla vs Kong', 'href': None}]}}, 'url': 'https://www.notion.so/Godzilla-vs-Kong-8de73efde57f41d0b06f98dd6dab2ab7', 'public_url': 'https://sparklingdeng.notion.site/Godzilla-vs-Kong-8de73efde57f41d0b06f98dd6dab2ab7'}, {'object': 'page', 'id': '9a867742-4c96-414b-952f-20c0916533f2', 'created_time': '2022-10-31T13:45:00.000Z', 'last_edited_time': '2022-10-31T13:45:00.000Z', 'created_by': {'object': 'user', 'id': 'f2ce332b-8a03-4c31-adba-86f0b763dbb1'}, 'last_edited_by': {'object': 'user', 'id': 'f2ce332b-8a03-4c31-adba-86f0b763dbb1'}, 'cover': None, 'icon': None, 'parent': {'type': 'database_id', 'database_id': '9c4b15b3-675d-4396-80c8-7cb3a1e50873'}, 'archived': False, 'properties': {'影片链接': {'id': '%3C%3AGD', 'type': 'url', 'url': 'https://movie.douban.com/subject/35613853/'}, '观看时间': {'id': 'Nmq%7C', 'type': 'date', 'date': {'start': '2022-02-11', 'end': None, 'time_zone': None}}, '类型': {'id': 'Tt%3BE', 'type': 'multi_select', 'multi_select': []}, '有啥想说的不': {'id': 'T%7DY%3B', 'type': 'rich_text', 'rich_text': []}, '评分': {'id': 'XQnP', 'type': 'select', 'select': {'id': 'b48e151e-2257-45a8-a693-a0fde5c4cff1', 'name': '⭐⭐⭐⭐', 'color': 'purple'}}, '封面': {'id': 'tSca', 'type': 'files', 'files': []}, '导演': {'id': 'wV%3AI', 'type': 'multi_select', 'multi_select': []}, '名称': {'id': 'title', 'type': 'title', 'title': [{'type': 'text', 'text': {'content': '长津湖之水门桥', 'link': None}, 'annotations': {'bold': False, 'italic': False, 'strikethrough': False, 'underline': False, 'code': False, 'color': 'default'}, 'plain_text': '长津湖之水门桥', 'href': None}]}}, 'url': 'https://www.notion.so/9a8677424c96414b952f20c0916533f2', 'public_url': 'https://sparklingdeng.notion.site/9a8677424c96414b952f20c0916533f2'}, {'object': 'page', 'id': 'b60ba278-2176-4f4b-8c74-9a1f6d2ffe9f', 'created_time': '2022-10-31T13:45:00.000Z', 'last_edited_time': '2022-10-31T13:45:00.000Z', 'created_by': {'object': 'user', 'id': 'f2ce332b-8a03-4c31-adba-86f0b763dbb1'}, 'last_edited_by': {'object': 'user', 'id': 'f2ce332b-8a03-4c31-adba-86f0b763dbb1'}, 'cover': None, 'icon': None, 'parent': {'type': 'database_id', 'database_id': '9c4b15b3-675d-4396-80c8-7cb3a1e50873'}, 'archived': False, 'properties': {'影片链接': {'id': '%3C%3AGD', 'type': 'url', 'url': 'https://movie.douban.com/subject/33454993/'}, '观看时间': {'id': 'Nmq%7C', 'type': 'date', 'date': {'start': '2021-04-19', 'end': None, 'time_zone': None}}, '类型': {'id': 'Tt%3BE', 'type': 'multi_select', 'multi_select': []}, '有啥想说的不': {'id': 'T%7DY%3B', 'type': 'rich_text', 'rich_text': []}, '评分': {'id': 'XQnP', 'type': 'select', 'select': {'id': 'b48e151e-2257-45a8-a693-a0fde5c4cff1', 'name': '⭐⭐⭐⭐', 'color': 'purple'}}, '封面': {'id': 'tSca', 'type': 'files', 'files': []}, '导演': {'id': 'wV%3AI', 'type': 'multi_select', 'multi_select': []}, '名称': {'id': 'title', 'type': 'title', 'title': [{'type': 'text', 'text': {'content': '名侦探柯南：绯色的子弹 / 名探偵コナン 緋色の弾丸', 'link': None}, 'annotations': {'bold': False, 'italic': False, 'strikethrough': False, 'underline': False, 'code': False, 'color': 'default'}, 'plain_text': '名侦探柯南：绯色的子弹 / 名探偵コナン 緋色の弾丸', 'href': None}]}}, 'url': 'https://www.notion.so/b60ba27821764f4b8c749a1f6d2ffe9f', 'public_url': 'https://sparklingdeng.notion.site/b60ba27821764f4b8c749a1f6d2ffe9f'}, {'object': 'page', 'id': 'c45fdffe-b27d-40f3-a61a-aa8db8391e8e', 'created_time': '2022-10-31T13:45:00.000Z', 'last_edited_time': '2022-10-31T13:45:00.000Z', 'created_by': {'object': 'user', 'id': 'f2ce332b-8a03-4c31-adba-86f0b763dbb1'}, 'last_edited_by': {'object': 'user', 'id': 'f2ce332b-8a03-4c31-adba-86f0b763dbb1'}, 'cover': None, 'icon': None, 'parent': {'type': 'database_id', 'database_id': '9c4b15b3-675d-4396-80c8-7cb3a1e50873'}, 'archived': False, 'properties': {'影片链接': {'id': '%3C%3AGD', 'type': 'url', 'url': 'https://movie.douban.com/subject/34966169/'}, '观看时间': {'id': 'Nmq%7C', 'type': 'date', 'date': {'start': '2021-09-20', 'end': None, 'time_zone': None}}, '类型': {'id': 'Tt%3BE', 'type': 'multi_select', 'multi_select': []}, '有啥想说的不': {'id': 'T%7DY%3B', 'type': 'rich_text', 'rich_text': []}, '评分': {'id': 'XQnP', 'type': 'select', 'select': {'id': 'b48e151e-2257-45a8-a693-a0fde5c4cff1', 'name': '⭐⭐⭐⭐', 'color': 'purple'}}, '封面': {'id': 'tSca', 'type': 'files', 'files': []}, '导演': {'id': 'wV%3AI', 'type': 'multi_select', 'multi_select': []}, '名称': {'id': 'title', 'type': 'title', 'title': [{'type': 'text', 'text': {'content': '性爱自修室 第三季 / Sex Education Season 3', 'link': None}, 'annotations': {'bold': False, 'italic': False, 'strikethrough': False, 'underline': False, 'code': False, 'color': 'default'}, 'plain_text': '性爱自修室 第三季 / Sex Education Season 3', 'href': None}]}}, 'url': 'https://www.notion.so/Sex-Education-Season-3-c45fdffeb27d40f3a61aaa8db8391e8e', 'public_url': 'https://sparklingdeng.notion.site/Sex-Education-Season-3-c45fdffeb27d40f3a61aaa8db8391e8e'}, {'object': 'page', 'id': 'ce3bd836-9910-4024-9ebd-424391697e7a', 'created_time': '2022-10-31T13:45:00.000Z', 'last_edited_time': '2022-10-31T13:45:00.000Z', 'created_by': {'object': 'user', 'id': 'f2ce332b-8a03-4c31-adba-86f0b763dbb1'}, 'last_edited_by': {'object': 'user', 'id': 'f2ce332b-8a03-4c31-adba-86f0b763dbb1'}, 'cover': None, 'icon': None, 'parent': {'type': 'database_id', 'database_id': '9c4b15b3-675d-4396-80c8-7cb3a1e50873'}, 'archived': False, 'properties': {'影片链接': {'id': '%3C%3AGD', 'type': 'url', 'url': 'https://movie.douban.com/subject/30459571/'}, '观看时间': {'id': 'Nmq%7C', 'type': 'date', 'date': {'start': '2021-09-08', 'end': None, 'time_zone': None}}, '类型': {'id': 'Tt%3BE', 'type': 'multi_select', 'multi_select': []}, '有啥想说的不': {'id': 'T%7DY%3B', 'type': 'rich_text', 'rich_text': []}, '评分': {'id': 'XQnP', 'type': 'select', 'select': {'id': 'b48e151e-2257-45a8-a693-a0fde5c4cff1', 'name': '⭐⭐⭐⭐', 'color': 'purple'}}, '封面': {'id': 'tSca', 'type': 'files', 'files': []}, '导演': {'id': 'wV%3AI', 'type': 'multi_select', 'multi_select': []}, '名称': {'id': 'title', 'type': 'title', 'title': [{'type': 'text', 'text': {'content': '明日之战 / The Tomorrow War', 'link': None}, 'annotations': {'bold': False, 'italic': False, 'strikethrough': False, 'underline': False, 'code': False, 'color': 'default'}, 'plain_text': '明日之战 / The Tomorrow War', 'href': None}]}}, 'url': 'https://www.notion.so/The-Tomorrow-War-ce3bd836991040249ebd424391697e7a', 'public_url': 'https://sparklingdeng.notion.site/The-Tomorrow-War-ce3bd836991040249ebd424391697e7a'}, {'object': 'page', 'id': 'dccdac91-2f48-4f67-ae83-3352ebc9acce', 'created_time': '2022-10-31T13:45:00.000Z', 'last_edited_time': '2022-10-31T13:45:00.000Z', 'created_by': {'object': 'user', 'id': 'f2ce332b-8a03-4c31-adba-86f0b763dbb1'}, 'last_edited_by': {'object': 'user', 'id': 'f2ce332b-8a03-4c31-adba-86f0b763dbb1'}, 'cover': None, 'icon': None, 'parent': {'type': 'database_id', 'database_id': '9c4b15b3-675d-4396-80c8-7cb3a1e50873'}, 'archived': False, 'properties': {'影片链接': {'id': '%3C%3AGD', 'type': 'url', 'url': 'https://movie.douban.com/subject/1291543/'}, '观看时间': {'id': 'Nmq%7C', 'type': 'date', 'date': {'start': '2022-08-17', 'end': None, 'time_zone': None}}, '类型': {'id': 'Tt%3BE', 'type': 'multi_select', 'multi_select': []}, '有啥想说的不': {'id': 'T%7DY%3B', 'type': 'rich_text', 'rich_text': []}, '评分': {'id': 'XQnP', 'type': 'select', 'select': {'id': 'b48e151e-2257-45a8-a693-a0fde5c4cff1', 'name': '⭐⭐⭐⭐', 'color': 'purple'}}, '封面': {'id': 'tSca', 'type': 'files', 'files': []}, '导演': {'id': 'wV%3AI', 'type': 'multi_select', 'multi_select': []}, '名称': {'id': 'title', 'type': 'title', 'title': [{'type': 'text', 'text': {'content': '功夫', 'link': None}, 'annotations': {'bold': False, 'italic': False, 'strikethrough': False, 'underline': False, 'code': False, 'color': 'default'}, 'plain_text': '功夫', 'href': None}]}}, 'url': 'https://www.notion.so/dccdac912f484f67ae833352ebc9acce', 'public_url': 'https://sparklingdeng.notion.site/dccdac912f484f67ae833352ebc9acce'}, {'object': 'page', 'id': 'df19fe4f-a0c4-4ecf-a92a-b9163a592700', 'created_time': '2022-10-31T13:45:00.000Z', 'last_edited_time': '2022-11-01T08:18:00.000Z', 'created_by': {'object': 'user', 'id': 'f2ce332b-8a03-4c31-adba-86f0b763dbb1'}, 'last_edited_by': {'object': 'user', 'id': 'f2ce332b-8a03-4c31-adba-86f0b763dbb1'}, 'cover': None, 'icon': None, 'parent': {'type': 'database_id', 'database_id': '9c4b15b3-675d-4396-80c8-7cb3a1e50873'}, 'archived': False, 'properties': {'影片链接': {'id': '%3C%3AGD', 'type': 'url', 'url': 'https://movie.douban.com/subject/1946882/'}, '观看时间': {'id': 'Nmq%7C', 'type': 'date', 'date': {'start': '2021-01-22', 'end': None, 'time_zone': None}}, '类型': {'id': 'Tt%3BE', 'type': 'multi_select', 'multi_select': [{'id': '8a9ceabb-ea63-4a5d-8f97-333135300f49', 'name': '动作', 'color': 'brown'}, {'id': '47d13565-05db-494a-98cf-ebbee68fd43a', 'name': '惊悚', 'color': 'blue'}, {'id': '007e73cc-cabc-4893-af6f-efcbc2358d43', 'name': '冒险', 'color': 'orange'}]}, '有啥想说的不': {'id': 'T%7DY%3B', 'type': 'rich_text', 'rich_text': []}, '评分': {'id': 'XQnP', 'type': 'select', 'select': {'id': 'b48e151e-2257-45a8-a693-a0fde5c4cff1', 'name': '⭐⭐⭐⭐', 'color': 'purple'}}, '封面': {'id': 'tSca', 'type': 'files', 'files': [{'name': 'https://img2.doubanio.com/view/photo/s_ratio_poster/public/p1765998673.webp', 'type': 'external', 'external': {'url': 'https://img2.doubanio.com/view/photo/s_ratio_poster/public/p1765998673.webp'}}]}, '导演': {'id': 'wV%3AI', 'type': 'multi_select', 'multi_select': []}, '名称': {'id': 'title', 'type': 'title', 'title': [{'type': 'text', 'text': {'content': '007：大破量子危机 / Quantum of Solace', 'link': None}, 'annotations': {'bold': False, 'italic': False, 'strikethrough': False, 'underline': False, 'code': False, 'color': 'default'}, 'plain_text': '007：大破量子危机 / Quantum of Solace', 'href': None}]}}, 'url': 'https://www.notion.so/007-Quantum-of-Solace-df19fe4fa0c44ecfa92ab9163a592700', 'public_url': 'https://sparklingdeng.notion.site/007-Quantum-of-Solace-df19fe4fa0c44ecfa92ab9163a592700'}, {'object': 'page', 'id': 'e4f7bfcb-4c1d-4033-baa8-8076d46f7832', 'created_time': '2022-10-31T13:45:00.000Z', 'last_edited_time': '2022-10-31T13:45:00.000Z', 'created_by': {'object': 'user', 'id': 'f2ce332b-8a03-4c31-adba-86f0b763dbb1'}, 'last_edited_by': {'object': 'user', 'id': 'f2ce332b-8a03-4c31-adba-86f0b763dbb1'}, 'cover': None, 'icon': None, 'parent': {'type': 'database_id', 'database_id': '9c4b15b3-675d-4396-80c8-7cb3a1e50873'}, 'archived': False, 'properties': {'影片链接': {'id': '%3C%3AGD', 'type': 'url', 'url': 'https://movie.douban.com/subject/25826612/'}, '观看时间': {'id': 'Nmq%7C', 'type': 'date', 'date': {'start': '2022-07-20', 'end': None, 'time_zone': None}}, '类型': {'id': 'Tt%3BE', 'type': 'multi_select', 'multi_select': []}, '有啥想说的不': {'id': 'T%7DY%3B', 'type': 'rich_text', 'rich_text': []}, '评分': {'id': 'XQnP', 'type': 'select', 'select': {'id': 'b48e151e-2257-45a8-a693-a0fde5c4cff1', 'name': '⭐⭐⭐⭐', 'color': 'purple'}}, '封面': {'id': 'tSca', 'type': 'files', 'files': []}, '导演': {'id': 'wV%3AI', 'type': 'multi_select', 'multi_select': []}, '名称': {'id': 'title', 'type': 'title', 'title': [{'type': 'text', 'text': {'content': '权力的游戏 第五季 / Game of Thrones Season 5', 'link': None}, 'annotations': {'bold': False, 'italic': False, 'strikethrough': False, 'underline': False, 'code': False, 'color': 'default'}, 'plain_text': '权力的游戏 第五季 / Game of Thrones Season 5', 'href': None}]}}, 'url': 'https://www.notion.so/Game-of-Thrones-Season-5-e4f7bfcb4c1d4033baa88076d46f7832', 'public_url': 'https://sparklingdeng.notion.site/Game-of-Thrones-Season-5-e4f7bfcb4c1d4033baa88076d46f7832'}, {'object': 'page', 'id': 'e71a75b2-4b0c-445f-967c-ac28f26a3d97', 'created_time': '2022-10-31T13:45:00.000Z', 'last_edited_time': '2022-10-31T13:45:00.000Z', 'created_by': {'object': 'user', 'id': 'f2ce332b-8a03-4c31-adba-86f0b763dbb1'}, 'last_edited_by': {'object': 'user', 'id': 'f2ce332b-8a03-4c31-adba-86f0b763dbb1'}, 'cover': None, 'icon': None, 'parent': {'type': 'database_id', 'database_id': '9c4b15b3-675d-4396-80c8-7cb3a1e50873'}, 'archived': False, 'properties': {'影片链接': {'id': '%3C%3AGD', 'type': 'url', 'url': 'https://movie.douban.com/subject/30394797/'}, '观看时间': {'id': 'Nmq%7C', 'type': 'date', 'date': {'start': '2021-11-12', 'end': None, 'time_zone': None}}, '类型': {'id': 'Tt%3BE', 'type': 'multi_select', 'multi_select': []}, '有啥想说的不': {'id': 'T%7DY%3B', 'type': 'rich_text', 'rich_text': []}, '评分': {'id': 'XQnP', 'type': 'select', 'select': {'id': 'b48e151e-2257-45a8-a693-a0fde5c4cff1', 'name': '⭐⭐⭐⭐', 'color': 'purple'}}, '封面': {'id': 'tSca', 'type': 'files', 'files': []}, '导演': {'id': 'wV%3AI', 'type': 'multi_select', 'multi_select': []}, '名称': {'id': 'title', 'type': 'title', 'title': [{'type': 'text', 'text': {'content': '尚气与十环传奇 / Shang-Chi and the Legend of the Ten Rings', 'link': None}, 'annotations': {'bold': False, 'italic': False, 'strikethrough': False, 'underline': False, 'code': False, 'color': 'default'}, 'plain_text': '尚气与十环传奇 / Shang-Chi and the Legend of the Ten Rings', 'href': None}]}}, 'url': 'https://www.notion.so/Shang-Chi-and-the-Legend-of-the-Ten-Rings-e71a75b24b0c445f967cac28f26a3d97', 'public_url': 'https://sparklingdeng.notion.site/Shang-Chi-and-the-Legend-of-the-Ten-Rings-e71a75b24b0c445f967cac28f26a3d97'}, {'object': 'page', 'id': 'f01b2d62-1880-4487-92c2-0f6b29d80d46', 'created_time': '2022-10-31T13:45:00.000Z', 'last_edited_time': '2022-10-31T13:45:00.000Z', 'created_by': {'object': 'user', 'id': 'f2ce332b-8a03-4c31-adba-86f0b763dbb1'}, 'last_edited_by': {'object': 'user', 'id': 'f2ce332b-8a03-4c31-adba-86f0b763dbb1'}, 'cover': None, 'icon': None, 'parent': {'type': 'database_id', 'database_id': '9c4b15b3-675d-4396-80c8-7cb3a1e50873'}, 'archived': False, 'properties': {'影片链接': {'id': '%3C%3AGD', 'type': 'url', 'url': 'https://movie.douban.com/subject/26311973/'}, '观看时间': {'id': 'Nmq%7C', 'type': 'date', 'date': {'start': '2021-02-14', 'end': None, 'time_zone': None}}, '类型': {'id': 'Tt%3BE', 'type': 'multi_select', 'multi_select': []}, '有啥想说的不': {'id': 'T%7DY%3B', 'type': 'rich_text', 'rich_text': []}, '评分': {'id': 'XQnP', 'type': 'select', 'select': {'id': 'b48e151e-2257-45a8-a693-a0fde5c4cff1', 'name': '⭐⭐⭐⭐', 'color': 'purple'}}, '封面': {'id': 'tSca', 'type': 'files', 'files': []}, '导演': {'id': 'wV%3AI', 'type': 'multi_select', 'multi_select': []}, '名称': {'id': 'title', 'type': 'title', 'title': [{'type': 'text', 'text': {'content': '唐人街探案', 'link': None}, 'annotations': {'bold': False, 'italic': False, 'strikethrough': False, 'underline': False, 'code': False, 'color': 'default'}, 'plain_text': '唐人街探案', 'href': None}]}}, 'url': 'https://www.notion.so/f01b2d621880448792c20f6b29d80d46', 'public_url': 'https://sparklingdeng.notion.site/f01b2d621880448792c20f6b29d80d46'}, {'object': 'page', 'id': '9b77919b-d36a-4a16-a93b-930cff76b12f', 'created_time': '2022-10-31T13:44:00.000Z', 'last_edited_time': '2022-10-31T13:45:00.000Z', 'created_by': {'object': 'user', 'id': 'f2ce332b-8a03-4c31-adba-86f0b763dbb1'}, 'last_edited_by': {'object': 'user', 'id': 'f2ce332b-8a03-4c31-adba-86f0b763dbb1'}, 'cover': None, 'icon': None, 'parent': {'type': 'database_id', 'database_id': '9c4b15b3-675d-4396-80c8-7cb3a1e50873'}, 'archived': False, 'properties': {'影片链接': {'id': '%3C%3AGD', 'type': 'url', 'url': 'https://movie.douban.com/subject/30314848/'}, '观看时间': {'id': 'Nmq%7C', 'type': 'date', 'date': {'start': '2022-06-03', 'end': None, 'time_zone': None}}, '类型': {'id': 'Tt%3BE', 'type': 'multi_select', 'multi_select': []}, '有啥想说的不': {'id': 'T%7DY%3B', 'type': 'rich_text', 'rich_text': []}, '评分': {'id': 'XQnP', 'type': 'select', 'select': {'id': 'b48e151e-2257-45a8-a693-a0fde5c4cff1', 'name': '⭐⭐⭐⭐', 'color': 'purple'}}, '封面': {'id': 'tSca', 'type': 'files', 'files': []}, '导演': {'id': 'wV%3AI', 'type': 'multi_select', 'multi_select': []}, '名称': {'id': 'title', 'type': 'title', 'title': [{'type': 'text', 'text': {'content': '瞬息全宇宙 / Everything Everywhere All at Once', 'link': None}, 'annotations': {'bold': False, 'italic': False, 'strikethrough': False, 'underline': False, 'code': False, 'color': 'default'}, 'plain_text': '瞬息全宇宙 / Everything Everywhere All at Once', 'href': None}]}}, 'url': 'https://www.notion.so/Everything-Everywhere-All-at-Once-9b77919bd36a4a16a93b930cff76b12f', 'public_url': 'https://sparklingdeng.notion.site/Everything-Everywhere-All-at-Once-9b77919bd36a4a16a93b930cff76b12f'}, {'object': 'page', 'id': '0092b627-4506-4282-bb1b-ea9748ee170b', 'created_time': '2022-10-31T13:43:00.000Z', 'last_edited_time': '2022-10-31T13:43:00.000Z', 'created_by': {'object': 'user', 'id': 'f2ce332b-8a03-4c31-adba-86f0b763dbb1'}, 'last_edited_by': {'object': 'user', 'id': 'f2ce332b-8a03-4c31-adba-86f0b763dbb1'}, 'cover': None, 'icon': None, 'parent': {'type': 'database_id', 'database_id': '9c4b15b3-675d-4396-80c8-7cb3a1e50873'}, 'archived': False, 'properties': {'影片链接': {'id': '%3C%3AGD', 'type': 'url', 'url': 'https://movie.douban.com/subject/1329950/'}, '观看时间': {'id': 'Nmq%7C', 'type': 'date', 'date': {'start': '2021-12-07', 'end': None, 'time_zone': None}}, '类型': {'id': 'Tt%3BE', 'type': 'multi_select', 'multi_select': []}, '有啥想说的不': {'id': 'T%7DY%3B', 'type': 'rich_text', 'rich_text': []}, '评分': {'id': 'XQnP', 'type': 'select', 'select': {'id': '2c9d26ec-27d1-4b72-a582-66270111f7e4', 'name': '⭐⭐⭐⭐⭐', 'color': 'pink'}}, '封面': {'id': 'tSca', 'type': 'files', 'files': []}, '导演': {'id': 'wV%3AI', 'type': 'multi_select', 'multi_select': []}, '名称': {'id': 'title', 'type': 'title', 'title': [{'type': 'text', 'text': {'content': '达·芬奇密码 / The Da Vinci Code', 'link': None}, 'annotations': {'bold': False, 'italic': False, 'strikethrough': False, 'underline': False, 'code': False, 'color': 'default'}, 'plain_text': '达·芬奇密码 / The Da Vinci Code', 'href': None}]}}, 'url': 'https://www.notion.so/The-Da-Vinci-Code-0092b62745064282bb1bea9748ee170b', 'public_url': 'https://sparklingdeng.notion.site/The-Da-Vinci-Code-0092b62745064282bb1bea9748ee170b'}, {'object': 'page', 'id': '02905fce-3ef7-4496-9478-4f7e1d6cf0e0', 'created_time': '2022-10-31T13:43:00.000Z', 'last_edited_time': '2022-11-01T08:30:00.000Z', 'created_by': {'object': 'user', 'id': 'f2ce332b-8a03-4c31-adba-86f0b763dbb1'}, 'last_edited_by': {'object': 'user', 'id': 'f2ce332b-8a03-4c31-adba-86f0b763dbb1'}, 'cover': None, 'icon': None, 'parent': {'type': 'database_id', 'database_id': '9c4b15b3-675d-4396-80c8-7cb3a1e50873'}, 'archived': False, 'properties': {'影片链接': {'id': '%3C%3AGD', 'type': 'url', 'url': 'https://movie.douban.com/subject/20276229/'}, '观看时间': {'id': 'Nmq%7C', 'type': 'date', 'date': {'start': '2021-10-30', 'end': None, 'time_zone': None}}, '类型': {'id': 'Tt%3BE', 'type': 'multi_select', 'multi_select': []}, '有啥想说的不': {'id': 'T%7DY%3B', 'type': 'rich_text', 'rich_text': []}, '评分': {'id': 'XQnP', 'type': 'select', 'select': {'id': '2c9d26ec-27d1-4b72-a582-66270111f7e4', 'name': '⭐⭐⭐⭐⭐', 'color': 'pink'}}, '封面': {'id': 'tSca', 'type': 'files', 'files': [{'name': 'https://img9.doubanio.com/view/photo/s_ratio_poster/public/p2707553644.webp', 'type': 'external', 'external': {'url': 'https://img9.doubanio.com/view/photo/s_ratio_poster/public/p2707553644.webp'}}]}, '导演': {'id': 'wV%3AI', 'type': 'multi_select', 'multi_select': []}, '名称': {'id': 'title', 'type': 'title', 'title': [{'type': 'text', 'text': {'content': '007：无暇赴死 / No Time to Die', 'link': None}, 'annotations': {'bold': False, 'italic': False, 'strikethrough': False, 'underline': False, 'code': False, 'color': 'default'}, 'plain_text': '007：无暇赴死 / No Time to Die', 'href': None}]}}, 'url': 'https://www.notion.so/007-No-Time-to-Die-02905fce3ef7449694784f7e1d6cf0e0', 'public_url': 'https://sparklingdeng.notion.site/007-No-Time-to-Die-02905fce3ef7449694784f7e1d6cf0e0'}], 'next_cursor': '07e48613-0a3d-480a-9a39-9a07330259bf', 'has_more': True, 'type': 'page', 'page': {}}\n"
     ]
    }
   ],
   "source": [
    "print(D.result)"
   ]
  },
  {
   "cell_type": "code",
   "execution_count": 14,
   "metadata": {
    "ExecuteTime": {
     "end_time": "2023-07-05T13:35:51.398319Z",
     "start_time": "2023-07-05T13:35:51.390415Z"
    },
    "collapsed": false
   },
   "outputs": [],
   "source": [
    "\n"
   ]
  },
  {
   "cell_type": "code",
   "execution_count": 18,
   "metadata": {
    "ExecuteTime": {
     "end_time": "2023-07-06T14:27:21.754254Z",
     "start_time": "2023-07-06T14:27:21.751271Z"
    },
    "collapsed": false
   },
   "outputs": [],
   "source": [
    "from notion_database.page import Page\n",
    "\n",
    "P = Page(integrations_token=NOTION_KEY)\n",
    "# P.retrieve_page(page_id=\"50874d48-44a4-4313-b893-634d8085e732\")"
   ]
  },
  {
   "cell_type": "code",
   "execution_count": 28,
   "metadata": {},
   "outputs": [
    {
     "data": {
      "text/plain": [
       "<notion_database.page.Page at 0x7fca9415eeb0>"
      ]
     },
     "execution_count": 28,
     "metadata": {},
     "output_type": "execute_result"
    }
   ],
   "source": []
  },
  {
   "cell_type": "code",
   "execution_count": 41,
   "metadata": {
    "ExecuteTime": {
     "end_time": "2023-07-05T13:41:10.779543Z",
     "start_time": "2023-07-05T13:40:49.080375Z"
    },
    "collapsed": false
   },
   "outputs": [
    {
     "name": "stdout",
     "output_type": "stream",
     "text": [
      "{'id': 'tSca', 'type': 'files', 'files': [{'name': '封面', 'type': 'external', 'external': {'url': 'https://img1.doubanio.com/view/photo/r/public/p2891541240.jpg'}}]}\n",
      "{'id': 'tSca', 'type': 'files', 'files': [{'name': 'https://img9.doubanio.com/view/photo/l/public/p2886619074.webp', 'type': 'external', 'external': {'url': 'https://img9.doubanio.com/view/photo/l/public/p2886619074.webp'}}]}\n",
      "{'id': 'tSca', 'type': 'files', 'files': [{'name': 'https://img9.doubanio.com/view/photo/l/public/p2884221114.webp', 'type': 'external', 'external': {'url': 'https://img9.doubanio.com/view/photo/l/public/p2884221114.webp'}}]}\n",
      "{'id': 'tSca', 'type': 'files', 'files': [{'name': '封面', 'type': 'external', 'external': {'url': 'https://img2.doubanio.com/view/photo/r/public/p2890515833.jpg'}}]}\n",
      "{'id': 'tSca', 'type': 'files', 'files': [{'name': '封面', 'type': 'external', 'external': {'url': 'https://img1.doubanio.com/view/photo/r/public/p2889358680.jpg'}}]}\n",
      "{'id': 'tSca', 'type': 'files', 'files': [{'name': 'https://img1.doubanio.com/view/photo/l/public/p2890967727.webp', 'type': 'external', 'external': {'url': 'https://img1.doubanio.com/view/photo/l/public/p2890967727.webp'}}]}\n",
      "{'id': 'tSca', 'type': 'files', 'files': [{'name': '封面', 'type': 'external', 'external': {'url': 'https://img1.doubanio.com/view/photo/r/public/p2892053237.jpg'}}]}\n",
      "{'id': 'tSca', 'type': 'files', 'files': [{'name': '封面', 'type': 'external', 'external': {'url': 'https://img9.doubanio.com/view/photo/s_ratio_poster/public/p2879787106.jpg'}}]}\n",
      "{'id': 'tSca', 'type': 'files', 'files': [{'name': 'https://img9.doubanio.com/view/photo/l/public/p2884182275.webp', 'type': 'external', 'external': {'url': 'https://img9.doubanio.com/view/photo/l/public/p2884182275.webp'}}]}\n",
      "{'id': 'tSca', 'type': 'files', 'files': [{'name': 'https://img2.doubanio.com/view/photo/l/public/p2884233672.webp', 'type': 'external', 'external': {'url': 'https://img2.doubanio.com/view/photo/l/public/p2884233672.webp'}}]}\n"
     ]
    }
   ],
   "source": [
    "for i in firms[:10]:\n",
    "    # print(i)\n",
    "    P.retrieve_page(page_id=i[\"id\"])\n",
    "    print(P.result[\"properties\"][\"封面\"])\n"
   ]
  },
  {
   "cell_type": "code",
   "execution_count": 19,
   "metadata": {
    "ExecuteTime": {
     "end_time": "2023-07-06T14:27:26.208391Z",
     "start_time": "2023-07-06T14:27:24.657625Z"
    },
    "collapsed": false
   },
   "outputs": [],
   "source": [
    "P.retrieve_page(page_id='44a22c7f-07cf-4acd-b6cd-099614608215')\n"
   ]
  },
  {
   "cell_type": "code",
   "execution_count": 24,
   "metadata": {
    "ExecuteTime": {
     "end_time": "2023-07-06T14:28:20.497546Z",
     "start_time": "2023-07-06T14:28:20.493899Z"
    },
    "collapsed": false
   },
   "outputs": [
    {
     "data": {
      "text/plain": [
       "'惊奇队长'"
      ]
     },
     "execution_count": 24,
     "metadata": {},
     "output_type": "execute_result"
    }
   ],
   "source": [
    "P.result[\"properties\"][\"名称\"][\"title\"][0][\"text\"][\"content\"]"
   ]
  },
  {
   "cell_type": "code",
   "execution_count": 13,
   "metadata": {},
   "outputs": [
    {
     "data": {
      "text/plain": [
       "'https://movie.douban.com/subject/26213252/'"
      ]
     },
     "execution_count": 13,
     "metadata": {},
     "output_type": "execute_result"
    }
   ],
   "source": [
    "P.result[\"properties\"][\"影片链接\"][\"url\"]"
   ]
  },
  {
   "cell_type": "code",
   "execution_count": 4,
   "metadata": {
    "ExecuteTime": {
     "end_time": "2023-07-05T13:42:45.382895Z",
     "start_time": "2023-07-05T13:42:45.367496Z"
    },
    "collapsed": false
   },
   "outputs": [],
   "source": [
    "from notion_database.properties import Properties\n",
    "\n",
    "PROPERTY = Properties()"
   ]
  },
  {
   "cell_type": "code",
   "execution_count": 44,
   "metadata": {
    "ExecuteTime": {
     "end_time": "2023-07-05T14:16:36.776567Z",
     "start_time": "2023-07-05T14:16:36.772028Z"
    },
    "collapsed": false
   },
   "outputs": [
    {
     "name": "stdout",
     "output_type": "stream",
     "text": [
      "<class 'dict'>\n"
     ]
    }
   ],
   "source": [
    "print(type(P.result[\"properties\"]))"
   ]
  },
  {
   "cell_type": "code",
   "execution_count": 5,
   "metadata": {
    "ExecuteTime": {
     "end_time": "2023-07-05T14:30:48.401468Z",
     "start_time": "2023-07-05T14:30:48.396528Z"
    },
    "collapsed": false
   },
   "outputs": [],
   "source": [
    "# PROPERTY.set_url(\"影片链接\",text=\"https://movie.douban.com/subject/26213252/\")\n",
    "PROPERTY.set_date(\"观看时间\", start=\"2022-01-22\")\n",
    "# PROPERTY.set_files(\"封面\",files_list=[\"https://img2.doubanio.com/view/photo/l/public/p2547205462.webp\"])\n",
    "# PROPERTY.set_title(\"名称\",text=\"惊奇队长sss\")"
   ]
  },
  {
   "cell_type": "code",
   "execution_count": null,
   "metadata": {},
   "outputs": [],
   "source": []
  },
  {
   "cell_type": "code",
   "execution_count": 8,
   "metadata": {
    "ExecuteTime": {
     "end_time": "2023-07-05T14:30:52.688005Z",
     "start_time": "2023-07-05T14:30:50.172453Z"
    },
    "collapsed": false
   },
   "outputs": [],
   "source": [
    "P.update_page(page_id=\"44a22c7f-07cf-4acd-b6cd-099614608215\", properties=PROPERTY)\n"
   ]
  },
  {
   "cell_type": "code",
   "execution_count": 22,
   "metadata": {},
   "outputs": [
    {
     "data": {
      "text/plain": [
       "[{'name': '封面',\n",
       "  'type': 'external',\n",
       "  'external': {'url': 'https://img1.doubanio.com/view/photo/r/public/p2886187418.jpg'}}]"
      ]
     },
     "execution_count": 22,
     "metadata": {},
     "output_type": "execute_result"
    }
   ],
   "source": [
    "P.result[\"properties\"][\"封面\"][\"files\"]"
   ]
  },
  {
   "cell_type": "code",
   "execution_count": 43,
   "metadata": {
    "ExecuteTime": {
     "end_time": "2023-07-06T15:06:24.718910Z",
     "start_time": "2023-07-06T15:06:24.713079Z"
    },
    "collapsed": false
   },
   "outputs": [
    {
     "data": {
      "text/plain": [
       "[]"
      ]
     },
     "execution_count": 43,
     "metadata": {},
     "output_type": "execute_result"
    }
   ],
   "source": [
    "P.result[\"properties\"]['类型'][\"multi_select\"]"
   ]
  },
  {
   "cell_type": "code",
   "execution_count": 8,
   "metadata": {
    "ExecuteTime": {
     "end_time": "2023-07-06T15:04:24.027517Z",
     "start_time": "2023-07-06T15:04:24.019801Z"
    }
   },
   "outputs": [],
   "source": [
    "databaseid = '9c4b15b3675d439680c87cb3a1e50873'\n",
    "headers = {\n",
    "    'User-Agent': 'Mozilla/5.0 (Macintosh; Intel Mac OS X 10_15_7) AppleWebKit/537.36 (KHTML, like Gecko) Chrome/114.0.0.0 Safari/537.36',\n",
    "    'Cookie': 'll=\"108288\"; bid=LxuBFcq903Y; _pk_id.100001.8cb4=d9ac29ae35fdb232.1687791343.; _pk_ses.100001.8cb4=1; __utma=30149280.453255204.1687791344.1687791344.1687791344.1; __utmc=30149280; __utmz=30149280.1687791344.1.1.utmcsr=(direct)|utmccn=(direct)|utmcmd=(none); __utmt=1; dbcl2=\"208462734:1M1epG+m4oE\"; ck=O7sa; push_noty_num=0; push_doumail_num=0; __utmv=30149280.20846; __utmb=30149280.5.9.1687791368060; ap_v=0,6.0',\n",
    "    # 'Host': 'www.douban.com',\n",
    "    'Content-type': 'text/html; charset=utf-8',\n",
    "    # 'Accept-Language': 'zh-CN,zh;q=0.9,en;q=0.8,en-GB;q=0.7,en-US;q=0.6',\n",
    "    'Upgrade-Insecure-Requests': '1',\n",
    "    # 'Accept-Encoding': 'gzip, deflate, br'\n",
    "}\n",
    "rss_address = \"https://www.douban.com/feed/people/208462734/interests\"\n",
    "notion_api = \"Bearer secret_4aA1JcVQKjF1RlunDeKhlaUWCrkO4By4BUY8jJynckw\""
   ]
  },
  {
   "cell_type": "code",
   "execution_count": 34,
   "metadata": {
    "ExecuteTime": {
     "end_time": "2023-07-06T14:57:20.030316Z",
     "start_time": "2023-07-06T14:57:19.970848Z"
    }
   },
   "outputs": [],
   "source": [
    "from bs4 import BeautifulSoup\n",
    "import requests\n",
    "\n",
    "\n",
    "def download_picture(url):\n",
    "    headers = {\n",
    "        \"Host\": \"movie.douban.com\",\n",
    "        \"Referer\": \"https://movie.douban.com/top250?start=225&filter=\",\n",
    "        \"Upgrade-Insecure-Requests\": \"1\",\n",
    "        \"User-Agent\": \"Mozilla/5.0 (Macintosh; Intel Mac OS X 10_15_7) AppleWebKit/537.36 (KHTML, like Gecko) Chrome/114.0.0.0 Safari/537.36\",\n",
    "    }\n",
    "    # 获取网页的源代码\n",
    "    r = requests.get(url, headers=headers)\n",
    "    # 利用BeautifulSoup将获取到的文本解析成HTML\n",
    "    soup = BeautifulSoup(r.text, \"lxml\")\n",
    "    # 获取网页中的电影图片\n",
    "    content = soup.find('div', class_='article')\n",
    "    if content is None:\n",
    "        return \"\"\n",
    "    images = content.find_all('img')\n",
    "    # 获取电影图片的名称和下载地址\n",
    "    # picture_name_list = [image['alt'] for image in images]\n",
    "    picture_link_list = images[0]['src']\n",
    "\n",
    "    # 利用urllib.request..urlretrieve正式下载图片\n",
    "    # for picture_name, picture_link in zip(picture_name_list, picture_link_list):\n",
    "    #     urllib.request.urlretrieve(picture_link, 'E://douban/%s.jpg' % picture_name)\n",
    "    return picture_link_list"
   ]
  },
  {
   "cell_type": "code",
   "execution_count": 22,
   "metadata": {},
   "outputs": [
    {
     "name": "stdout",
     "output_type": "stream",
     "text": [
      "{'影片链接': {'id': '%3C%3AGD', 'type': 'url', 'url': 'https://movie.douban.com/subject/25882296/'}, '观看时间': {'id': 'Nmq%7C', 'type': 'date', 'date': {'start': '2021-01-21', 'end': None, 'time_zone': None}}, '类型': {'id': 'Tt%3BE', 'type': 'multi_select', 'multi_select': []}, '有啥想说的不': {'id': 'T%7DY%3B', 'type': 'rich_text', 'rich_text': []}, '评分': {'id': 'XQnP', 'type': 'select', 'select': None}, '封面': {'id': 'tSca', 'type': 'files', 'files': [{'name': 'p2526405034.jpg', 'type': 'external', 'external': {'url': 'https://img9.doubanio.com/view/photo/s_ratio_poster/public/p2526405034.jpg'}}]}, '导演': {'id': 'wV%3AI', 'type': 'multi_select', 'multi_select': []}, '名称': {'id': 'title', 'type': 'title', 'title': [{'type': 'text', 'text': {'content': '狄仁杰之四大天王', 'link': None}, 'annotations': {'bold': False, 'italic': False, 'strikethrough': False, 'underline': False, 'code': False, 'color': 'default'}, 'plain_text': '狄仁杰之四大天王', 'href': None}]}}\n",
      "skip\n",
      "{'影片链接': {'id': '%3C%3AGD', 'type': 'url', 'url': 'https://movie.douban.com/subject/20277632/'}, '观看时间': {'id': 'Nmq%7C', 'type': 'date', 'date': {'start': '2021-01-21', 'end': None, 'time_zone': None}}, '类型': {'id': 'Tt%3BE', 'type': 'multi_select', 'multi_select': []}, '有啥想说的不': {'id': 'T%7DY%3B', 'type': 'rich_text', 'rich_text': []}, '评分': {'id': 'XQnP', 'type': 'select', 'select': None}, '封面': {'id': 'tSca', 'type': 'files', 'files': [{'name': 'p2224368429.jpg', 'type': 'external', 'external': {'url': 'https://img1.doubanio.com/view/photo/s_ratio_poster/public/p2224368429.jpg'}}]}, '导演': {'id': 'wV%3AI', 'type': 'multi_select', 'multi_select': []}, '名称': {'id': 'title', 'type': 'title', 'title': [{'type': 'text', 'text': {'content': '飓风营救3 / Taken 3', 'link': None}, 'annotations': {'bold': False, 'italic': False, 'strikethrough': False, 'underline': False, 'code': False, 'color': 'default'}, 'plain_text': '飓风营救3 / Taken 3', 'href': None}]}}\n",
      "skip\n",
      "{'影片链接': {'id': '%3C%3AGD', 'type': 'url', 'url': 'https://www.baidu.com'}, '观看时间': {'id': 'Nmq%7C', 'type': 'date', 'date': {'start': '2022-01-22', 'end': None, 'time_zone': None}}, '类型': {'id': 'Tt%3BE', 'type': 'multi_select', 'multi_select': []}, '有啥想说的不': {'id': 'T%7DY%3B', 'type': 'rich_text', 'rich_text': []}, '评分': {'id': 'XQnP', 'type': 'select', 'select': None}, '封面': {'id': 'tSca', 'type': 'files', 'files': [{'name': 'p2224368429.jpg', 'type': 'external', 'external': {'url': 'https://img1.doubanio.com/view/photo/s_ratio_poster/public/p2224368429.jpg'}}]}, '导演': {'id': 'wV%3AI', 'type': 'multi_select', 'multi_select': []}, '名称': {'id': 'title', 'type': 'title', 'title': [{'type': 'text', 'text': {'content': '变形金刚 / Transformers', 'link': None}, 'annotations': {'bold': False, 'italic': False, 'strikethrough': False, 'underline': False, 'code': False, 'color': 'default'}, 'plain_text': '变形金刚 / Transformers', 'href': None}]}}\n",
      "skip\n",
      "{'影片链接': {'id': '%3C%3AGD', 'type': 'url', 'url': 'https://movie.douban.com/subject/30402296/'}, '观看时间': {'id': 'Nmq%7C', 'type': 'date', 'date': {'start': '2021-01-21', 'end': None, 'time_zone': None}}, '类型': {'id': 'Tt%3BE', 'type': 'multi_select', 'multi_select': []}, '有啥想说的不': {'id': 'T%7DY%3B', 'type': 'rich_text', 'rich_text': []}, '评分': {'id': 'XQnP', 'type': 'select', 'select': None}, '封面': {'id': 'tSca', 'type': 'files', 'files': [{'name': 'p2558022335.jpg', 'type': 'external', 'external': {'url': 'https://img9.doubanio.com/view/photo/s_ratio_poster/public/p2558022335.jpg'}}]}, '导演': {'id': 'wV%3AI', 'type': 'multi_select', 'multi_select': []}, '名称': {'id': 'title', 'type': 'title', 'title': [{'type': 'text', 'text': {'content': '天气之子 / 天気の子', 'link': None}, 'annotations': {'bold': False, 'italic': False, 'strikethrough': False, 'underline': False, 'code': False, 'color': 'default'}, 'plain_text': '天气之子 / 天気の子', 'href': None}]}}\n",
      "skip\n",
      "{'影片链接': {'id': '%3C%3AGD', 'type': 'url', 'url': 'https://www.baidu.com'}, '观看时间': {'id': 'Nmq%7C', 'type': 'date', 'date': {'start': '2022-01-22', 'end': None, 'time_zone': None}}, '类型': {'id': 'Tt%3BE', 'type': 'multi_select', 'multi_select': []}, '有啥想说的不': {'id': 'T%7DY%3B', 'type': 'rich_text', 'rich_text': []}, '评分': {'id': 'XQnP', 'type': 'select', 'select': None}, '封面': {'id': 'tSca', 'type': 'files', 'files': []}, '导演': {'id': 'wV%3AI', 'type': 'multi_select', 'multi_select': []}, '名称': {'id': 'title', 'type': 'title', 'title': [{'type': 'text', 'text': {'content': '饥饿游戏3：嘲笑鸟(上) / The Hunger Games: Mockingjay - Part 1', 'link': None}, 'annotations': {'bold': False, 'italic': False, 'strikethrough': False, 'underline': False, 'code': False, 'color': 'default'}, 'plain_text': '饥饿游戏3：嘲笑鸟(上) / The Hunger Games: Mockingjay - Part 1', 'href': None}]}}\n",
      "update successiiiii   https://img9.doubanio.com/view/photo/s_ratio_poster/public/p988260245.jpg\n",
      "{'影片链接': {'id': '%3C%3AGD', 'type': 'url', 'url': 'https://www.baidu.com'}, '观看时间': {'id': 'Nmq%7C', 'type': 'date', 'date': {'start': '2022-01-22', 'end': None, 'time_zone': None}}, '类型': {'id': 'Tt%3BE', 'type': 'multi_select', 'multi_select': []}, '有啥想说的不': {'id': 'T%7DY%3B', 'type': 'rich_text', 'rich_text': []}, '评分': {'id': 'XQnP', 'type': 'select', 'select': None}, '封面': {'id': 'tSca', 'type': 'files', 'files': []}, '导演': {'id': 'wV%3AI', 'type': 'multi_select', 'multi_select': []}, '名称': {'id': 'title', 'type': 'title', 'title': [{'type': 'text', 'text': {'content': '独立日2：卷土重来 / Independence Day: Resurgence', 'link': None}, 'annotations': {'bold': False, 'italic': False, 'strikethrough': False, 'underline': False, 'code': False, 'color': 'default'}, 'plain_text': '独立日2：卷土重来 / Independence Day: Resurgence', 'href': None}]}}\n",
      "update successiiiii   https://img9.doubanio.com/view/photo/s_ratio_poster/public/p988260245.jpg\n",
      "{'影片链接': {'id': '%3C%3AGD', 'type': 'url', 'url': 'https://www.baidu.com'}, '观看时间': {'id': 'Nmq%7C', 'type': 'date', 'date': {'start': '2022-01-22', 'end': None, 'time_zone': None}}, '类型': {'id': 'Tt%3BE', 'type': 'multi_select', 'multi_select': []}, '有啥想说的不': {'id': 'T%7DY%3B', 'type': 'rich_text', 'rich_text': []}, '评分': {'id': 'XQnP', 'type': 'select', 'select': None}, '封面': {'id': 'tSca', 'type': 'files', 'files': []}, '导演': {'id': 'wV%3AI', 'type': 'multi_select', 'multi_select': []}, '名称': {'id': 'title', 'type': 'title', 'title': [{'type': 'text', 'text': {'content': '钢铁侠 / Iron Man', 'link': None}, 'annotations': {'bold': False, 'italic': False, 'strikethrough': False, 'underline': False, 'code': False, 'color': 'default'}, 'plain_text': '钢铁侠 / Iron Man', 'href': None}]}}\n",
      "update successiiiii   https://img9.doubanio.com/view/photo/s_ratio_poster/public/p988260245.jpg\n",
      "{'影片链接': {'id': '%3C%3AGD', 'type': 'url', 'url': 'https://www.baidu.com'}, '观看时间': {'id': 'Nmq%7C', 'type': 'date', 'date': {'start': '2022-01-22', 'end': None, 'time_zone': None}}, '类型': {'id': 'Tt%3BE', 'type': 'multi_select', 'multi_select': []}, '有啥想说的不': {'id': 'T%7DY%3B', 'type': 'rich_text', 'rich_text': []}, '评分': {'id': 'XQnP', 'type': 'select', 'select': None}, '封面': {'id': 'tSca', 'type': 'files', 'files': []}, '导演': {'id': 'wV%3AI', 'type': 'multi_select', 'multi_select': []}, '名称': {'id': 'title', 'type': 'title', 'title': [{'type': 'text', 'text': {'content': '囧妈', 'link': None}, 'annotations': {'bold': False, 'italic': False, 'strikethrough': False, 'underline': False, 'code': False, 'color': 'default'}, 'plain_text': '囧妈', 'href': None}]}}\n",
      "update successiiiii   https://img9.doubanio.com/view/photo/s_ratio_poster/public/p988260245.jpg\n",
      "{'影片链接': {'id': '%3C%3AGD', 'type': 'url', 'url': 'https://www.baidu.com'}, '观看时间': {'id': 'Nmq%7C', 'type': 'date', 'date': {'start': '2022-01-22', 'end': None, 'time_zone': None}}, '类型': {'id': 'Tt%3BE', 'type': 'multi_select', 'multi_select': []}, '有啥想说的不': {'id': 'T%7DY%3B', 'type': 'rich_text', 'rich_text': []}, '评分': {'id': 'XQnP', 'type': 'select', 'select': None}, '封面': {'id': 'tSca', 'type': 'files', 'files': []}, '导演': {'id': 'wV%3AI', 'type': 'multi_select', 'multi_select': []}, '名称': {'id': 'title', 'type': 'title', 'title': [{'type': 'text', 'text': {'content': '美女与野兽 / Beauty and the Beast', 'link': None}, 'annotations': {'bold': False, 'italic': False, 'strikethrough': False, 'underline': False, 'code': False, 'color': 'default'}, 'plain_text': '美女与野兽 / Beauty and the Beast', 'href': None}]}}\n",
      "update successiiiii   https://img9.doubanio.com/view/photo/s_ratio_poster/public/p988260245.jpg\n",
      "{'影片链接': {'id': '%3C%3AGD', 'type': 'url', 'url': 'https://www.baidu.com'}, '观看时间': {'id': 'Nmq%7C', 'type': 'date', 'date': {'start': '2022-01-22', 'end': None, 'time_zone': None}}, '类型': {'id': 'Tt%3BE', 'type': 'multi_select', 'multi_select': []}, '有啥想说的不': {'id': 'T%7DY%3B', 'type': 'rich_text', 'rich_text': []}, '评分': {'id': 'XQnP', 'type': 'select', 'select': None}, '封面': {'id': 'tSca', 'type': 'files', 'files': []}, '导演': {'id': 'wV%3AI', 'type': 'multi_select', 'multi_select': []}, '名称': {'id': 'title', 'type': 'title', 'title': [{'type': 'text', 'text': {'content': '功夫熊猫3 / Kung Fu Panda 3', 'link': None}, 'annotations': {'bold': False, 'italic': False, 'strikethrough': False, 'underline': False, 'code': False, 'color': 'default'}, 'plain_text': '功夫熊猫3 / Kung Fu Panda 3', 'href': None}]}}\n",
      "update successiiiii   https://img9.doubanio.com/view/photo/s_ratio_poster/public/p988260245.jpg\n",
      "{'影片链接': {'id': '%3C%3AGD', 'type': 'url', 'url': 'https://www.baidu.com'}, '观看时间': {'id': 'Nmq%7C', 'type': 'date', 'date': {'start': '2022-01-22', 'end': None, 'time_zone': None}}, '类型': {'id': 'Tt%3BE', 'type': 'multi_select', 'multi_select': []}, '有啥想说的不': {'id': 'T%7DY%3B', 'type': 'rich_text', 'rich_text': []}, '评分': {'id': 'XQnP', 'type': 'select', 'select': None}, '封面': {'id': 'tSca', 'type': 'files', 'files': []}, '导演': {'id': 'wV%3AI', 'type': 'multi_select', 'multi_select': []}, '名称': {'id': 'title', 'type': 'title', 'title': [{'type': 'text', 'text': {'content': '变形金刚3 / Transformers: Dark of the Moon', 'link': None}, 'annotations': {'bold': False, 'italic': False, 'strikethrough': False, 'underline': False, 'code': False, 'color': 'default'}, 'plain_text': '变形金刚3 / Transformers: Dark of the Moon', 'href': None}]}}\n",
      "update successiiiii   https://img9.doubanio.com/view/photo/s_ratio_poster/public/p988260245.jpg\n",
      "{'影片链接': {'id': '%3C%3AGD', 'type': 'url', 'url': 'https://www.baidu.com'}, '观看时间': {'id': 'Nmq%7C', 'type': 'date', 'date': {'start': '2022-01-22', 'end': None, 'time_zone': None}}, '类型': {'id': 'Tt%3BE', 'type': 'multi_select', 'multi_select': []}, '有啥想说的不': {'id': 'T%7DY%3B', 'type': 'rich_text', 'rich_text': []}, '评分': {'id': 'XQnP', 'type': 'select', 'select': None}, '封面': {'id': 'tSca', 'type': 'files', 'files': []}, '导演': {'id': 'wV%3AI', 'type': 'multi_select', 'multi_select': []}, '名称': {'id': 'title', 'type': 'title', 'title': [{'type': 'text', 'text': {'content': '忍者神龟：变种时代 / Teenage Mutant Ninja Turtles', 'link': None}, 'annotations': {'bold': False, 'italic': False, 'strikethrough': False, 'underline': False, 'code': False, 'color': 'default'}, 'plain_text': '忍者神龟：变种时代 / Teenage Mutant Ninja Turtles', 'href': None}]}}\n",
      "update successiiiii   https://img9.doubanio.com/view/photo/s_ratio_poster/public/p988260245.jpg\n",
      "{'影片链接': {'id': '%3C%3AGD', 'type': 'url', 'url': 'https://www.baidu.com'}, '观看时间': {'id': 'Nmq%7C', 'type': 'date', 'date': {'start': '2022-01-22', 'end': None, 'time_zone': None}}, '类型': {'id': 'Tt%3BE', 'type': 'multi_select', 'multi_select': []}, '有啥想说的不': {'id': 'T%7DY%3B', 'type': 'rich_text', 'rich_text': []}, '评分': {'id': 'XQnP', 'type': 'select', 'select': None}, '封面': {'id': 'tSca', 'type': 'files', 'files': []}, '导演': {'id': 'wV%3AI', 'type': 'multi_select', 'multi_select': []}, '名称': {'id': 'title', 'type': 'title', 'title': [{'type': 'text', 'text': {'content': '猩球崛起 / Rise of the Planet of the Apes', 'link': None}, 'annotations': {'bold': False, 'italic': False, 'strikethrough': False, 'underline': False, 'code': False, 'color': 'default'}, 'plain_text': '猩球崛起 / Rise of the Planet of the Apes', 'href': None}]}}\n",
      "update successiiiii   https://img9.doubanio.com/view/photo/s_ratio_poster/public/p988260245.jpg\n",
      "{'影片链接': {'id': '%3C%3AGD', 'type': 'url', 'url': 'https://www.baidu.com'}, '观看时间': {'id': 'Nmq%7C', 'type': 'date', 'date': {'start': '2022-01-22', 'end': None, 'time_zone': None}}, '类型': {'id': 'Tt%3BE', 'type': 'multi_select', 'multi_select': []}, '有啥想说的不': {'id': 'T%7DY%3B', 'type': 'rich_text', 'rich_text': []}, '评分': {'id': 'XQnP', 'type': 'select', 'select': None}, '封面': {'id': 'tSca', 'type': 'files', 'files': []}, '导演': {'id': 'wV%3AI', 'type': 'multi_select', 'multi_select': []}, '名称': {'id': 'title', 'type': 'title', 'title': [{'type': 'text', 'text': {'content': '权力的游戏 第四季 / Game of Thrones Season 4', 'link': None}, 'annotations': {'bold': False, 'italic': False, 'strikethrough': False, 'underline': False, 'code': False, 'color': 'default'}, 'plain_text': '权力的游戏 第四季 / Game of Thrones Season 4', 'href': None}]}}\n",
      "update successiiiii   https://img9.doubanio.com/view/photo/s_ratio_poster/public/p988260245.jpg\n",
      "{'影片链接': {'id': '%3C%3AGD', 'type': 'url', 'url': 'https://www.baidu.com'}, '观看时间': {'id': 'Nmq%7C', 'type': 'date', 'date': {'start': '2022-01-22', 'end': None, 'time_zone': None}}, '类型': {'id': 'Tt%3BE', 'type': 'multi_select', 'multi_select': []}, '有啥想说的不': {'id': 'T%7DY%3B', 'type': 'rich_text', 'rich_text': []}, '评分': {'id': 'XQnP', 'type': 'select', 'select': None}, '封面': {'id': 'tSca', 'type': 'files', 'files': []}, '导演': {'id': 'wV%3AI', 'type': 'multi_select', 'multi_select': []}, '名称': {'id': 'title', 'type': 'title', 'title': [{'type': 'text', 'text': {'content': \"刺客信条 / Assassin's Creed\", 'link': None}, 'annotations': {'bold': False, 'italic': False, 'strikethrough': False, 'underline': False, 'code': False, 'color': 'default'}, 'plain_text': \"刺客信条 / Assassin's Creed\", 'href': None}]}}\n",
      "update successiiiii   https://img9.doubanio.com/view/photo/s_ratio_poster/public/p988260245.jpg\n",
      "{'影片链接': {'id': '%3C%3AGD', 'type': 'url', 'url': 'https://www.baidu.com'}, '观看时间': {'id': 'Nmq%7C', 'type': 'date', 'date': {'start': '2022-01-22', 'end': None, 'time_zone': None}}, '类型': {'id': 'Tt%3BE', 'type': 'multi_select', 'multi_select': []}, '有啥想说的不': {'id': 'T%7DY%3B', 'type': 'rich_text', 'rich_text': []}, '评分': {'id': 'XQnP', 'type': 'select', 'select': None}, '封面': {'id': 'tSca', 'type': 'files', 'files': []}, '导演': {'id': 'wV%3AI', 'type': 'multi_select', 'multi_select': []}, '名称': {'id': 'title', 'type': 'title', 'title': [{'type': 'text', 'text': {'content': '新木乃伊 / The Mummy', 'link': None}, 'annotations': {'bold': False, 'italic': False, 'strikethrough': False, 'underline': False, 'code': False, 'color': 'default'}, 'plain_text': '新木乃伊 / The Mummy', 'href': None}]}}\n",
      "update successiiiii   https://img9.doubanio.com/view/photo/s_ratio_poster/public/p988260245.jpg\n",
      "{'影片链接': {'id': '%3C%3AGD', 'type': 'url', 'url': 'https://www.baidu.com'}, '观看时间': {'id': 'Nmq%7C', 'type': 'date', 'date': {'start': '2022-01-22', 'end': None, 'time_zone': None}}, '类型': {'id': 'Tt%3BE', 'type': 'multi_select', 'multi_select': []}, '有啥想说的不': {'id': 'T%7DY%3B', 'type': 'rich_text', 'rich_text': []}, '评分': {'id': 'XQnP', 'type': 'select', 'select': None}, '封面': {'id': 'tSca', 'type': 'files', 'files': []}, '导演': {'id': 'wV%3AI', 'type': 'multi_select', 'multi_select': []}, '名称': {'id': 'title', 'type': 'title', 'title': [{'type': 'text', 'text': {'content': '复仇者联盟2：奥创纪元 / Avengers: Age of Ultron', 'link': None}, 'annotations': {'bold': False, 'italic': False, 'strikethrough': False, 'underline': False, 'code': False, 'color': 'default'}, 'plain_text': '复仇者联盟2：奥创纪元 / Avengers: Age of Ultron', 'href': None}]}}\n",
      "update successiiiii   https://img9.doubanio.com/view/photo/s_ratio_poster/public/p988260245.jpg\n",
      "{'影片链接': {'id': '%3C%3AGD', 'type': 'url', 'url': 'https://www.baidu.com'}, '观看时间': {'id': 'Nmq%7C', 'type': 'date', 'date': {'start': '2022-01-22', 'end': None, 'time_zone': None}}, '类型': {'id': 'Tt%3BE', 'type': 'multi_select', 'multi_select': []}, '有啥想说的不': {'id': 'T%7DY%3B', 'type': 'rich_text', 'rich_text': []}, '评分': {'id': 'XQnP', 'type': 'select', 'select': None}, '封面': {'id': 'tSca', 'type': 'files', 'files': []}, '导演': {'id': 'wV%3AI', 'type': 'multi_select', 'multi_select': []}, '名称': {'id': 'title', 'type': 'title', 'title': [{'type': 'text', 'text': {'content': '哪吒之魔童降世', 'link': None}, 'annotations': {'bold': False, 'italic': False, 'strikethrough': False, 'underline': False, 'code': False, 'color': 'default'}, 'plain_text': '哪吒之魔童降世', 'href': None}]}}\n",
      "update successiiiii   https://img9.doubanio.com/view/photo/s_ratio_poster/public/p988260245.jpg\n",
      "{'影片链接': {'id': '%3C%3AGD', 'type': 'url', 'url': 'https://www.baidu.com'}, '观看时间': {'id': 'Nmq%7C', 'type': 'date', 'date': {'start': '2022-01-22', 'end': None, 'time_zone': None}}, '类型': {'id': 'Tt%3BE', 'type': 'multi_select', 'multi_select': []}, '有啥想说的不': {'id': 'T%7DY%3B', 'type': 'rich_text', 'rich_text': []}, '评分': {'id': 'XQnP', 'type': 'select', 'select': None}, '封面': {'id': 'tSca', 'type': 'files', 'files': []}, '导演': {'id': 'wV%3AI', 'type': 'multi_select', 'multi_select': []}, '名称': {'id': 'title', 'type': 'title', 'title': [{'type': 'text', 'text': {'content': '秘密访客', 'link': None}, 'annotations': {'bold': False, 'italic': False, 'strikethrough': False, 'underline': False, 'code': False, 'color': 'default'}, 'plain_text': '秘密访客', 'href': None}]}}\n",
      "update successiiiii   https://img9.doubanio.com/view/photo/s_ratio_poster/public/p988260245.jpg\n",
      "{'影片链接': {'id': '%3C%3AGD', 'type': 'url', 'url': 'https://www.baidu.com'}, '观看时间': {'id': 'Nmq%7C', 'type': 'date', 'date': {'start': '2022-01-22', 'end': None, 'time_zone': None}}, '类型': {'id': 'Tt%3BE', 'type': 'multi_select', 'multi_select': []}, '有啥想说的不': {'id': 'T%7DY%3B', 'type': 'rich_text', 'rich_text': []}, '评分': {'id': 'XQnP', 'type': 'select', 'select': None}, '封面': {'id': 'tSca', 'type': 'files', 'files': []}, '导演': {'id': 'wV%3AI', 'type': 'multi_select', 'multi_select': []}, '名称': {'id': 'title', 'type': 'title', 'title': [{'type': 'text', 'text': {'content': '双子杀手 / Gemini Man', 'link': None}, 'annotations': {'bold': False, 'italic': False, 'strikethrough': False, 'underline': False, 'code': False, 'color': 'default'}, 'plain_text': '双子杀手 / Gemini Man', 'href': None}]}}\n",
      "update successiiiii   https://img9.doubanio.com/view/photo/s_ratio_poster/public/p988260245.jpg\n",
      "{'影片链接': {'id': '%3C%3AGD', 'type': 'url', 'url': 'https://www.baidu.com'}, '观看时间': {'id': 'Nmq%7C', 'type': 'date', 'date': {'start': '2022-01-22', 'end': None, 'time_zone': None}}, '类型': {'id': 'Tt%3BE', 'type': 'multi_select', 'multi_select': []}, '有啥想说的不': {'id': 'T%7DY%3B', 'type': 'rich_text', 'rich_text': []}, '评分': {'id': 'XQnP', 'type': 'select', 'select': None}, '封面': {'id': 'tSca', 'type': 'files', 'files': []}, '导演': {'id': 'wV%3AI', 'type': 'multi_select', 'multi_select': []}, '名称': {'id': 'title', 'type': 'title', 'title': [{'type': 'text', 'text': {'content': '侏罗纪世界 / Jurassic World', 'link': None}, 'annotations': {'bold': False, 'italic': False, 'strikethrough': False, 'underline': False, 'code': False, 'color': 'default'}, 'plain_text': '侏罗纪世界 / Jurassic World', 'href': None}]}}\n",
      "update successiiiii   https://img9.doubanio.com/view/photo/s_ratio_poster/public/p988260245.jpg\n",
      "{'影片链接': {'id': '%3C%3AGD', 'type': 'url', 'url': 'https://www.baidu.com'}, '观看时间': {'id': 'Nmq%7C', 'type': 'date', 'date': {'start': '2022-01-22', 'end': None, 'time_zone': None}}, '类型': {'id': 'Tt%3BE', 'type': 'multi_select', 'multi_select': []}, '有啥想说的不': {'id': 'T%7DY%3B', 'type': 'rich_text', 'rich_text': []}, '评分': {'id': 'XQnP', 'type': 'select', 'select': None}, '封面': {'id': 'tSca', 'type': 'files', 'files': []}, '导演': {'id': 'wV%3AI', 'type': 'multi_select', 'multi_select': []}, '名称': {'id': 'title', 'type': 'title', 'title': [{'type': 'text', 'text': {'content': '海王 / Aquaman', 'link': None}, 'annotations': {'bold': False, 'italic': False, 'strikethrough': False, 'underline': False, 'code': False, 'color': 'default'}, 'plain_text': '海王 / Aquaman', 'href': None}]}}\n",
      "update successiiiii   https://img9.doubanio.com/view/photo/s_ratio_poster/public/p988260245.jpg\n",
      "{'影片链接': {'id': '%3C%3AGD', 'type': 'url', 'url': 'https://www.baidu.com'}, '观看时间': {'id': 'Nmq%7C', 'type': 'date', 'date': {'start': '2022-01-22', 'end': None, 'time_zone': None}}, '类型': {'id': 'Tt%3BE', 'type': 'multi_select', 'multi_select': []}, '有啥想说的不': {'id': 'T%7DY%3B', 'type': 'rich_text', 'rich_text': []}, '评分': {'id': 'XQnP', 'type': 'select', 'select': None}, '封面': {'id': 'tSca', 'type': 'files', 'files': []}, '导演': {'id': 'wV%3AI', 'type': 'multi_select', 'multi_select': []}, '名称': {'id': 'title', 'type': 'title', 'title': [{'type': 'text', 'text': {'content': '美国队长2 / Captain America: The Winter Soldier', 'link': None}, 'annotations': {'bold': False, 'italic': False, 'strikethrough': False, 'underline': False, 'code': False, 'color': 'default'}, 'plain_text': '美国队长2 / Captain America: The Winter Soldier', 'href': None}]}}\n",
      "update successiiiii   https://img9.doubanio.com/view/photo/s_ratio_poster/public/p988260245.jpg\n",
      "{'影片链接': {'id': '%3C%3AGD', 'type': 'url', 'url': 'https://www.baidu.com'}, '观看时间': {'id': 'Nmq%7C', 'type': 'date', 'date': {'start': '2022-01-22', 'end': None, 'time_zone': None}}, '类型': {'id': 'Tt%3BE', 'type': 'multi_select', 'multi_select': []}, '有啥想说的不': {'id': 'T%7DY%3B', 'type': 'rich_text', 'rich_text': []}, '评分': {'id': 'XQnP', 'type': 'select', 'select': None}, '封面': {'id': 'tSca', 'type': 'files', 'files': []}, '导演': {'id': 'wV%3AI', 'type': 'multi_select', 'multi_select': []}, '名称': {'id': 'title', 'type': 'title', 'title': [{'type': 'text', 'text': {'content': '神奇动物：格林德沃之罪 / Fantastic Beasts: The Crimes of Grind...', 'link': None}, 'annotations': {'bold': False, 'italic': False, 'strikethrough': False, 'underline': False, 'code': False, 'color': 'default'}, 'plain_text': '神奇动物：格林德沃之罪 / Fantastic Beasts: The Crimes of Grind...', 'href': None}]}}\n",
      "update successiiiii   https://img9.doubanio.com/view/photo/s_ratio_poster/public/p988260245.jpg\n",
      "{'影片链接': {'id': '%3C%3AGD', 'type': 'url', 'url': 'https://www.baidu.com'}, '观看时间': {'id': 'Nmq%7C', 'type': 'date', 'date': {'start': '2022-01-22', 'end': None, 'time_zone': None}}, '类型': {'id': 'Tt%3BE', 'type': 'multi_select', 'multi_select': []}, '有啥想说的不': {'id': 'T%7DY%3B', 'type': 'rich_text', 'rich_text': []}, '评分': {'id': 'XQnP', 'type': 'select', 'select': None}, '封面': {'id': 'tSca', 'type': 'files', 'files': []}, '导演': {'id': 'wV%3AI', 'type': 'multi_select', 'multi_select': []}, '名称': {'id': 'title', 'type': 'title', 'title': [{'type': 'text', 'text': {'content': '蜘蛛侠：英雄远征 / Spider-Man: Far from Home', 'link': None}, 'annotations': {'bold': False, 'italic': False, 'strikethrough': False, 'underline': False, 'code': False, 'color': 'default'}, 'plain_text': '蜘蛛侠：英雄远征 / Spider-Man: Far from Home', 'href': None}]}}\n",
      "update successiiiii   https://img9.doubanio.com/view/photo/s_ratio_poster/public/p988260245.jpg\n",
      "{'影片链接': {'id': '%3C%3AGD', 'type': 'url', 'url': 'https://www.baidu.com'}, '观看时间': {'id': 'Nmq%7C', 'type': 'date', 'date': {'start': '2022-01-22', 'end': None, 'time_zone': None}}, '类型': {'id': 'Tt%3BE', 'type': 'multi_select', 'multi_select': []}, '有啥想说的不': {'id': 'T%7DY%3B', 'type': 'rich_text', 'rich_text': []}, '评分': {'id': 'XQnP', 'type': 'select', 'select': None}, '封面': {'id': 'tSca', 'type': 'files', 'files': []}, '导演': {'id': 'wV%3AI', 'type': 'multi_select', 'multi_select': []}, '名称': {'id': 'title', 'type': 'title', 'title': [{'type': 'text', 'text': {'content': '速度与激情：特别行动 / Fast & Furious Presents: Hobbs & Shaw', 'link': None}, 'annotations': {'bold': False, 'italic': False, 'strikethrough': False, 'underline': False, 'code': False, 'color': 'default'}, 'plain_text': '速度与激情：特别行动 / Fast & Furious Presents: Hobbs & Shaw', 'href': None}]}}\n",
      "update successiiiii   https://img9.doubanio.com/view/photo/s_ratio_poster/public/p988260245.jpg\n",
      "{'影片链接': {'id': '%3C%3AGD', 'type': 'url', 'url': 'https://www.baidu.com'}, '观看时间': {'id': 'Nmq%7C', 'type': 'date', 'date': {'start': '2022-01-22', 'end': None, 'time_zone': None}}, '类型': {'id': 'Tt%3BE', 'type': 'multi_select', 'multi_select': []}, '有啥想说的不': {'id': 'T%7DY%3B', 'type': 'rich_text', 'rich_text': []}, '评分': {'id': 'XQnP', 'type': 'select', 'select': None}, '封面': {'id': 'tSca', 'type': 'files', 'files': []}, '导演': {'id': 'wV%3AI', 'type': 'multi_select', 'multi_select': []}, '名称': {'id': 'title', 'type': 'title', 'title': [{'type': 'text', 'text': {'content': '变形金刚2 / Transformers: Revenge of the Fallen', 'link': None}, 'annotations': {'bold': False, 'italic': False, 'strikethrough': False, 'underline': False, 'code': False, 'color': 'default'}, 'plain_text': '变形金刚2 / Transformers: Revenge of the Fallen', 'href': None}]}}\n",
      "update successiiiii   https://img9.doubanio.com/view/photo/s_ratio_poster/public/p988260245.jpg\n",
      "{'影片链接': {'id': '%3C%3AGD', 'type': 'url', 'url': 'https://www.baidu.com'}, '观看时间': {'id': 'Nmq%7C', 'type': 'date', 'date': {'start': '2022-01-22', 'end': None, 'time_zone': None}}, '类型': {'id': 'Tt%3BE', 'type': 'multi_select', 'multi_select': []}, '有啥想说的不': {'id': 'T%7DY%3B', 'type': 'rich_text', 'rich_text': []}, '评分': {'id': 'XQnP', 'type': 'select', 'select': None}, '封面': {'id': 'tSca', 'type': 'files', 'files': []}, '导演': {'id': 'wV%3AI', 'type': 'multi_select', 'multi_select': []}, '名称': {'id': 'title', 'type': 'title', 'title': [{'type': 'text', 'text': {'content': '惊天魔盗团 / Now You See Me', 'link': None}, 'annotations': {'bold': False, 'italic': False, 'strikethrough': False, 'underline': False, 'code': False, 'color': 'default'}, 'plain_text': '惊天魔盗团 / Now You See Me', 'href': None}]}}\n",
      "update successiiiii   https://img9.doubanio.com/view/photo/s_ratio_poster/public/p988260245.jpg\n",
      "{'影片链接': {'id': '%3C%3AGD', 'type': 'url', 'url': 'https://www.baidu.com'}, '观看时间': {'id': 'Nmq%7C', 'type': 'date', 'date': {'start': '2022-01-22', 'end': None, 'time_zone': None}}, '类型': {'id': 'Tt%3BE', 'type': 'multi_select', 'multi_select': []}, '有啥想说的不': {'id': 'T%7DY%3B', 'type': 'rich_text', 'rich_text': []}, '评分': {'id': 'XQnP', 'type': 'select', 'select': None}, '封面': {'id': 'tSca', 'type': 'files', 'files': []}, '导演': {'id': 'wV%3AI', 'type': 'multi_select', 'multi_select': []}, '名称': {'id': 'title', 'type': 'title', 'title': [{'type': 'text', 'text': {'content': '火星救援 / The Martian', 'link': None}, 'annotations': {'bold': False, 'italic': False, 'strikethrough': False, 'underline': False, 'code': False, 'color': 'default'}, 'plain_text': '火星救援 / The Martian', 'href': None}]}}\n",
      "update successiiiii   https://img9.doubanio.com/view/photo/s_ratio_poster/public/p988260245.jpg\n",
      "{'影片链接': {'id': '%3C%3AGD', 'type': 'url', 'url': 'https://img2.doubanio.com/view/photo/s_ratio_poster/public/p2514119443.jpg'}, '观看时间': {'id': 'Nmq%7C', 'type': 'date', 'date': {'start': '2022-01-22', 'end': None, 'time_zone': None}}, '类型': {'id': 'Tt%3BE', 'type': 'multi_select', 'multi_select': []}, '有啥想说的不': {'id': 'T%7DY%3B', 'type': 'rich_text', 'rich_text': []}, '评分': {'id': 'XQnP', 'type': 'select', 'select': None}, '封面': {'id': 'tSca', 'type': 'files', 'files': []}, '导演': {'id': 'wV%3AI', 'type': 'multi_select', 'multi_select': []}, '名称': {'id': 'title', 'type': 'title', 'title': [{'type': 'text', 'text': {'content': '红海行动', 'link': None}, 'annotations': {'bold': False, 'italic': False, 'strikethrough': False, 'underline': False, 'code': False, 'color': 'default'}, 'plain_text': '红海行动', 'href': None}]}}\n",
      "update successiiiii   https://img9.doubanio.com/view/photo/s_ratio_poster/public/p988260245.jpg\n",
      "{'影片链接': {'id': '%3C%3AGD', 'type': 'url', 'url': 'https://img2.doubanio.com/view/photo/s_ratio_poster/public/p898634801.jpg'}, '观看时间': {'id': 'Nmq%7C', 'type': 'date', 'date': {'start': '2022-01-22', 'end': None, 'time_zone': None}}, '类型': {'id': 'Tt%3BE', 'type': 'multi_select', 'multi_select': []}, '有啥想说的不': {'id': 'T%7DY%3B', 'type': 'rich_text', 'rich_text': []}, '评分': {'id': 'XQnP', 'type': 'select', 'select': None}, '封面': {'id': 'tSca', 'type': 'files', 'files': []}, '导演': {'id': 'wV%3AI', 'type': 'multi_select', 'multi_select': []}, '名称': {'id': 'title', 'type': 'title', 'title': [{'type': 'text', 'text': {'content': '速度与激情5 / Fast Five', 'link': None}, 'annotations': {'bold': False, 'italic': False, 'strikethrough': False, 'underline': False, 'code': False, 'color': 'default'}, 'plain_text': '速度与激情5 / Fast Five', 'href': None}]}}\n",
      "update successiiiii   https://img9.doubanio.com/view/photo/s_ratio_poster/public/p988260245.jpg\n",
      "{'影片链接': {'id': '%3C%3AGD', 'type': 'url', 'url': 'https://img1.doubanio.com/view/photo/s_ratio_poster/public/p2567998580.jpg'}, '观看时间': {'id': 'Nmq%7C', 'type': 'date', 'date': {'start': '2022-01-22', 'end': None, 'time_zone': None}}, '类型': {'id': 'Tt%3BE', 'type': 'multi_select', 'multi_select': []}, '有啥想说的不': {'id': 'T%7DY%3B', 'type': 'rich_text', 'rich_text': []}, '评分': {'id': 'XQnP', 'type': 'select', 'select': None}, '封面': {'id': 'tSca', 'type': 'files', 'files': []}, '导演': {'id': 'wV%3AI', 'type': 'multi_select', 'multi_select': []}, '名称': {'id': 'title', 'type': 'title', 'title': [{'type': 'text', 'text': {'content': '我和我的祖国', 'link': None}, 'annotations': {'bold': False, 'italic': False, 'strikethrough': False, 'underline': False, 'code': False, 'color': 'default'}, 'plain_text': '我和我的祖国', 'href': None}]}}\n",
      "update successiiiii   https://img9.doubanio.com/view/photo/s_ratio_poster/public/p988260245.jpg\n",
      "{'影片链接': {'id': '%3C%3AGD', 'type': 'url', 'url': 'https://img1.doubanio.com/view/photo/s_ratio_poster/public/p2616427110.jpg'}, '观看时间': {'id': 'Nmq%7C', 'type': 'date', 'date': {'start': '2022-01-22', 'end': None, 'time_zone': None}}, '类型': {'id': 'Tt%3BE', 'type': 'multi_select', 'multi_select': []}, '有啥想说的不': {'id': 'T%7DY%3B', 'type': 'rich_text', 'rich_text': []}, '评分': {'id': 'XQnP', 'type': 'select', 'select': None}, '封面': {'id': 'tSca', 'type': 'files', 'files': []}, '导演': {'id': 'wV%3AI', 'type': 'multi_select', 'multi_select': []}, '名称': {'id': 'title', 'type': 'title', 'title': [{'type': 'text', 'text': {'content': '雪人奇缘 / Abominable', 'link': None}, 'annotations': {'bold': False, 'italic': False, 'strikethrough': False, 'underline': False, 'code': False, 'color': 'default'}, 'plain_text': '雪人奇缘 / Abominable', 'href': None}]}}\n",
      "update successiiiii   https://img9.doubanio.com/view/photo/s_ratio_poster/public/p988260245.jpg\n",
      "{'影片链接': {'id': '%3C%3AGD', 'type': 'url', 'url': 'https://img2.doubanio.com/view/photo/s_ratio_poster/public/p2388501883.jpg'}, '观看时间': {'id': 'Nmq%7C', 'type': 'date', 'date': {'start': '2022-01-22', 'end': None, 'time_zone': None}}, '类型': {'id': 'Tt%3BE', 'type': 'multi_select', 'multi_select': []}, '有啥想说的不': {'id': 'T%7DY%3B', 'type': 'rich_text', 'rich_text': []}, '评分': {'id': 'XQnP', 'type': 'select', 'select': None}, '封面': {'id': 'tSca', 'type': 'files', 'files': []}, '导演': {'id': 'wV%3AI', 'type': 'multi_select', 'multi_select': []}, '名称': {'id': 'title', 'type': 'title', 'title': [{'type': 'text', 'text': {'content': '奇异博士 / Doctor Strange', 'link': None}, 'annotations': {'bold': False, 'italic': False, 'strikethrough': False, 'underline': False, 'code': False, 'color': 'default'}, 'plain_text': '奇异博士 / Doctor Strange', 'href': None}]}}\n",
      "update successiiiii   https://img9.doubanio.com/view/photo/s_ratio_poster/public/p988260245.jpg\n",
      "{'影片链接': {'id': '%3C%3AGD', 'type': 'url', 'url': 'https://img1.doubanio.com/view/photo/s_ratio_poster/public/p2345947329.jpg'}, '观看时间': {'id': 'Nmq%7C', 'type': 'date', 'date': {'start': '2022-01-22', 'end': None, 'time_zone': None}}, '类型': {'id': 'Tt%3BE', 'type': 'multi_select', 'multi_select': []}, '有啥想说的不': {'id': 'T%7DY%3B', 'type': 'rich_text', 'rich_text': []}, '评分': {'id': 'XQnP', 'type': 'select', 'select': None}, '封面': {'id': 'tSca', 'type': 'files', 'files': []}, '导演': {'id': 'wV%3AI', 'type': 'multi_select', 'multi_select': []}, '名称': {'id': 'title', 'type': 'title', 'title': [{'type': 'text', 'text': {'content': '魔兽 / Warcraft', 'link': None}, 'annotations': {'bold': False, 'italic': False, 'strikethrough': False, 'underline': False, 'code': False, 'color': 'default'}, 'plain_text': '魔兽 / Warcraft', 'href': None}]}}\n",
      "update successiiiii   https://img9.doubanio.com/view/photo/s_ratio_poster/public/p988260245.jpg\n",
      "{'影片链接': {'id': '%3C%3AGD', 'type': 'url', 'url': 'https://img2.doubanio.com/view/photo/s_ratio_poster/public/p2187231762.jpg'}, '观看时间': {'id': 'Nmq%7C', 'type': 'date', 'date': {'start': '2022-01-22', 'end': None, 'time_zone': None}}, '类型': {'id': 'Tt%3BE', 'type': 'multi_select', 'multi_select': []}, '有啥想说的不': {'id': 'T%7DY%3B', 'type': 'rich_text', 'rich_text': []}, '评分': {'id': 'XQnP', 'type': 'select', 'select': None}, '封面': {'id': 'tSca', 'type': 'files', 'files': []}, '导演': {'id': 'wV%3AI', 'type': 'multi_select', 'multi_select': []}, '名称': {'id': 'title', 'type': 'title', 'title': [{'type': 'text', 'text': {'content': '变形金刚4：绝迹重生 / Transformers: Age of Extinction', 'link': None}, 'annotations': {'bold': False, 'italic': False, 'strikethrough': False, 'underline': False, 'code': False, 'color': 'default'}, 'plain_text': '变形金刚4：绝迹重生 / Transformers: Age of Extinction', 'href': None}]}}\n",
      "update successiiiii   https://img9.doubanio.com/view/photo/s_ratio_poster/public/p988260245.jpg\n",
      "{'影片链接': {'id': '%3C%3AGD', 'type': 'url', 'url': 'https://img2.doubanio.com/view/photo/s_ratio_poster/public/p1884199062.jpg'}, '观看时间': {'id': 'Nmq%7C', 'type': 'date', 'date': {'start': '2022-01-22', 'end': None, 'time_zone': None}}, '类型': {'id': 'Tt%3BE', 'type': 'multi_select', 'multi_select': []}, '有啥想说的不': {'id': 'T%7DY%3B', 'type': 'rich_text', 'rich_text': []}, '评分': {'id': 'XQnP', 'type': 'select', 'select': None}, '封面': {'id': 'tSca', 'type': 'files', 'files': []}, '导演': {'id': 'wV%3AI', 'type': 'multi_select', 'multi_select': []}, '名称': {'id': 'title', 'type': 'title', 'title': [{'type': 'text', 'text': {'content': '权力的游戏 第三季 / Game of Thrones Season 3', 'link': None}, 'annotations': {'bold': False, 'italic': False, 'strikethrough': False, 'underline': False, 'code': False, 'color': 'default'}, 'plain_text': '权力的游戏 第三季 / Game of Thrones Season 3', 'href': None}]}}\n",
      "update successiiiii   https://img9.doubanio.com/view/photo/s_ratio_poster/public/p988260245.jpg\n",
      "{'影片链接': {'id': '%3C%3AGD', 'type': 'url', 'url': 'https://img9.doubanio.com/view/photo/s_ratio_poster/public/p2156839164.jpg'}, '观看时间': {'id': 'Nmq%7C', 'type': 'date', 'date': {'start': '2022-01-22', 'end': None, 'time_zone': None}}, '类型': {'id': 'Tt%3BE', 'type': 'multi_select', 'multi_select': []}, '有啥想说的不': {'id': 'T%7DY%3B', 'type': 'rich_text', 'rich_text': []}, '评分': {'id': 'XQnP', 'type': 'select', 'select': None}, '封面': {'id': 'tSca', 'type': 'files', 'files': []}, '导演': {'id': 'wV%3AI', 'type': 'multi_select', 'multi_select': []}, '名称': {'id': 'title', 'type': 'title', 'title': [{'type': 'text', 'text': {'content': '雷神2：黑暗世界 / Thor: The Dark World', 'link': None}, 'annotations': {'bold': False, 'italic': False, 'strikethrough': False, 'underline': False, 'code': False, 'color': 'default'}, 'plain_text': '雷神2：黑暗世界 / Thor: The Dark World', 'href': None}]}}\n",
      "update successiiiii   https://img9.doubanio.com/view/photo/s_ratio_poster/public/p988260245.jpg\n",
      "{'影片链接': {'id': '%3C%3AGD', 'type': 'url', 'url': 'https://img1.doubanio.com/view/photo/s_ratio_poster/public/p1469137689.jpg'}, '观看时间': {'id': 'Nmq%7C', 'type': 'date', 'date': {'start': '2022-01-22', 'end': None, 'time_zone': None}}, '类型': {'id': 'Tt%3BE', 'type': 'multi_select', 'multi_select': []}, '有啥想说的不': {'id': 'T%7DY%3B', 'type': 'rich_text', 'rich_text': []}, '评分': {'id': 'XQnP', 'type': 'select', 'select': None}, '封面': {'id': 'tSca', 'type': 'files', 'files': []}, '导演': {'id': 'wV%3AI', 'type': 'multi_select', 'multi_select': []}, '名称': {'id': 'title', 'type': 'title', 'title': [{'type': 'text', 'text': {'content': '复仇者联盟 / The Avengers', 'link': None}, 'annotations': {'bold': False, 'italic': False, 'strikethrough': False, 'underline': False, 'code': False, 'color': 'default'}, 'plain_text': '复仇者联盟 / The Avengers', 'href': None}]}}\n",
      "update successiiiii   https://img9.doubanio.com/view/photo/s_ratio_poster/public/p988260245.jpg\n",
      "{'影片链接': {'id': '%3C%3AGD', 'type': 'url', 'url': 'https://img9.doubanio.com/view/photo/s_ratio_poster/public/p2231932406.jpg'}, '观看时间': {'id': 'Nmq%7C', 'type': 'date', 'date': {'start': '2022-01-22', 'end': None, 'time_zone': None}}, '类型': {'id': 'Tt%3BE', 'type': 'multi_select', 'multi_select': []}, '有啥想说的不': {'id': 'T%7DY%3B', 'type': 'rich_text', 'rich_text': []}, '评分': {'id': 'XQnP', 'type': 'select', 'select': None}, '封面': {'id': 'tSca', 'type': 'files', 'files': []}, '导演': {'id': 'wV%3AI', 'type': 'multi_select', 'multi_select': []}, '名称': {'id': 'title', 'type': 'title', 'title': [{'type': 'text', 'text': {'content': '王牌特工：特工学院 / Kingsman: The Secret Service', 'link': None}, 'annotations': {'bold': False, 'italic': False, 'strikethrough': False, 'underline': False, 'code': False, 'color': 'default'}, 'plain_text': '王牌特工：特工学院 / Kingsman: The Secret Service', 'href': None}]}}\n",
      "update successiiiii   https://img9.doubanio.com/view/photo/s_ratio_poster/public/p988260245.jpg\n",
      "{'影片链接': {'id': '%3C%3AGD', 'type': 'url', 'url': 'https://img2.doubanio.com/view/photo/s_ratio_poster/public/p2392444121.jpg'}, '观看时间': {'id': 'Nmq%7C', 'type': 'date', 'date': {'start': '2022-01-22', 'end': None, 'time_zone': None}}, '类型': {'id': 'Tt%3BE', 'type': 'multi_select', 'multi_select': []}, '有啥想说的不': {'id': 'T%7DY%3B', 'type': 'rich_text', 'rich_text': []}, '评分': {'id': 'XQnP', 'type': 'select', 'select': None}, '封面': {'id': 'tSca', 'type': 'files', 'files': []}, '导演': {'id': 'wV%3AI', 'type': 'multi_select', 'multi_select': []}, '名称': {'id': 'title', 'type': 'title', 'title': [{'type': 'text', 'text': {'content': '神奇动物在哪里 / Fantastic Beasts and Where to Find Them', 'link': None}, 'annotations': {'bold': False, 'italic': False, 'strikethrough': False, 'underline': False, 'code': False, 'color': 'default'}, 'plain_text': '神奇动物在哪里 / Fantastic Beasts and Where to Find Them', 'href': None}]}}\n",
      "update successiiiii   https://img9.doubanio.com/view/photo/s_ratio_poster/public/p988260245.jpg\n",
      "{'影片链接': {'id': '%3C%3AGD', 'type': 'url', 'url': 'https://img9.doubanio.com/view/photo/s_ratio_poster/public/p2545479945.jpg'}, '观看时间': {'id': 'Nmq%7C', 'type': 'date', 'date': {'start': '2022-01-22', 'end': None, 'time_zone': None}}, '类型': {'id': 'Tt%3BE', 'type': 'multi_select', 'multi_select': []}, '有啥想说的不': {'id': 'T%7DY%3B', 'type': 'rich_text', 'rich_text': []}, '评分': {'id': 'XQnP', 'type': 'select', 'select': None}, '封面': {'id': 'tSca', 'type': 'files', 'files': []}, '导演': {'id': 'wV%3AI', 'type': 'multi_select', 'multi_select': []}, '名称': {'id': 'title', 'type': 'title', 'title': [{'type': 'text', 'text': {'content': '死侍2：我爱我家 / Deadpool 2', 'link': None}, 'annotations': {'bold': False, 'italic': False, 'strikethrough': False, 'underline': False, 'code': False, 'color': 'default'}, 'plain_text': '死侍2：我爱我家 / Deadpool 2', 'href': None}]}}\n",
      "update successiiiii   https://img9.doubanio.com/view/photo/s_ratio_poster/public/p988260245.jpg\n",
      "{'影片链接': {'id': '%3C%3AGD', 'type': 'url', 'url': 'https://img9.doubanio.com/view/photo/s_ratio_poster/public/p2494096554.jpg'}, '观看时间': {'id': 'Nmq%7C', 'type': 'date', 'date': {'start': '2022-01-22', 'end': None, 'time_zone': None}}, '类型': {'id': 'Tt%3BE', 'type': 'multi_select', 'multi_select': []}, '有啥想说的不': {'id': 'T%7DY%3B', 'type': 'rich_text', 'rich_text': []}, '评分': {'id': 'XQnP', 'type': 'select', 'select': None}, '封面': {'id': 'tSca', 'type': 'files', 'files': []}, '导演': {'id': 'wV%3AI', 'type': 'multi_select', 'multi_select': []}, '名称': {'id': 'title', 'type': 'title', 'title': [{'type': 'text', 'text': {'content': '猩球崛起3：终极之战 / War for the Planet of the Apes', 'link': None}, 'annotations': {'bold': False, 'italic': False, 'strikethrough': False, 'underline': False, 'code': False, 'color': 'default'}, 'plain_text': '猩球崛起3：终极之战 / War for the Planet of the Apes', 'href': None}]}}\n",
      "update successiiiii   https://img9.doubanio.com/view/photo/s_ratio_poster/public/p988260245.jpg\n",
      "{'影片链接': {'id': '%3C%3AGD', 'type': 'url', 'url': 'https://img9.doubanio.com/view/photo/s_ratio_poster/public/p2567198874.jpg'}, '观看时间': {'id': 'Nmq%7C', 'type': 'date', 'date': {'start': '2022-01-22', 'end': None, 'time_zone': None}}, '类型': {'id': 'Tt%3BE', 'type': 'multi_select', 'multi_select': []}, '有啥想说的不': {'id': 'T%7DY%3B', 'type': 'rich_text', 'rich_text': []}, '评分': {'id': 'XQnP', 'type': 'select', 'select': None}, '封面': {'id': 'tSca', 'type': 'files', 'files': []}, '导演': {'id': 'wV%3AI', 'type': 'multi_select', 'multi_select': []}, '名称': {'id': 'title', 'type': 'title', 'title': [{'type': 'text', 'text': {'content': '小丑 / Joker', 'link': None}, 'annotations': {'bold': False, 'italic': False, 'strikethrough': False, 'underline': False, 'code': False, 'color': 'default'}, 'plain_text': '小丑 / Joker', 'href': None}]}}\n",
      "update successiiiii   https://img9.doubanio.com/view/photo/s_ratio_poster/public/p988260245.jpg\n",
      "{'影片链接': {'id': '%3C%3AGD', 'type': 'url', 'url': 'https://img9.doubanio.com/view/photo/s_ratio_poster/public/p2201909284.jpg'}, '观看时间': {'id': 'Nmq%7C', 'type': 'date', 'date': {'start': '2022-01-22', 'end': None, 'time_zone': None}}, '类型': {'id': 'Tt%3BE', 'type': 'multi_select', 'multi_select': []}, '有啥想说的不': {'id': 'T%7DY%3B', 'type': 'rich_text', 'rich_text': []}, '评分': {'id': 'XQnP', 'type': 'select', 'select': None}, '封面': {'id': 'tSca', 'type': 'files', 'files': []}, '导演': {'id': 'wV%3AI', 'type': 'multi_select', 'multi_select': []}, '名称': {'id': 'title', 'type': 'title', 'title': [{'type': 'text', 'text': {'content': '超体 / Lucy', 'link': None}, 'annotations': {'bold': False, 'italic': False, 'strikethrough': False, 'underline': False, 'code': False, 'color': 'default'}, 'plain_text': '超体 / Lucy', 'href': None}]}}\n",
      "update successiiiii   https://img9.doubanio.com/view/photo/s_ratio_poster/public/p988260245.jpg\n",
      "{'影片链接': {'id': '%3C%3AGD', 'type': 'url', 'url': 'https://img2.doubanio.com/view/photo/s_ratio_poster/public/p2429713841.jpg'}, '观看时间': {'id': 'Nmq%7C', 'type': 'date', 'date': {'start': '2022-01-22', 'end': None, 'time_zone': None}}, '类型': {'id': 'Tt%3BE', 'type': 'multi_select', 'multi_select': []}, '有啥想说的不': {'id': 'T%7DY%3B', 'type': 'rich_text', 'rich_text': []}, '评分': {'id': 'XQnP', 'type': 'select', 'select': None}, '封面': {'id': 'tSca', 'type': 'files', 'files': []}, '导演': {'id': 'wV%3AI', 'type': 'multi_select', 'multi_select': []}, '名称': {'id': 'title', 'type': 'title', 'title': [{'type': 'text', 'text': {'content': '生化危机：终章 / Resident Evil: The Final Chapter', 'link': None}, 'annotations': {'bold': False, 'italic': False, 'strikethrough': False, 'underline': False, 'code': False, 'color': 'default'}, 'plain_text': '生化危机：终章 / Resident Evil: The Final Chapter', 'href': None}]}}\n",
      "update successiiiii   https://img9.doubanio.com/view/photo/s_ratio_poster/public/p988260245.jpg\n",
      "{'影片链接': {'id': '%3C%3AGD', 'type': 'url', 'url': 'https://img1.doubanio.com/view/photo/s_ratio_poster/public/p2541662397.jpg'}, '观看时间': {'id': 'Nmq%7C', 'type': 'date', 'date': {'start': '2022-01-22', 'end': None, 'time_zone': None}}, '类型': {'id': 'Tt%3BE', 'type': 'multi_select', 'multi_select': []}, '有啥想说的不': {'id': 'T%7DY%3B', 'type': 'rich_text', 'rich_text': []}, '评分': {'id': 'XQnP', 'type': 'select', 'select': None}, '封面': {'id': 'tSca', 'type': 'files', 'files': []}, '导演': {'id': 'wV%3AI', 'type': 'multi_select', 'multi_select': []}, '名称': {'id': 'title', 'type': 'title', 'title': [{'type': 'text', 'text': {'content': '大黄蜂 / Bumblebee', 'link': None}, 'annotations': {'bold': False, 'italic': False, 'strikethrough': False, 'underline': False, 'code': False, 'color': 'default'}, 'plain_text': '大黄蜂 / Bumblebee', 'href': None}]}}\n",
      "update successiiiii   https://img9.doubanio.com/view/photo/s_ratio_poster/public/p988260245.jpg\n",
      "{'影片链接': {'id': '%3C%3AGD', 'type': 'url', 'url': 'https://img9.doubanio.com/view/photo/s_ratio_poster/public/p2544987866.jpg'}, '观看时间': {'id': 'Nmq%7C', 'type': 'date', 'date': {'start': '2022-01-22', 'end': None, 'time_zone': None}}, '类型': {'id': 'Tt%3BE', 'type': 'multi_select', 'multi_select': []}, '有啥想说的不': {'id': 'T%7DY%3B', 'type': 'rich_text', 'rich_text': []}, '评分': {'id': 'XQnP', 'type': 'select', 'select': None}, '封面': {'id': 'tSca', 'type': 'files', 'files': []}, '导演': {'id': 'wV%3AI', 'type': 'multi_select', 'multi_select': []}, '名称': {'id': 'title', 'type': 'title', 'title': [{'type': 'text', 'text': {'content': '阿丽塔：战斗天使 / Alita: Battle Angel', 'link': None}, 'annotations': {'bold': False, 'italic': False, 'strikethrough': False, 'underline': False, 'code': False, 'color': 'default'}, 'plain_text': '阿丽塔：战斗天使 / Alita: Battle Angel', 'href': None}]}}\n",
      "update successiiiii   https://img9.doubanio.com/view/photo/s_ratio_poster/public/p988260245.jpg\n",
      "{'影片链接': {'id': '%3C%3AGD', 'type': 'url', 'url': 'https://img1.doubanio.com/view/photo/s_ratio_poster/public/p2512717519.jpg'}, '观看时间': {'id': 'Nmq%7C', 'type': 'date', 'date': {'start': '2022-01-22', 'end': None, 'time_zone': None}}, '类型': {'id': 'Tt%3BE', 'type': 'multi_select', 'multi_select': []}, '有啥想说的不': {'id': 'T%7DY%3B', 'type': 'rich_text', 'rich_text': []}, '评分': {'id': 'XQnP', 'type': 'select', 'select': None}, '封面': {'id': 'tSca', 'type': 'files', 'files': []}, '导演': {'id': 'wV%3AI', 'type': 'multi_select', 'multi_select': []}, '名称': {'id': 'title', 'type': 'title', 'title': [{'type': 'text', 'text': {'content': '唐人街探案2', 'link': None}, 'annotations': {'bold': False, 'italic': False, 'strikethrough': False, 'underline': False, 'code': False, 'color': 'default'}, 'plain_text': '唐人街探案2', 'href': None}]}}\n",
      "update successiiiii   https://img9.doubanio.com/view/photo/s_ratio_poster/public/p988260245.jpg\n",
      "{'影片链接': {'id': '%3C%3AGD', 'type': 'url', 'url': 'https://img2.doubanio.com/view/photo/s_ratio_poster/public/p818710721.jpg'}, '观看时间': {'id': 'Nmq%7C', 'type': 'date', 'date': {'start': '2022-01-22', 'end': None, 'time_zone': None}}, '类型': {'id': 'Tt%3BE', 'type': 'multi_select', 'multi_select': []}, '有啥想说的不': {'id': 'T%7DY%3B', 'type': 'rich_text', 'rich_text': []}, '评分': {'id': 'XQnP', 'type': 'select', 'select': None}, '封面': {'id': 'tSca', 'type': 'files', 'files': []}, '导演': {'id': 'wV%3AI', 'type': 'multi_select', 'multi_select': []}, '名称': {'id': 'title', 'type': 'title', 'title': [{'type': 'text', 'text': {'content': '终结者3 / Terminator 3: Rise of the Machines', 'link': None}, 'annotations': {'bold': False, 'italic': False, 'strikethrough': False, 'underline': False, 'code': False, 'color': 'default'}, 'plain_text': '终结者3 / Terminator 3: Rise of the Machines', 'href': None}]}}\n",
      "update successiiiii   https://img9.doubanio.com/view/photo/s_ratio_poster/public/p988260245.jpg\n",
      "{'影片链接': {'id': '%3C%3AGD', 'type': 'url', 'url': 'https://img9.doubanio.com/view/photo/s_ratio_poster/public/p2544313786.jpg'}, '观看时间': {'id': 'Nmq%7C', 'type': 'date', 'date': {'start': '2022-01-22', 'end': None, 'time_zone': None}}, '类型': {'id': 'Tt%3BE', 'type': 'multi_select', 'multi_select': []}, '有啥想说的不': {'id': 'T%7DY%3B', 'type': 'rich_text', 'rich_text': []}, '评分': {'id': 'XQnP', 'type': 'select', 'select': None}, '封面': {'id': 'tSca', 'type': 'files', 'files': []}, '导演': {'id': 'wV%3AI', 'type': 'multi_select', 'multi_select': []}, '名称': {'id': 'title', 'type': 'title', 'title': [{'type': 'text', 'text': {'content': '白蛇：缘起', 'link': None}, 'annotations': {'bold': False, 'italic': False, 'strikethrough': False, 'underline': False, 'code': False, 'color': 'default'}, 'plain_text': '白蛇：缘起', 'href': None}]}}\n",
      "update successiiiii   https://img9.doubanio.com/view/photo/s_ratio_poster/public/p988260245.jpg\n",
      "{'影片链接': {'id': '%3C%3AGD', 'type': 'url', 'url': 'https://img9.doubanio.com/view/photo/s_ratio_poster/public/p2500451074.jpg'}, '观看时间': {'id': 'Nmq%7C', 'type': 'date', 'date': {'start': '2022-01-22', 'end': None, 'time_zone': None}}, '类型': {'id': 'Tt%3BE', 'type': 'multi_select', 'multi_select': []}, '有啥想说的不': {'id': 'T%7DY%3B', 'type': 'rich_text', 'rich_text': []}, '评分': {'id': 'XQnP', 'type': 'select', 'select': None}, '封面': {'id': 'tSca', 'type': 'files', 'files': []}, '导演': {'id': 'wV%3AI', 'type': 'multi_select', 'multi_select': []}, '名称': {'id': 'title', 'type': 'title', 'title': [{'type': 'text', 'text': {'content': '雷神3：诸神黄昏 / Thor: Ragnarok', 'link': None}, 'annotations': {'bold': False, 'italic': False, 'strikethrough': False, 'underline': False, 'code': False, 'color': 'default'}, 'plain_text': '雷神3：诸神黄昏 / Thor: Ragnarok', 'href': None}]}}\n",
      "update successiiiii   https://img9.doubanio.com/view/photo/s_ratio_poster/public/p988260245.jpg\n",
      "{'影片链接': {'id': '%3C%3AGD', 'type': 'url', 'url': 'https://img2.doubanio.com/view/photo/s_ratio_poster/public/p2309264172.jpg'}, '观看时间': {'id': 'Nmq%7C', 'type': 'date', 'date': {'start': '2022-01-22', 'end': None, 'time_zone': None}}, '类型': {'id': 'Tt%3BE', 'type': 'multi_select', 'multi_select': []}, '有啥想说的不': {'id': 'T%7DY%3B', 'type': 'rich_text', 'rich_text': []}, '评分': {'id': 'XQnP', 'type': 'select', 'select': None}, '封面': {'id': 'tSca', 'type': 'files', 'files': []}, '导演': {'id': 'wV%3AI', 'type': 'multi_select', 'multi_select': []}, '名称': {'id': 'title', 'type': 'title', 'title': [{'type': 'text', 'text': {'content': '死侍 / Deadpool', 'link': None}, 'annotations': {'bold': False, 'italic': False, 'strikethrough': False, 'underline': False, 'code': False, 'color': 'default'}, 'plain_text': '死侍 / Deadpool', 'href': None}]}}\n",
      "update successiiiii   https://img9.doubanio.com/view/photo/s_ratio_poster/public/p988260245.jpg\n",
      "{'影片链接': {'id': '%3C%3AGD', 'type': 'url', 'url': 'https://img2.doubanio.com/view/photo/s_ratio_poster/public/p2568258113.jpg'}, '观看时间': {'id': 'Nmq%7C', 'type': 'date', 'date': {'start': '2022-01-22', 'end': None, 'time_zone': None}}, '类型': {'id': 'Tt%3BE', 'type': 'multi_select', 'multi_select': []}, '有啥想说的不': {'id': 'T%7DY%3B', 'type': 'rich_text', 'rich_text': []}, '评分': {'id': 'XQnP', 'type': 'select', 'select': None}, '封面': {'id': 'tSca', 'type': 'files', 'files': []}, '导演': {'id': 'wV%3AI', 'type': 'multi_select', 'multi_select': []}, '名称': {'id': 'title', 'type': 'title', 'title': [{'type': 'text', 'text': {'content': '中国机长', 'link': None}, 'annotations': {'bold': False, 'italic': False, 'strikethrough': False, 'underline': False, 'code': False, 'color': 'default'}, 'plain_text': '中国机长', 'href': None}]}}\n",
      "update successiiiii   https://img9.doubanio.com/view/photo/s_ratio_poster/public/p988260245.jpg\n",
      "{'影片链接': {'id': '%3C%3AGD', 'type': 'url', 'url': 'https://img9.doubanio.com/view/photo/s_ratio_poster/public/p2571762536.jpg'}, '观看时间': {'id': 'Nmq%7C', 'type': 'date', 'date': {'start': '2022-01-22', 'end': None, 'time_zone': None}}, '类型': {'id': 'Tt%3BE', 'type': 'multi_select', 'multi_select': []}, '有啥想说的不': {'id': 'T%7DY%3B', 'type': 'rich_text', 'rich_text': []}, '评分': {'id': 'XQnP', 'type': 'select', 'select': None}, '封面': {'id': 'tSca', 'type': 'files', 'files': []}, '导演': {'id': 'wV%3AI', 'type': 'multi_select', 'multi_select': []}, '名称': {'id': 'title', 'type': 'title', 'title': [{'type': 'text', 'text': {'content': '终结者：黑暗命运 / Terminator: Dark Fate', 'link': None}, 'annotations': {'bold': False, 'italic': False, 'strikethrough': False, 'underline': False, 'code': False, 'color': 'default'}, 'plain_text': '终结者：黑暗命运 / Terminator: Dark Fate', 'href': None}]}}\n",
      "update successiiiii   https://img9.doubanio.com/view/photo/s_ratio_poster/public/p988260245.jpg\n",
      "{'影片链接': {'id': '%3C%3AGD', 'type': 'url', 'url': 'https://img1.doubanio.com/view/photo/s_ratio_poster/public/p2230413708.jpg'}, '观看时间': {'id': 'Nmq%7C', 'type': 'date', 'date': {'start': '2022-01-22', 'end': None, 'time_zone': None}}, '类型': {'id': 'Tt%3BE', 'type': 'multi_select', 'multi_select': []}, '有啥想说的不': {'id': 'T%7DY%3B', 'type': 'rich_text', 'rich_text': []}, '评分': {'id': 'XQnP', 'type': 'select', 'select': None}, '封面': {'id': 'tSca', 'type': 'files', 'files': []}, '导演': {'id': 'wV%3AI', 'type': 'multi_select', 'multi_select': []}, '名称': {'id': 'title', 'type': 'title', 'title': [{'type': 'text', 'text': {'content': '速度与激情4 / Fast & Furious', 'link': None}, 'annotations': {'bold': False, 'italic': False, 'strikethrough': False, 'underline': False, 'code': False, 'color': 'default'}, 'plain_text': '速度与激情4 / Fast & Furious', 'href': None}]}}\n",
      "update successiiiii   https://img9.doubanio.com/view/photo/s_ratio_poster/public/p988260245.jpg\n",
      "{'影片链接': {'id': '%3C%3AGD', 'type': 'url', 'url': 'https://img1.doubanio.com/view/photo/s_ratio_poster/public/p2209718348.jpg'}, '观看时间': {'id': 'Nmq%7C', 'type': 'date', 'date': {'start': '2022-01-22', 'end': None, 'time_zone': None}}, '类型': {'id': 'Tt%3BE', 'type': 'multi_select', 'multi_select': []}, '有啥想说的不': {'id': 'T%7DY%3B', 'type': 'rich_text', 'rich_text': []}, '评分': {'id': 'XQnP', 'type': 'select', 'select': None}, '封面': {'id': 'tSca', 'type': 'files', 'files': []}, '导演': {'id': 'wV%3AI', 'type': 'multi_select', 'multi_select': []}, '名称': {'id': 'title', 'type': 'title', 'title': [{'type': 'text', 'text': {'content': '饥饿游戏 / The Hunger Games', 'link': None}, 'annotations': {'bold': False, 'italic': False, 'strikethrough': False, 'underline': False, 'code': False, 'color': 'default'}, 'plain_text': '饥饿游戏 / The Hunger Games', 'href': None}]}}\n",
      "update successiiiii   https://img9.doubanio.com/view/photo/s_ratio_poster/public/p988260245.jpg\n",
      "{'影片链接': {'id': '%3C%3AGD', 'type': 'url', 'url': 'https://img9.doubanio.com/view/photo/s_ratio_poster/public/p2357111716.jpg'}, '观看时间': {'id': 'Nmq%7C', 'type': 'date', 'date': {'start': '2022-01-22', 'end': None, 'time_zone': None}}, '类型': {'id': 'Tt%3BE', 'type': 'multi_select', 'multi_select': []}, '有啥想说的不': {'id': 'T%7DY%3B', 'type': 'rich_text', 'rich_text': []}, '评分': {'id': 'XQnP', 'type': 'select', 'select': None}, '封面': {'id': 'tSca', 'type': 'files', 'files': []}, '导演': {'id': 'wV%3AI', 'type': 'multi_select', 'multi_select': []}, '名称': {'id': 'title', 'type': 'title', 'title': [{'type': 'text', 'text': {'content': '忍者神龟2：破影而出 / Teenage Mutant Ninja Turtles: Out of the...', 'link': None}, 'annotations': {'bold': False, 'italic': False, 'strikethrough': False, 'underline': False, 'code': False, 'color': 'default'}, 'plain_text': '忍者神龟2：破影而出 / Teenage Mutant Ninja Turtles: Out of the...', 'href': None}]}}\n",
      "update successiiiii   https://img9.doubanio.com/view/photo/s_ratio_poster/public/p988260245.jpg\n",
      "{'影片链接': {'id': '%3C%3AGD', 'type': 'url', 'url': 'https://img2.doubanio.com/view/photo/s_ratio_poster/public/p2262649521.jpg'}, '观看时间': {'id': 'Nmq%7C', 'type': 'date', 'date': {'start': '2022-01-22', 'end': None, 'time_zone': None}}, '类型': {'id': 'Tt%3BE', 'type': 'multi_select', 'multi_select': []}, '有啥想说的不': {'id': 'T%7DY%3B', 'type': 'rich_text', 'rich_text': []}, '评分': {'id': 'XQnP', 'type': 'select', 'select': None}, '封面': {'id': 'tSca', 'type': 'files', 'files': []}, '导演': {'id': 'wV%3AI', 'type': 'multi_select', 'multi_select': []}, '名称': {'id': 'title', 'type': 'title', 'title': [{'type': 'text', 'text': {'content': '终结者：创世纪 / Terminator Genisys', 'link': None}, 'annotations': {'bold': False, 'italic': False, 'strikethrough': False, 'underline': False, 'code': False, 'color': 'default'}, 'plain_text': '终结者：创世纪 / Terminator Genisys', 'href': None}]}}\n",
      "update successiiiii   https://img9.doubanio.com/view/photo/s_ratio_poster/public/p988260245.jpg\n",
      "{'影片链接': {'id': '%3C%3AGD', 'type': 'url', 'url': 'https://img1.doubanio.com/view/photo/s_ratio_poster/public/p2876409008.jpg'}, '观看时间': {'id': 'Nmq%7C', 'type': 'date', 'date': {'start': '2022-01-22', 'end': None, 'time_zone': None}}, '类型': {'id': 'Tt%3BE', 'type': 'multi_select', 'multi_select': []}, '有啥想说的不': {'id': 'T%7DY%3B', 'type': 'rich_text', 'rich_text': []}, '评分': {'id': 'XQnP', 'type': 'select', 'select': {'id': 'e51217d5-f71e-41dc-be48-0a7582889afa', 'name': '⭐⭐⭐', 'color': 'blue'}}, '封面': {'id': 'tSca', 'type': 'files', 'files': []}, '导演': {'id': 'wV%3AI', 'type': 'multi_select', 'multi_select': []}, '名称': {'id': 'title', 'type': 'title', 'title': [{'type': 'text', 'text': {'content': '独行月球', 'link': None}, 'annotations': {'bold': False, 'italic': False, 'strikethrough': False, 'underline': False, 'code': False, 'color': 'default'}, 'plain_text': '独行月球', 'href': None}]}}\n",
      "update successiiiii   https://img9.doubanio.com/view/photo/s_ratio_poster/public/p988260245.jpg\n",
      "{'影片链接': {'id': '%3C%3AGD', 'type': 'url', 'url': 'https://img1.doubanio.com/view/photo/s_ratio_poster/public/p2675102928.jpg'}, '观看时间': {'id': 'Nmq%7C', 'type': 'date', 'date': {'start': '2022-01-22', 'end': None, 'time_zone': None}}, '类型': {'id': 'Tt%3BE', 'type': 'multi_select', 'multi_select': []}, '有啥想说的不': {'id': 'T%7DY%3B', 'type': 'rich_text', 'rich_text': []}, '评分': {'id': 'XQnP', 'type': 'select', 'select': {'id': 'e51217d5-f71e-41dc-be48-0a7582889afa', 'name': '⭐⭐⭐', 'color': 'blue'}}, '封面': {'id': 'tSca', 'type': 'files', 'files': []}, '导演': {'id': 'wV%3AI', 'type': 'multi_select', 'multi_select': []}, '名称': {'id': 'title', 'type': 'title', 'title': [{'type': 'text', 'text': {'content': '毒液2 / Venom: Let There Be Carnage', 'link': None}, 'annotations': {'bold': False, 'italic': False, 'strikethrough': False, 'underline': False, 'code': False, 'color': 'default'}, 'plain_text': '毒液2 / Venom: Let There Be Carnage', 'href': None}]}}\n",
      "update successiiiii   https://img9.doubanio.com/view/photo/s_ratio_poster/public/p988260245.jpg\n",
      "{'影片链接': {'id': '%3C%3AGD', 'type': 'url', 'url': 'https://img9.doubanio.com/view/photo/s_ratio_poster/public/p2552058346.jpg'}, '观看时间': {'id': 'Nmq%7C', 'type': 'date', 'date': {'start': '2022-01-22', 'end': None, 'time_zone': None}}, '类型': {'id': 'Tt%3BE', 'type': 'multi_select', 'multi_select': []}, '有啥想说的不': {'id': 'T%7DY%3B', 'type': 'rich_text', 'rich_text': []}, '评分': {'id': 'XQnP', 'type': 'select', 'select': None}, '封面': {'id': 'tSca', 'type': 'files', 'files': []}, '导演': {'id': 'wV%3AI', 'type': 'multi_select', 'multi_select': []}, '名称': {'id': 'title', 'type': 'title', 'title': [{'type': 'text', 'text': {'content': '复仇者联盟4：终局之战 / Avengers: Endgame', 'link': None}, 'annotations': {'bold': False, 'italic': False, 'strikethrough': False, 'underline': False, 'code': False, 'color': 'default'}, 'plain_text': '复仇者联盟4：终局之战 / Avengers: Endgame', 'href': None}]}}\n",
      "update successiiiii   https://img9.doubanio.com/view/photo/s_ratio_poster/public/p988260245.jpg\n",
      "{'影片链接': {'id': '%3C%3AGD', 'type': 'url', 'url': 'https://img1.doubanio.com/view/photo/s_ratio_poster/public/p2620161520.jpg'}, '观看时间': {'id': 'Nmq%7C', 'type': 'date', 'date': {'start': '2022-01-22', 'end': None, 'time_zone': None}}, '类型': {'id': 'Tt%3BE', 'type': 'multi_select', 'multi_select': []}, '有啥想说的不': {'id': 'T%7DY%3B', 'type': 'rich_text', 'rich_text': []}, '评分': {'id': 'XQnP', 'type': 'select', 'select': {'id': 'e51217d5-f71e-41dc-be48-0a7582889afa', 'name': '⭐⭐⭐', 'color': 'blue'}}, '封面': {'id': 'tSca', 'type': 'files', 'files': []}, '导演': {'id': 'wV%3AI', 'type': 'multi_select', 'multi_select': []}, '名称': {'id': 'title', 'type': 'title', 'title': [{'type': 'text', 'text': {'content': '芝加哥七君子审判 / The Trial of the Chicago 7', 'link': None}, 'annotations': {'bold': False, 'italic': False, 'strikethrough': False, 'underline': False, 'code': False, 'color': 'default'}, 'plain_text': '芝加哥七君子审判 / The Trial of the Chicago 7', 'href': None}]}}\n",
      "update successiiiii   https://img9.doubanio.com/view/photo/s_ratio_poster/public/p988260245.jpg\n",
      "{'影片链接': {'id': '%3C%3AGD', 'type': 'url', 'url': 'https://img9.doubanio.com/view/photo/s_ratio_poster/public/p2871106106.jpg'}, '观看时间': {'id': 'Nmq%7C', 'type': 'date', 'date': {'start': '2022-01-22', 'end': None, 'time_zone': None}}, '类型': {'id': 'Tt%3BE', 'type': 'multi_select', 'multi_select': []}, '有啥想说的不': {'id': 'T%7DY%3B', 'type': 'rich_text', 'rich_text': []}, '评分': {'id': 'XQnP', 'type': 'select', 'select': {'id': 'e51217d5-f71e-41dc-be48-0a7582889afa', 'name': '⭐⭐⭐', 'color': 'blue'}}, '封面': {'id': 'tSca', 'type': 'files', 'files': []}, '导演': {'id': 'wV%3AI', 'type': 'multi_select', 'multi_select': []}, '名称': {'id': 'title', 'type': 'title', 'title': [{'type': 'text', 'text': {'content': '神奇动物：邓布利多之谜 / Fantastic Beasts: The Secrets of Dumb...', 'link': None}, 'annotations': {'bold': False, 'italic': False, 'strikethrough': False, 'underline': False, 'code': False, 'color': 'default'}, 'plain_text': '神奇动物：邓布利多之谜 / Fantastic Beasts: The Secrets of Dumb...', 'href': None}]}}\n",
      "update successiiiii   https://img9.doubanio.com/view/photo/s_ratio_poster/public/p988260245.jpg\n",
      "{'影片链接': {'id': '%3C%3AGD', 'type': 'url', 'url': 'https://img9.doubanio.com/view/photo/s_ratio_poster/public/p2640611704.jpg'}, '观看时间': {'id': 'Nmq%7C', 'type': 'date', 'date': {'start': '2022-01-22', 'end': None, 'time_zone': None}}, '类型': {'id': 'Tt%3BE', 'type': 'multi_select', 'multi_select': []}, '有啥想说的不': {'id': 'T%7DY%3B', 'type': 'rich_text', 'rich_text': []}, '评分': {'id': 'XQnP', 'type': 'select', 'select': {'id': 'e51217d5-f71e-41dc-be48-0a7582889afa', 'name': '⭐⭐⭐', 'color': 'blue'}}, '封面': {'id': 'tSca', 'type': 'files', 'files': []}, '导演': {'id': 'wV%3AI', 'type': 'multi_select', 'multi_select': []}, '名称': {'id': 'title', 'type': 'title', 'title': [{'type': 'text', 'text': {'content': '速度与激情9 / F9: The Fast Saga', 'link': None}, 'annotations': {'bold': False, 'italic': False, 'strikethrough': False, 'underline': False, 'code': False, 'color': 'default'}, 'plain_text': '速度与激情9 / F9: The Fast Saga', 'href': None}]}}\n",
      "update successiiiii   https://img9.doubanio.com/view/photo/s_ratio_poster/public/p988260245.jpg\n",
      "{'影片链接': {'id': '%3C%3AGD', 'type': 'url', 'url': 'https://img1.doubanio.com/view/photo/s_ratio_poster/public/p2676943868.jpg'}, '观看时间': {'id': 'Nmq%7C', 'type': 'date', 'date': {'start': '2022-01-22', 'end': None, 'time_zone': None}}, '类型': {'id': 'Tt%3BE', 'type': 'multi_select', 'multi_select': []}, '有啥想说的不': {'id': 'T%7DY%3B', 'type': 'rich_text', 'rich_text': []}, '评分': {'id': 'XQnP', 'type': 'select', 'select': {'id': 'a63712e1-3187-4341-9454-4a9840244e22', 'name': '⭐⭐', 'color': 'brown'}}, '封面': {'id': 'tSca', 'type': 'files', 'files': []}, '导演': {'id': 'wV%3AI', 'type': 'multi_select', 'multi_select': []}, '名称': {'id': 'title', 'type': 'title', 'title': [{'type': 'text', 'text': {'content': '测谎人', 'link': None}, 'annotations': {'bold': False, 'italic': False, 'strikethrough': False, 'underline': False, 'code': False, 'color': 'default'}, 'plain_text': '测谎人', 'href': None}]}}\n",
      "update successiiiii   https://img9.doubanio.com/view/photo/s_ratio_poster/public/p988260245.jpg\n",
      "{'影片链接': {'id': '%3C%3AGD', 'type': 'url', 'url': 'https://img1.doubanio.com/view/photo/s_ratio_poster/public/p2612061299.jpg'}, '观看时间': {'id': 'Nmq%7C', 'type': 'date', 'date': {'start': '2022-01-22', 'end': None, 'time_zone': None}}, '类型': {'id': 'Tt%3BE', 'type': 'multi_select', 'multi_select': []}, '有啥想说的不': {'id': 'T%7DY%3B', 'type': 'rich_text', 'rich_text': []}, '评分': {'id': 'XQnP', 'type': 'select', 'select': {'id': 'e51217d5-f71e-41dc-be48-0a7582889afa', 'name': '⭐⭐⭐', 'color': 'blue'}}, '封面': {'id': 'tSca', 'type': 'files', 'files': []}, '导演': {'id': 'wV%3AI', 'type': 'multi_select', 'multi_select': []}, '名称': {'id': 'title', 'type': 'title', 'title': [{'type': 'text', 'text': {'content': '信条 / Tenet', 'link': None}, 'annotations': {'bold': False, 'italic': False, 'strikethrough': False, 'underline': False, 'code': False, 'color': 'default'}, 'plain_text': '信条 / Tenet', 'href': None}]}}\n",
      "update successiiiii   https://img9.doubanio.com/view/photo/s_ratio_poster/public/p988260245.jpg\n",
      "{'影片链接': {'id': '%3C%3AGD', 'type': 'url', 'url': 'https://img1.doubanio.com/view/photo/s_ratio_poster/public/p2702918768.jpg'}, '观看时间': {'id': 'Nmq%7C', 'type': 'date', 'date': {'start': '2022-01-22', 'end': None, 'time_zone': None}}, '类型': {'id': 'Tt%3BE', 'type': 'multi_select', 'multi_select': []}, '有啥想说的不': {'id': 'T%7DY%3B', 'type': 'rich_text', 'rich_text': []}, '评分': {'id': 'XQnP', 'type': 'select', 'select': {'id': 'e51217d5-f71e-41dc-be48-0a7582889afa', 'name': '⭐⭐⭐', 'color': 'blue'}}, '封面': {'id': 'tSca', 'type': 'files', 'files': []}, '导演': {'id': 'wV%3AI', 'type': 'multi_select', 'multi_select': []}, '名称': {'id': 'title', 'type': 'title', 'title': [{'type': 'text', 'text': {'content': '红色通缉令 / Red Notice', 'link': None}, 'annotations': {'bold': False, 'italic': False, 'strikethrough': False, 'underline': False, 'code': False, 'color': 'default'}, 'plain_text': '红色通缉令 / Red Notice', 'href': None}]}}\n",
      "update successiiiii   https://img9.doubanio.com/view/photo/s_ratio_poster/public/p988260245.jpg\n",
      "{'影片链接': {'id': '%3C%3AGD', 'type': 'url', 'url': 'https://img9.doubanio.com/view/photo/s_ratio_poster/public/p2730024046.jpg'}, '观看时间': {'id': 'Nmq%7C', 'type': 'date', 'date': {'start': '2022-01-22', 'end': None, 'time_zone': None}}, '类型': {'id': 'Tt%3BE', 'type': 'multi_select', 'multi_select': []}, '有啥想说的不': {'id': 'T%7DY%3B', 'type': 'rich_text', 'rich_text': []}, '评分': {'id': 'XQnP', 'type': 'select', 'select': {'id': 'e51217d5-f71e-41dc-be48-0a7582889afa', 'name': '⭐⭐⭐', 'color': 'blue'}}, '封面': {'id': 'tSca', 'type': 'files', 'files': []}, '导演': {'id': 'wV%3AI', 'type': 'multi_select', 'multi_select': []}, '名称': {'id': 'title', 'type': 'title', 'title': [{'type': 'text', 'text': {'content': '蜘蛛侠：英雄无归 / Spider-Man: No Way Home', 'link': None}, 'annotations': {'bold': False, 'italic': False, 'strikethrough': False, 'underline': False, 'code': False, 'color': 'default'}, 'plain_text': '蜘蛛侠：英雄无归 / Spider-Man: No Way Home', 'href': None}]}}\n",
      "update successiiiii   https://img9.doubanio.com/view/photo/s_ratio_poster/public/p988260245.jpg\n",
      "{'影片链接': {'id': '%3C%3AGD', 'type': 'url', 'url': 'https://img9.doubanio.com/view/photo/s_ratio_poster/public/p2494950714.jpg'}, '观看时间': {'id': 'Nmq%7C', 'type': 'date', 'date': {'start': '2022-01-22', 'end': None, 'time_zone': None}}, '类型': {'id': 'Tt%3BE', 'type': 'multi_select', 'multi_select': []}, '有啥想说的不': {'id': 'T%7DY%3B', 'type': 'rich_text', 'rich_text': []}, '评分': {'id': 'XQnP', 'type': 'select', 'select': {'id': 'e51217d5-f71e-41dc-be48-0a7582889afa', 'name': '⭐⭐⭐', 'color': 'blue'}}, '封面': {'id': 'tSca', 'type': 'files', 'files': []}, '导演': {'id': 'wV%3AI', 'type': 'multi_select', 'multi_select': []}, '名称': {'id': 'title', 'type': 'title', 'title': [{'type': 'text', 'text': {'content': '敦刻尔克 / Dunkirk', 'link': None}, 'annotations': {'bold': False, 'italic': False, 'strikethrough': False, 'underline': False, 'code': False, 'color': 'default'}, 'plain_text': '敦刻尔克 / Dunkirk', 'href': None}]}}\n",
      "update successiiiii   https://img9.doubanio.com/view/photo/s_ratio_poster/public/p988260245.jpg\n",
      "{'影片链接': {'id': '%3C%3AGD', 'type': 'url', 'url': 'https://img2.doubanio.com/view/photo/s_ratio_poster/public/p2874034153.jpg'}, '观看时间': {'id': 'Nmq%7C', 'type': 'date', 'date': {'start': '2022-01-22', 'end': None, 'time_zone': None}}, '类型': {'id': 'Tt%3BE', 'type': 'multi_select', 'multi_select': []}, '有啥想说的不': {'id': 'T%7DY%3B', 'type': 'rich_text', 'rich_text': []}, '评分': {'id': 'XQnP', 'type': 'select', 'select': {'id': 'e51217d5-f71e-41dc-be48-0a7582889afa', 'name': '⭐⭐⭐', 'color': 'blue'}}, '封面': {'id': 'tSca', 'type': 'files', 'files': []}, '导演': {'id': 'wV%3AI', 'type': 'multi_select', 'multi_select': []}, '名称': {'id': 'title', 'type': 'title', 'title': [{'type': 'text', 'text': {'content': '奇异博士2：疯狂多元宇宙 / Doctor Strange in the Multiverse of ...', 'link': None}, 'annotations': {'bold': False, 'italic': False, 'strikethrough': False, 'underline': False, 'code': False, 'color': 'default'}, 'plain_text': '奇异博士2：疯狂多元宇宙 / Doctor Strange in the Multiverse of ...', 'href': None}]}}\n",
      "update successiiiii   https://img9.doubanio.com/view/photo/s_ratio_poster/public/p988260245.jpg\n",
      "{'影片链接': {'id': '%3C%3AGD', 'type': 'url', 'url': 'https://img2.doubanio.com/view/photo/s_ratio_poster/public/p2876734663.jpg'}, '观看时间': {'id': 'Nmq%7C', 'type': 'date', 'date': {'start': '2022-01-22', 'end': None, 'time_zone': None}}, '类型': {'id': 'Tt%3BE', 'type': 'multi_select', 'multi_select': []}, '有啥想说的不': {'id': 'T%7DY%3B', 'type': 'rich_text', 'rich_text': []}, '评分': {'id': 'XQnP', 'type': 'select', 'select': {'id': 'b48e151e-2257-45a8-a693-a0fde5c4cff1', 'name': '⭐⭐⭐⭐', 'color': 'purple'}}, '封面': {'id': 'tSca', 'type': 'files', 'files': []}, '导演': {'id': 'wV%3AI', 'type': 'multi_select', 'multi_select': []}, '名称': {'id': 'title', 'type': 'title', 'title': [{'type': 'text', 'text': {'content': '明日战记 / 明日戰記', 'link': None}, 'annotations': {'bold': False, 'italic': False, 'strikethrough': False, 'underline': False, 'code': False, 'color': 'default'}, 'plain_text': '明日战记 / 明日戰記', 'href': None}]}}\n",
      "update successiiiii   https://img9.doubanio.com/view/photo/s_ratio_poster/public/p988260245.jpg\n",
      "{'影片链接': {'id': '%3C%3AGD', 'type': 'url', 'url': 'https://img1.doubanio.com/view/photo/s_ratio_poster/public/p2658143548.jpg'}, '观看时间': {'id': 'Nmq%7C', 'type': 'date', 'date': {'start': '2022-01-22', 'end': None, 'time_zone': None}}, '类型': {'id': 'Tt%3BE', 'type': 'multi_select', 'multi_select': []}, '有啥想说的不': {'id': 'T%7DY%3B', 'type': 'rich_text', 'rich_text': []}, '评分': {'id': 'XQnP', 'type': 'select', 'select': {'id': 'b48e151e-2257-45a8-a693-a0fde5c4cff1', 'name': '⭐⭐⭐⭐', 'color': 'purple'}}, '封面': {'id': 'tSca', 'type': 'files', 'files': []}, '导演': {'id': 'wV%3AI', 'type': 'multi_select', 'multi_select': []}, '名称': {'id': 'title', 'type': 'title', 'title': [{'type': 'text', 'text': {'content': '超越', 'link': None}, 'annotations': {'bold': False, 'italic': False, 'strikethrough': False, 'underline': False, 'code': False, 'color': 'default'}, 'plain_text': '超越', 'href': None}]}}\n",
      "update successiiiii   https://img9.doubanio.com/view/photo/s_ratio_poster/public/p988260245.jpg\n",
      "{'影片链接': {'id': '%3C%3AGD', 'type': 'url', 'url': 'https://img1.doubanio.com/view/photo/s_ratio_poster/public/p2665872718.jpg'}, '观看时间': {'id': 'Nmq%7C', 'type': 'date', 'date': {'start': '2022-01-22', 'end': None, 'time_zone': None}}, '类型': {'id': 'Tt%3BE', 'type': 'multi_select', 'multi_select': []}, '有啥想说的不': {'id': 'T%7DY%3B', 'type': 'rich_text', 'rich_text': []}, '评分': {'id': 'XQnP', 'type': 'select', 'select': {'id': 'b48e151e-2257-45a8-a693-a0fde5c4cff1', 'name': '⭐⭐⭐⭐', 'color': 'purple'}}, '封面': {'id': 'tSca', 'type': 'files', 'files': []}, '导演': {'id': 'wV%3AI', 'type': 'multi_select', 'multi_select': []}, '名称': {'id': 'title', 'type': 'title', 'title': [{'type': 'text', 'text': {'content': '黑寡妇 / Black Widow', 'link': None}, 'annotations': {'bold': False, 'italic': False, 'strikethrough': False, 'underline': False, 'code': False, 'color': 'default'}, 'plain_text': '黑寡妇 / Black Widow', 'href': None}]}}\n",
      "update successiiiii   https://img9.doubanio.com/view/photo/s_ratio_poster/public/p988260245.jpg\n",
      "{'影片链接': {'id': '%3C%3AGD', 'type': 'url', 'url': 'https://img1.doubanio.com/view/photo/s_ratio_poster/public/p2621219978.jpg'}, '观看时间': {'id': 'Nmq%7C', 'type': 'date', 'date': {'start': '2022-01-22', 'end': None, 'time_zone': None}}, '类型': {'id': 'Tt%3BE', 'type': 'multi_select', 'multi_select': []}, '有啥想说的不': {'id': 'T%7DY%3B', 'type': 'rich_text', 'rich_text': []}, '评分': {'id': 'XQnP', 'type': 'select', 'select': {'id': 'b48e151e-2257-45a8-a693-a0fde5c4cff1', 'name': '⭐⭐⭐⭐', 'color': 'purple'}}, '封面': {'id': 'tSca', 'type': 'files', 'files': []}, '导演': {'id': 'wV%3AI', 'type': 'multi_select', 'multi_select': []}, '名称': {'id': 'title', 'type': 'title', 'title': [{'type': 'text', 'text': {'content': '姜子牙', 'link': None}, 'annotations': {'bold': False, 'italic': False, 'strikethrough': False, 'underline': False, 'code': False, 'color': 'default'}, 'plain_text': '姜子牙', 'href': None}]}}\n",
      "update successiiiii   https://img9.doubanio.com/view/photo/s_ratio_poster/public/p988260245.jpg\n",
      "{'影片链接': {'id': '%3C%3AGD', 'type': 'url', 'url': 'https://img2.doubanio.com/view/photo/s_ratio_poster/public/p2575305372.jpg'}, '观看时间': {'id': 'Nmq%7C', 'type': 'date', 'date': {'start': '2022-01-22', 'end': None, 'time_zone': None}}, '类型': {'id': 'Tt%3BE', 'type': 'multi_select', 'multi_select': []}, '有啥想说的不': {'id': 'T%7DY%3B', 'type': 'rich_text', 'rich_text': []}, '评分': {'id': 'XQnP', 'type': 'select', 'select': {'id': 'b48e151e-2257-45a8-a693-a0fde5c4cff1', 'name': '⭐⭐⭐⭐', 'color': 'purple'}}, '封面': {'id': 'tSca', 'type': 'files', 'files': []}, '导演': {'id': 'wV%3AI', 'type': 'multi_select', 'multi_select': []}, '名称': {'id': 'title', 'type': 'title', 'title': [{'type': 'text', 'text': {'content': '诸神的黄昏 第一季 / Ragnarok', 'link': None}, 'annotations': {'bold': False, 'italic': False, 'strikethrough': False, 'underline': False, 'code': False, 'color': 'default'}, 'plain_text': '诸神的黄昏 第一季 / Ragnarok', 'href': None}]}}\n",
      "update successiiiii   https://img9.doubanio.com/view/photo/s_ratio_poster/public/p988260245.jpg\n",
      "{'影片链接': {'id': '%3C%3AGD', 'type': 'url', 'url': 'https://movie.douban.com/subject/11620560/'}, '观看时间': {'id': 'Nmq%7C', 'type': 'date', 'date': {'start': '2021-01-21', 'end': None, 'time_zone': None}}, '类型': {'id': 'Tt%3BE', 'type': 'multi_select', 'multi_select': []}, '有啥想说的不': {'id': 'T%7DY%3B', 'type': 'rich_text', 'rich_text': []}, '评分': {'id': 'XQnP', 'type': 'select', 'select': {'id': 'b48e151e-2257-45a8-a693-a0fde5c4cff1', 'name': '⭐⭐⭐⭐', 'color': 'purple'}}, '封面': {'id': 'tSca', 'type': 'files', 'files': [{'name': 'https://img9.doubanio.com/view/photo/s_ratio_poster/public/p2276234635.webp', 'type': 'external', 'external': {'url': 'https://img9.doubanio.com/view/photo/s_ratio_poster/public/p2276234635.webp'}}]}, '导演': {'id': 'wV%3AI', 'type': 'multi_select', 'multi_select': []}, '名称': {'id': 'title', 'type': 'title', 'title': [{'type': 'text', 'text': {'content': '007：幽灵党 / Spectre', 'link': None}, 'annotations': {'bold': False, 'italic': False, 'strikethrough': False, 'underline': False, 'code': False, 'color': 'default'}, 'plain_text': '007：幽灵党 / Spectre', 'href': None}]}}\n",
      "skip\n",
      "{'影片链接': {'id': '%3C%3AGD', 'type': 'url', 'url': 'https://img1.doubanio.com/view/photo/s_ratio_poster/public/p2844387600.jpg'}, '观看时间': {'id': 'Nmq%7C', 'type': 'date', 'date': {'start': '2022-01-22', 'end': None, 'time_zone': None}}, '类型': {'id': 'Tt%3BE', 'type': 'multi_select', 'multi_select': []}, '有啥想说的不': {'id': 'T%7DY%3B', 'type': 'rich_text', 'rich_text': []}, '评分': {'id': 'XQnP', 'type': 'select', 'select': {'id': 'b48e151e-2257-45a8-a693-a0fde5c4cff1', 'name': '⭐⭐⭐⭐', 'color': 'purple'}}, '封面': {'id': 'tSca', 'type': 'files', 'files': []}, '导演': {'id': 'wV%3AI', 'type': 'multi_select', 'multi_select': []}, '名称': {'id': 'title', 'type': 'title', 'title': [{'type': 'text', 'text': {'content': '黑客帝国：矩阵重启 / The Matrix Resurrections', 'link': None}, 'annotations': {'bold': False, 'italic': False, 'strikethrough': False, 'underline': False, 'code': False, 'color': 'default'}, 'plain_text': '黑客帝国：矩阵重启 / The Matrix Resurrections', 'href': None}]}}\n",
      "update successiiiii   https://img9.doubanio.com/view/photo/s_ratio_poster/public/p988260245.jpg\n",
      "{'影片链接': {'id': '%3C%3AGD', 'type': 'url', 'url': 'https://img9.doubanio.com/view/photo/s_ratio_poster/public/p2640236255.jpg'}, '观看时间': {'id': 'Nmq%7C', 'type': 'date', 'date': {'start': '2022-01-22', 'end': None, 'time_zone': None}}, '类型': {'id': 'Tt%3BE', 'type': 'multi_select', 'multi_select': []}, '有啥想说的不': {'id': 'T%7DY%3B', 'type': 'rich_text', 'rich_text': []}, '评分': {'id': 'XQnP', 'type': 'select', 'select': {'id': 'b48e151e-2257-45a8-a693-a0fde5c4cff1', 'name': '⭐⭐⭐⭐', 'color': 'purple'}}, '封面': {'id': 'tSca', 'type': 'files', 'files': []}, '导演': {'id': 'wV%3AI', 'type': 'multi_select', 'multi_select': []}, '名称': {'id': 'title', 'type': 'title', 'title': [{'type': 'text', 'text': {'content': '指环王2：双塔奇兵 / The Lord of the Rings: The Two Towers', 'link': None}, 'annotations': {'bold': False, 'italic': False, 'strikethrough': False, 'underline': False, 'code': False, 'color': 'default'}, 'plain_text': '指环王2：双塔奇兵 / The Lord of the Rings: The Two Towers', 'href': None}]}}\n",
      "update successiiiii   https://img9.doubanio.com/view/photo/s_ratio_poster/public/p988260245.jpg\n",
      "{'影片链接': {'id': '%3C%3AGD', 'type': 'url', 'url': 'https://img2.doubanio.com/view/photo/s_ratio_poster/public/p1870772842.jpg'}, '观看时间': {'id': 'Nmq%7C', 'type': 'date', 'date': {'start': '2022-01-22', 'end': None, 'time_zone': None}}, '类型': {'id': 'Tt%3BE', 'type': 'multi_select', 'multi_select': []}, '有啥想说的不': {'id': 'T%7DY%3B', 'type': 'rich_text', 'rich_text': []}, '评分': {'id': 'XQnP', 'type': 'select', 'select': {'id': 'b48e151e-2257-45a8-a693-a0fde5c4cff1', 'name': '⭐⭐⭐⭐', 'color': 'purple'}}, '封面': {'id': 'tSca', 'type': 'files', 'files': []}, '导演': {'id': 'wV%3AI', 'type': 'multi_select', 'multi_select': []}, '名称': {'id': 'title', 'type': 'title', 'title': [{'type': 'text', 'text': {'content': '遗落战境 / Oblivion', 'link': None}, 'annotations': {'bold': False, 'italic': False, 'strikethrough': False, 'underline': False, 'code': False, 'color': 'default'}, 'plain_text': '遗落战境 / Oblivion', 'href': None}]}}\n",
      "update successiiiii   https://img9.doubanio.com/view/photo/s_ratio_poster/public/p988260245.jpg\n",
      "{'影片链接': {'id': '%3C%3AGD', 'type': 'url', 'url': 'https://img2.doubanio.com/view/photo/s_ratio_poster/public/p2641221021.jpg'}, '观看时间': {'id': 'Nmq%7C', 'type': 'date', 'date': {'start': '2022-01-22', 'end': None, 'time_zone': None}}, '类型': {'id': 'Tt%3BE', 'type': 'multi_select', 'multi_select': []}, '有啥想说的不': {'id': 'T%7DY%3B', 'type': 'rich_text', 'rich_text': []}, '评分': {'id': 'XQnP', 'type': 'select', 'select': {'id': 'b48e151e-2257-45a8-a693-a0fde5c4cff1', 'name': '⭐⭐⭐⭐', 'color': 'purple'}}, '封面': {'id': 'tSca', 'type': 'files', 'files': []}, '导演': {'id': 'wV%3AI', 'type': 'multi_select', 'multi_select': []}, '名称': {'id': 'title', 'type': 'title', 'title': [{'type': 'text', 'text': {'content': '爱，死亡和机器人 第二季 / Love, Death & Robots Season 2', 'link': None}, 'annotations': {'bold': False, 'italic': False, 'strikethrough': False, 'underline': False, 'code': False, 'color': 'default'}, 'plain_text': '爱，死亡和机器人 第二季 / Love, Death & Robots Season 2', 'href': None}]}}\n",
      "update successiiiii   https://img9.doubanio.com/view/photo/s_ratio_poster/public/p988260245.jpg\n",
      "{'影片链接': {'id': '%3C%3AGD', 'type': 'url', 'url': 'https://img2.doubanio.com/view/photo/s_ratio_poster/public/p2621379901.jpg'}, '观看时间': {'id': 'Nmq%7C', 'type': 'date', 'date': {'start': '2022-01-22', 'end': None, 'time_zone': None}}, '类型': {'id': 'Tt%3BE', 'type': 'multi_select', 'multi_select': []}, '有啥想说的不': {'id': 'T%7DY%3B', 'type': 'rich_text', 'rich_text': []}, '评分': {'id': 'XQnP', 'type': 'select', 'select': {'id': 'b48e151e-2257-45a8-a693-a0fde5c4cff1', 'name': '⭐⭐⭐⭐', 'color': 'purple'}}, '封面': {'id': 'tSca', 'type': 'files', 'files': []}, '导演': {'id': 'wV%3AI', 'type': 'multi_select', 'multi_select': []}, '名称': {'id': 'title', 'type': 'title', 'title': [{'type': 'text', 'text': {'content': '拆弹专家2', 'link': None}, 'annotations': {'bold': False, 'italic': False, 'strikethrough': False, 'underline': False, 'code': False, 'color': 'default'}, 'plain_text': '拆弹专家2', 'href': None}]}}\n",
      "update successiiiii   https://img9.doubanio.com/view/photo/s_ratio_poster/public/p988260245.jpg\n",
      "{'影片链接': {'id': '%3C%3AGD', 'type': 'url', 'url': 'https://img2.doubanio.com/view/photo/s_ratio_poster/public/p2601412681.jpg'}, '观看时间': {'id': 'Nmq%7C', 'type': 'date', 'date': {'start': '2022-01-22', 'end': None, 'time_zone': None}}, '类型': {'id': 'Tt%3BE', 'type': 'multi_select', 'multi_select': []}, '有啥想说的不': {'id': 'T%7DY%3B', 'type': 'rich_text', 'rich_text': []}, '评分': {'id': 'XQnP', 'type': 'select', 'select': {'id': 'b48e151e-2257-45a8-a693-a0fde5c4cff1', 'name': '⭐⭐⭐⭐', 'color': 'purple'}}, '封面': {'id': 'tSca', 'type': 'files', 'files': []}, '导演': {'id': 'wV%3AI', 'type': 'multi_select', 'multi_select': []}, '名称': {'id': 'title', 'type': 'title', 'title': [{'type': 'text', 'text': {'content': '太空部队 第一季 / Space Force Season 1', 'link': None}, 'annotations': {'bold': False, 'italic': False, 'strikethrough': False, 'underline': False, 'code': False, 'color': 'default'}, 'plain_text': '太空部队 第一季 / Space Force Season 1', 'href': None}]}}\n",
      "update successiiiii   https://img9.doubanio.com/view/photo/s_ratio_poster/public/p988260245.jpg\n",
      "{'影片链接': {'id': '%3C%3AGD', 'type': 'url', 'url': 'https://www.baidu.com'}, '观看时间': {'id': 'Nmq%7C', 'type': 'date', 'date': {'start': '2022-01-22', 'end': None, 'time_zone': None}}, '类型': {'id': 'Tt%3BE', 'type': 'multi_select', 'multi_select': []}, '有啥想说的不': {'id': 'T%7DY%3B', 'type': 'rich_text', 'rich_text': []}, '评分': {'id': 'XQnP', 'type': 'select', 'select': {'id': 'b48e151e-2257-45a8-a693-a0fde5c4cff1', 'name': '⭐⭐⭐⭐', 'color': 'purple'}}, '封面': {'id': 'tSca', 'type': 'files', 'files': [{'name': 'p2676934276.jpg', 'type': 'external', 'external': {'url': 'https://img9.doubanio.com/view/photo/s_ratio_poster/public/p2676934276.jpg'}}]}, '导演': {'id': 'wV%3AI', 'type': 'multi_select', 'multi_select': []}, '名称': {'id': 'title', 'type': 'title', 'title': [{'type': 'text', 'text': {'content': '混沌行走 / Chaos Walking', 'link': None}, 'annotations': {'bold': False, 'italic': False, 'strikethrough': False, 'underline': False, 'code': False, 'color': 'default'}, 'plain_text': '混沌行走 / Chaos Walking', 'href': None}]}}\n",
      "skip\n",
      "{'影片链接': {'id': '%3C%3AGD', 'type': 'url', 'url': 'https://movie.douban.com/subject/34884712/'}, '观看时间': {'id': 'Nmq%7C', 'type': 'date', 'date': {'start': '2022-01-22', 'end': None, 'time_zone': None}}, '类型': {'id': 'Tt%3BE', 'type': 'multi_select', 'multi_select': []}, '有啥想说的不': {'id': 'T%7DY%3B', 'type': 'rich_text', 'rich_text': []}, '评分': {'id': 'XQnP', 'type': 'select', 'select': {'id': 'b48e151e-2257-45a8-a693-a0fde5c4cff1', 'name': '⭐⭐⭐⭐', 'color': 'purple'}}, '封面': {'id': 'tSca', 'type': 'files', 'files': [{'name': 'https://img2.doubanio.com/view/photo/s_ratio_poster/public/p2730833093.webp', 'type': 'external', 'external': {'url': 'https://img2.doubanio.com/view/photo/s_ratio_poster/public/p2730833093.webp'}}]}, '导演': {'id': 'wV%3AI', 'type': 'multi_select', 'multi_select': []}, '名称': {'id': 'title', 'type': 'title', 'title': [{'type': 'text', 'text': {'content': \"不要抬头 / Don't Look Up\", 'link': None}, 'annotations': {'bold': False, 'italic': False, 'strikethrough': False, 'underline': False, 'code': False, 'color': 'default'}, 'plain_text': \"不要抬头 / Don't Look Up\", 'href': None}]}}\n",
      "skip\n",
      "{'影片链接': {'id': '%3C%3AGD', 'type': 'url', 'url': 'https://www.baidu.com'}, '观看时间': {'id': 'Nmq%7C', 'type': 'date', 'date': {'start': '2022-01-22', 'end': None, 'time_zone': None}}, '类型': {'id': 'Tt%3BE', 'type': 'multi_select', 'multi_select': []}, '有啥想说的不': {'id': 'T%7DY%3B', 'type': 'rich_text', 'rich_text': []}, '评分': {'id': 'XQnP', 'type': 'select', 'select': {'id': 'b48e151e-2257-45a8-a693-a0fde5c4cff1', 'name': '⭐⭐⭐⭐', 'color': 'purple'}}, '封面': {'id': 'tSca', 'type': 'files', 'files': [{'name': 'p2710265641.jpg', 'type': 'external', 'external': {'url': 'https://img2.doubanio.com/view/photo/s_ratio_poster/public/p2710265641.jpg'}}]}, '导演': {'id': 'wV%3AI', 'type': 'multi_select', 'multi_select': []}, '名称': {'id': 'title', 'type': 'title', 'title': [{'type': 'text', 'text': {'content': '猎魔人 第二季 / The Witcher Season 2', 'link': None}, 'annotations': {'bold': False, 'italic': False, 'strikethrough': False, 'underline': False, 'code': False, 'color': 'default'}, 'plain_text': '猎魔人 第二季 / The Witcher Season 2', 'href': None}]}}\n",
      "skip\n",
      "{'影片链接': {'id': '%3C%3AGD', 'type': 'url', 'url': 'https://www.baidu.com'}, '观看时间': {'id': 'Nmq%7C', 'type': 'date', 'date': {'start': '2022-01-22', 'end': None, 'time_zone': None}}, '类型': {'id': 'Tt%3BE', 'type': 'multi_select', 'multi_select': []}, '有啥想说的不': {'id': 'T%7DY%3B', 'type': 'rich_text', 'rich_text': []}, '评分': {'id': 'XQnP', 'type': 'select', 'select': {'id': 'b48e151e-2257-45a8-a693-a0fde5c4cff1', 'name': '⭐⭐⭐⭐', 'color': 'purple'}}, '封面': {'id': 'tSca', 'type': 'files', 'files': [{'name': 'p2869751944.jpg', 'type': 'external', 'external': {'url': 'https://img9.doubanio.com/view/photo/s_ratio_poster/public/p2869751944.jpg'}}]}, '导演': {'id': 'wV%3AI', 'type': 'multi_select', 'multi_select': []}, '名称': {'id': 'title', 'type': 'title', 'title': [{'type': 'text', 'text': {'content': '神秘海域 / Uncharted', 'link': None}, 'annotations': {'bold': False, 'italic': False, 'strikethrough': False, 'underline': False, 'code': False, 'color': 'default'}, 'plain_text': '神秘海域 / Uncharted', 'href': None}]}}\n",
      "skip\n",
      "{'影片链接': {'id': '%3C%3AGD', 'type': 'url', 'url': 'https://www.baidu.com'}, '观看时间': {'id': 'Nmq%7C', 'type': 'date', 'date': {'start': '2022-01-22', 'end': None, 'time_zone': None}}, '类型': {'id': 'Tt%3BE', 'type': 'multi_select', 'multi_select': []}, '有啥想说的不': {'id': 'T%7DY%3B', 'type': 'rich_text', 'rich_text': []}, '评分': {'id': 'XQnP', 'type': 'select', 'select': {'id': 'b48e151e-2257-45a8-a693-a0fde5c4cff1', 'name': '⭐⭐⭐⭐', 'color': 'purple'}}, '封面': {'id': 'tSca', 'type': 'files', 'files': [{'name': 'p2634745654.jpg', 'type': 'external', 'external': {'url': 'https://img9.doubanio.com/view/photo/s_ratio_poster/public/p2634745654.jpg'}}]}, '导演': {'id': 'wV%3AI', 'type': 'multi_select', 'multi_select': []}, '名称': {'id': 'title', 'type': 'title', 'title': [{'type': 'text', 'text': {'content': '哥斯拉大战金刚 / Godzilla vs Kong', 'link': None}, 'annotations': {'bold': False, 'italic': False, 'strikethrough': False, 'underline': False, 'code': False, 'color': 'default'}, 'plain_text': '哥斯拉大战金刚 / Godzilla vs Kong', 'href': None}]}}\n",
      "skip\n",
      "{'影片链接': {'id': '%3C%3AGD', 'type': 'url', 'url': 'https://www.baidu.com'}, '观看时间': {'id': 'Nmq%7C', 'type': 'date', 'date': {'start': '2022-01-22', 'end': None, 'time_zone': None}}, '类型': {'id': 'Tt%3BE', 'type': 'multi_select', 'multi_select': []}, '有啥想说的不': {'id': 'T%7DY%3B', 'type': 'rich_text', 'rich_text': []}, '评分': {'id': 'XQnP', 'type': 'select', 'select': {'id': 'b48e151e-2257-45a8-a693-a0fde5c4cff1', 'name': '⭐⭐⭐⭐', 'color': 'purple'}}, '封面': {'id': 'tSca', 'type': 'files', 'files': [{'name': 'p2846021991.jpg', 'type': 'external', 'external': {'url': 'https://img2.doubanio.com/view/photo/s_ratio_poster/public/p2846021991.jpg'}}]}, '导演': {'id': 'wV%3AI', 'type': 'multi_select', 'multi_select': []}, '名称': {'id': 'title', 'type': 'title', 'title': [{'type': 'text', 'text': {'content': '长津湖之水门桥', 'link': None}, 'annotations': {'bold': False, 'italic': False, 'strikethrough': False, 'underline': False, 'code': False, 'color': 'default'}, 'plain_text': '长津湖之水门桥', 'href': None}]}}\n",
      "skip\n",
      "{'影片链接': {'id': '%3C%3AGD', 'type': 'url', 'url': 'https://www.baidu.com'}, '观看时间': {'id': 'Nmq%7C', 'type': 'date', 'date': {'start': '2022-01-22', 'end': None, 'time_zone': None}}, '类型': {'id': 'Tt%3BE', 'type': 'multi_select', 'multi_select': []}, '有啥想说的不': {'id': 'T%7DY%3B', 'type': 'rich_text', 'rich_text': []}, '评分': {'id': 'XQnP', 'type': 'select', 'select': {'id': 'b48e151e-2257-45a8-a693-a0fde5c4cff1', 'name': '⭐⭐⭐⭐', 'color': 'purple'}}, '封面': {'id': 'tSca', 'type': 'files', 'files': [{'name': 'p2638968571.jpg', 'type': 'external', 'external': {'url': 'https://img2.doubanio.com/view/photo/s_ratio_poster/public/p2638968571.jpg'}}]}, '导演': {'id': 'wV%3AI', 'type': 'multi_select', 'multi_select': []}, '名称': {'id': 'title', 'type': 'title', 'title': [{'type': 'text', 'text': {'content': '名侦探柯南：绯色的子弹 / 名探偵コナン 緋色の弾丸', 'link': None}, 'annotations': {'bold': False, 'italic': False, 'strikethrough': False, 'underline': False, 'code': False, 'color': 'default'}, 'plain_text': '名侦探柯南：绯色的子弹 / 名探偵コナン 緋色の弾丸', 'href': None}]}}\n",
      "skip\n",
      "{'影片链接': {'id': '%3C%3AGD', 'type': 'url', 'url': 'https://www.baidu.com'}, '观看时间': {'id': 'Nmq%7C', 'type': 'date', 'date': {'start': '2022-01-22', 'end': None, 'time_zone': None}}, '类型': {'id': 'Tt%3BE', 'type': 'multi_select', 'multi_select': []}, '有啥想说的不': {'id': 'T%7DY%3B', 'type': 'rich_text', 'rich_text': []}, '评分': {'id': 'XQnP', 'type': 'select', 'select': {'id': 'b48e151e-2257-45a8-a693-a0fde5c4cff1', 'name': '⭐⭐⭐⭐', 'color': 'purple'}}, '封面': {'id': 'tSca', 'type': 'files', 'files': [{'name': 'p2677963424.jpg', 'type': 'external', 'external': {'url': 'https://img9.doubanio.com/view/photo/s_ratio_poster/public/p2677963424.jpg'}}]}, '导演': {'id': 'wV%3AI', 'type': 'multi_select', 'multi_select': []}, '名称': {'id': 'title', 'type': 'title', 'title': [{'type': 'text', 'text': {'content': '性爱自修室 第三季 / Sex Education Season 3', 'link': None}, 'annotations': {'bold': False, 'italic': False, 'strikethrough': False, 'underline': False, 'code': False, 'color': 'default'}, 'plain_text': '性爱自修室 第三季 / Sex Education Season 3', 'href': None}]}}\n",
      "skip\n",
      "{'影片链接': {'id': '%3C%3AGD', 'type': 'url', 'url': 'https://www.baidu.com'}, '观看时间': {'id': 'Nmq%7C', 'type': 'date', 'date': {'start': '2022-01-22', 'end': None, 'time_zone': None}}, '类型': {'id': 'Tt%3BE', 'type': 'multi_select', 'multi_select': []}, '有啥想说的不': {'id': 'T%7DY%3B', 'type': 'rich_text', 'rich_text': []}, '评分': {'id': 'XQnP', 'type': 'select', 'select': {'id': 'b48e151e-2257-45a8-a693-a0fde5c4cff1', 'name': '⭐⭐⭐⭐', 'color': 'purple'}}, '封面': {'id': 'tSca', 'type': 'files', 'files': [{'name': 'p2678875868.jpg', 'type': 'external', 'external': {'url': 'https://img1.doubanio.com/view/photo/s_ratio_poster/public/p2678875868.jpg'}}]}, '导演': {'id': 'wV%3AI', 'type': 'multi_select', 'multi_select': []}, '名称': {'id': 'title', 'type': 'title', 'title': [{'type': 'text', 'text': {'content': '明日之战 / The Tomorrow War', 'link': None}, 'annotations': {'bold': False, 'italic': False, 'strikethrough': False, 'underline': False, 'code': False, 'color': 'default'}, 'plain_text': '明日之战 / The Tomorrow War', 'href': None}]}}\n",
      "skip\n",
      "{'影片链接': {'id': '%3C%3AGD', 'type': 'url', 'url': 'https://www.baidu.com'}, '观看时间': {'id': 'Nmq%7C', 'type': 'date', 'date': {'start': '2022-01-22', 'end': None, 'time_zone': None}}, '类型': {'id': 'Tt%3BE', 'type': 'multi_select', 'multi_select': []}, '有啥想说的不': {'id': 'T%7DY%3B', 'type': 'rich_text', 'rich_text': []}, '评分': {'id': 'XQnP', 'type': 'select', 'select': {'id': 'b48e151e-2257-45a8-a693-a0fde5c4cff1', 'name': '⭐⭐⭐⭐', 'color': 'purple'}}, '封面': {'id': 'tSca', 'type': 'files', 'files': [{'name': 'p2219011938.jpg', 'type': 'external', 'external': {'url': 'https://img1.doubanio.com/view/photo/s_ratio_poster/public/p2219011938.jpg'}}]}, '导演': {'id': 'wV%3AI', 'type': 'multi_select', 'multi_select': []}, '名称': {'id': 'title', 'type': 'title', 'title': [{'type': 'text', 'text': {'content': '功夫', 'link': None}, 'annotations': {'bold': False, 'italic': False, 'strikethrough': False, 'underline': False, 'code': False, 'color': 'default'}, 'plain_text': '功夫', 'href': None}]}}\n",
      "skip\n",
      "{'影片链接': {'id': '%3C%3AGD', 'type': 'url', 'url': 'https://movie.douban.com/subject/1946882/'}, '观看时间': {'id': 'Nmq%7C', 'type': 'date', 'date': {'start': '2021-01-22', 'end': None, 'time_zone': None}}, '类型': {'id': 'Tt%3BE', 'type': 'multi_select', 'multi_select': [{'id': '8a9ceabb-ea63-4a5d-8f97-333135300f49', 'name': '动作', 'color': 'brown'}, {'id': '47d13565-05db-494a-98cf-ebbee68fd43a', 'name': '惊悚', 'color': 'blue'}, {'id': '007e73cc-cabc-4893-af6f-efcbc2358d43', 'name': '冒险', 'color': 'orange'}]}, '有啥想说的不': {'id': 'T%7DY%3B', 'type': 'rich_text', 'rich_text': []}, '评分': {'id': 'XQnP', 'type': 'select', 'select': {'id': 'b48e151e-2257-45a8-a693-a0fde5c4cff1', 'name': '⭐⭐⭐⭐', 'color': 'purple'}}, '封面': {'id': 'tSca', 'type': 'files', 'files': [{'name': 'https://img2.doubanio.com/view/photo/s_ratio_poster/public/p1765998673.webp', 'type': 'external', 'external': {'url': 'https://img2.doubanio.com/view/photo/s_ratio_poster/public/p1765998673.webp'}}]}, '导演': {'id': 'wV%3AI', 'type': 'multi_select', 'multi_select': []}, '名称': {'id': 'title', 'type': 'title', 'title': [{'type': 'text', 'text': {'content': '007：大破量子危机 / Quantum of Solace', 'link': None}, 'annotations': {'bold': False, 'italic': False, 'strikethrough': False, 'underline': False, 'code': False, 'color': 'default'}, 'plain_text': '007：大破量子危机 / Quantum of Solace', 'href': None}]}}\n",
      "skip\n",
      "{'影片链接': {'id': '%3C%3AGD', 'type': 'url', 'url': 'https://www.baidu.com'}, '观看时间': {'id': 'Nmq%7C', 'type': 'date', 'date': {'start': '2022-01-22', 'end': None, 'time_zone': None}}, '类型': {'id': 'Tt%3BE', 'type': 'multi_select', 'multi_select': []}, '有啥想说的不': {'id': 'T%7DY%3B', 'type': 'rich_text', 'rich_text': []}, '评分': {'id': 'XQnP', 'type': 'select', 'select': {'id': 'b48e151e-2257-45a8-a693-a0fde5c4cff1', 'name': '⭐⭐⭐⭐', 'color': 'purple'}}, '封面': {'id': 'tSca', 'type': 'files', 'files': [{'name': 'p2230256732.jpg', 'type': 'external', 'external': {'url': 'https://img2.doubanio.com/view/photo/s_ratio_poster/public/p2230256732.jpg'}}]}, '导演': {'id': 'wV%3AI', 'type': 'multi_select', 'multi_select': []}, '名称': {'id': 'title', 'type': 'title', 'title': [{'type': 'text', 'text': {'content': '权力的游戏 第五季 / Game of Thrones Season 5', 'link': None}, 'annotations': {'bold': False, 'italic': False, 'strikethrough': False, 'underline': False, 'code': False, 'color': 'default'}, 'plain_text': '权力的游戏 第五季 / Game of Thrones Season 5', 'href': None}]}}\n",
      "skip\n",
      "{'影片链接': {'id': '%3C%3AGD', 'type': 'url', 'url': 'https://www.baidu.com'}, '观看时间': {'id': 'Nmq%7C', 'type': 'date', 'date': {'start': '2022-01-22', 'end': None, 'time_zone': None}}, '类型': {'id': 'Tt%3BE', 'type': 'multi_select', 'multi_select': []}, '有啥想说的不': {'id': 'T%7DY%3B', 'type': 'rich_text', 'rich_text': []}, '评分': {'id': 'XQnP', 'type': 'select', 'select': {'id': 'b48e151e-2257-45a8-a693-a0fde5c4cff1', 'name': '⭐⭐⭐⭐', 'color': 'purple'}}, '封面': {'id': 'tSca', 'type': 'files', 'files': [{'name': 'p2674321872.jpg', 'type': 'external', 'external': {'url': 'https://img2.doubanio.com/view/photo/s_ratio_poster/public/p2674321872.jpg'}}]}, '导演': {'id': 'wV%3AI', 'type': 'multi_select', 'multi_select': []}, '名称': {'id': 'title', 'type': 'title', 'title': [{'type': 'text', 'text': {'content': '尚气与十环传奇 / Shang-Chi and the Legend of the Ten Rings', 'link': None}, 'annotations': {'bold': False, 'italic': False, 'strikethrough': False, 'underline': False, 'code': False, 'color': 'default'}, 'plain_text': '尚气与十环传奇 / Shang-Chi and the Legend of the Ten Rings', 'href': None}]}}\n",
      "skip\n",
      "{'影片链接': {'id': '%3C%3AGD', 'type': 'url', 'url': 'https://www.baidu.com'}, '观看时间': {'id': 'Nmq%7C', 'type': 'date', 'date': {'start': '2022-01-22', 'end': None, 'time_zone': None}}, '类型': {'id': 'Tt%3BE', 'type': 'multi_select', 'multi_select': []}, '有啥想说的不': {'id': 'T%7DY%3B', 'type': 'rich_text', 'rich_text': []}, '评分': {'id': 'XQnP', 'type': 'select', 'select': {'id': 'b48e151e-2257-45a8-a693-a0fde5c4cff1', 'name': '⭐⭐⭐⭐', 'color': 'purple'}}, '封面': {'id': 'tSca', 'type': 'files', 'files': [{'name': 'p2302930556.jpg', 'type': 'external', 'external': {'url': 'https://img9.doubanio.com/view/photo/s_ratio_poster/public/p2302930556.jpg'}}]}, '导演': {'id': 'wV%3AI', 'type': 'multi_select', 'multi_select': []}, '名称': {'id': 'title', 'type': 'title', 'title': [{'type': 'text', 'text': {'content': '唐人街探案', 'link': None}, 'annotations': {'bold': False, 'italic': False, 'strikethrough': False, 'underline': False, 'code': False, 'color': 'default'}, 'plain_text': '唐人街探案', 'href': None}]}}\n",
      "skip\n",
      "{'影片链接': {'id': '%3C%3AGD', 'type': 'url', 'url': 'https://www.baidu.com'}, '观看时间': {'id': 'Nmq%7C', 'type': 'date', 'date': {'start': '2022-01-22', 'end': None, 'time_zone': None}}, '类型': {'id': 'Tt%3BE', 'type': 'multi_select', 'multi_select': []}, '有啥想说的不': {'id': 'T%7DY%3B', 'type': 'rich_text', 'rich_text': []}, '评分': {'id': 'XQnP', 'type': 'select', 'select': {'id': 'b48e151e-2257-45a8-a693-a0fde5c4cff1', 'name': '⭐⭐⭐⭐', 'color': 'purple'}}, '封面': {'id': 'tSca', 'type': 'files', 'files': [{'name': 'p2869765076.jpg', 'type': 'external', 'external': {'url': 'https://img9.doubanio.com/view/photo/s_ratio_poster/public/p2869765076.jpg'}}]}, '导演': {'id': 'wV%3AI', 'type': 'multi_select', 'multi_select': []}, '名称': {'id': 'title', 'type': 'title', 'title': [{'type': 'text', 'text': {'content': '瞬息全宇宙 / Everything Everywhere All at Once', 'link': None}, 'annotations': {'bold': False, 'italic': False, 'strikethrough': False, 'underline': False, 'code': False, 'color': 'default'}, 'plain_text': '瞬息全宇宙 / Everything Everywhere All at Once', 'href': None}]}}\n",
      "skip\n",
      "{'影片链接': {'id': '%3C%3AGD', 'type': 'url', 'url': 'https://www.baidu.com'}, '观看时间': {'id': 'Nmq%7C', 'type': 'date', 'date': {'start': '2022-01-22', 'end': None, 'time_zone': None}}, '类型': {'id': 'Tt%3BE', 'type': 'multi_select', 'multi_select': []}, '有啥想说的不': {'id': 'T%7DY%3B', 'type': 'rich_text', 'rich_text': []}, '评分': {'id': 'XQnP', 'type': 'select', 'select': {'id': '2c9d26ec-27d1-4b72-a582-66270111f7e4', 'name': '⭐⭐⭐⭐⭐', 'color': 'pink'}}, '封面': {'id': 'tSca', 'type': 'files', 'files': [{'name': 'p453938430.jpg', 'type': 'external', 'external': {'url': 'https://img1.doubanio.com/view/photo/s_ratio_poster/public/p453938430.jpg'}}]}, '导演': {'id': 'wV%3AI', 'type': 'multi_select', 'multi_select': []}, '名称': {'id': 'title', 'type': 'title', 'title': [{'type': 'text', 'text': {'content': '达·芬奇密码 / The Da Vinci Code', 'link': None}, 'annotations': {'bold': False, 'italic': False, 'strikethrough': False, 'underline': False, 'code': False, 'color': 'default'}, 'plain_text': '达·芬奇密码 / The Da Vinci Code', 'href': None}]}}\n",
      "skip\n",
      "{'影片链接': {'id': '%3C%3AGD', 'type': 'url', 'url': 'https://movie.douban.com/subject/20276229/'}, '观看时间': {'id': 'Nmq%7C', 'type': 'date', 'date': {'start': '2021-10-30', 'end': None, 'time_zone': None}}, '类型': {'id': 'Tt%3BE', 'type': 'multi_select', 'multi_select': []}, '有啥想说的不': {'id': 'T%7DY%3B', 'type': 'rich_text', 'rich_text': []}, '评分': {'id': 'XQnP', 'type': 'select', 'select': {'id': '2c9d26ec-27d1-4b72-a582-66270111f7e4', 'name': '⭐⭐⭐⭐⭐', 'color': 'pink'}}, '封面': {'id': 'tSca', 'type': 'files', 'files': [{'name': 'https://img9.doubanio.com/view/photo/s_ratio_poster/public/p2707553644.webp', 'type': 'external', 'external': {'url': 'https://img9.doubanio.com/view/photo/s_ratio_poster/public/p2707553644.webp'}}]}, '导演': {'id': 'wV%3AI', 'type': 'multi_select', 'multi_select': []}, '名称': {'id': 'title', 'type': 'title', 'title': [{'type': 'text', 'text': {'content': '007：无暇赴死 / No Time to Die', 'link': None}, 'annotations': {'bold': False, 'italic': False, 'strikethrough': False, 'underline': False, 'code': False, 'color': 'default'}, 'plain_text': '007：无暇赴死 / No Time to Die', 'href': None}]}}\n",
      "skip\n"
     ]
    }
   ],
   "source": [
    "import time\n",
    "from notion_database.properties import Properties\n",
    "\n",
    "for i in firms:\n",
    "    # print(i)\n",
    "\n",
    "    P.retrieve_page(page_id=i[\"id\"])\n",
    "    url = P.result[\"properties\"][\"影片链接\"][\"url\"]\n",
    "    print(P.result[\"properties\"])\n",
    "    time.sleep(2)\n",
    "    if len(P.result[\"properties\"][\"封面\"][\"files\"]) == 0 and url:\n",
    "        if \".jpg\" in url or \"baidu\" in url:\n",
    "            # cover = download_picture(url)\n",
    "            # print(cover)\n",
    "            PROPERTY = Properties()\n",
    "            PROPERTY.set_files(\"封面\", files_list=[url])\n",
    "            PROPERTY.set_url(\"影片链接\", text=\"https://www.baidu.com\")\n",
    "            P.update_page(page_id=i[\"id\"], properties=PROPERTY)\n",
    "            print(\"update successiiiii   \" + cover)\n",
    "        else:\n",
    "            cover = download_picture(url)\n",
    "            if cover != \"\":\n",
    "                PROPERTY = Properties()\n",
    "                PROPERTY.set_files(\"封面\", files_list=[cover])\n",
    "                P.update_page(page_id=i[\"id\"], properties=PROPERTY)\n",
    "                print(\"update success   \" + cover)\n",
    "    else:\n",
    "        print(\"skip\")\n"
   ]
  },
  {
   "cell_type": "code",
   "execution_count": 1,
   "metadata": {
    "ExecuteTime": {
     "end_time": "2023-07-06T14:16:06.305182Z",
     "start_time": "2023-07-06T14:16:05.690560Z"
    }
   },
   "outputs": [],
   "source": [
    "#\n",
    "import pandas as pd"
   ]
  },
  {
   "cell_type": "code",
   "execution_count": 9,
   "metadata": {
    "ExecuteTime": {
     "end_time": "2023-07-06T14:21:42.540380Z",
     "start_time": "2023-07-06T14:21:42.497702Z"
    },
    "collapsed": false
   },
   "outputs": [
    {
     "data": {
      "text/html": [
       "<div>\n",
       "<style scoped>\n",
       "    .dataframe tbody tr th:only-of-type {\n",
       "        vertical-align: middle;\n",
       "    }\n",
       "\n",
       "    .dataframe tbody tr th {\n",
       "        vertical-align: top;\n",
       "    }\n",
       "\n",
       "    .dataframe thead th {\n",
       "        text-align: right;\n",
       "    }\n",
       "</style>\n",
       "<table border=\"1\" class=\"dataframe\">\n",
       "  <thead>\n",
       "    <tr style=\"text-align: right;\">\n",
       "      <th></th>\n",
       "      <th>标题</th>\n",
       "      <th>简介</th>\n",
       "      <th>豆瓣评分</th>\n",
       "      <th>链接</th>\n",
       "      <th>创建时间</th>\n",
       "      <th>我的评分</th>\n",
       "      <th>标签</th>\n",
       "      <th>评论</th>\n",
       "      <th>可见性</th>\n",
       "    </tr>\n",
       "  </thead>\n",
       "  <tbody>\n",
       "    <tr>\n",
       "      <th>0</th>\n",
       "      <td>我们的星球 第二季</td>\n",
       "      <td>2023 / 英国 美国 / 纪录片 / 大卫·爱登堡</td>\n",
       "      <td>8.8</td>\n",
       "      <td>https://movie.douban.com/subject/36148957/</td>\n",
       "      <td>2023-07-03 22:46:59</td>\n",
       "      <td>5.0</td>\n",
       "      <td>NaN</td>\n",
       "      <td>NaN</td>\n",
       "      <td>public</td>\n",
       "    </tr>\n",
       "    <tr>\n",
       "      <th>1</th>\n",
       "      <td>惊天营救2</td>\n",
       "      <td>2023 / 美国 / 动作 惊悚 / 山姆·哈格雷夫 / 克里斯·海姆斯沃斯 格什菲·法拉哈尼</td>\n",
       "      <td>7.5</td>\n",
       "      <td>https://movie.douban.com/subject/35056376/</td>\n",
       "      <td>2023-06-21 22:55:32</td>\n",
       "      <td>4.0</td>\n",
       "      <td>NaN</td>\n",
       "      <td>NaN</td>\n",
       "      <td>public</td>\n",
       "    </tr>\n",
       "    <tr>\n",
       "      <th>2</th>\n",
       "      <td>银河护卫队3</td>\n",
       "      <td>2023 / 美国 / 喜剧 动作 科幻 惊悚 冒险 / 詹姆斯·古恩 / 克里斯·帕拉特 ...</td>\n",
       "      <td>8.5</td>\n",
       "      <td>https://movie.douban.com/subject/26258779/</td>\n",
       "      <td>2023-05-07 21:37:44</td>\n",
       "      <td>5.0</td>\n",
       "      <td>NaN</td>\n",
       "      <td>NaN</td>\n",
       "      <td>public</td>\n",
       "    </tr>\n",
       "    <tr>\n",
       "      <th>3</th>\n",
       "      <td>名侦探柯南：贝克街的亡灵</td>\n",
       "      <td>2002 / 日本 / 动画 悬疑 冒险 / 儿玉兼嗣 / 高山南 山崎和佳奈</td>\n",
       "      <td>8.8</td>\n",
       "      <td>https://movie.douban.com/subject/2286642/</td>\n",
       "      <td>2023-04-22 20:19:27</td>\n",
       "      <td>5.0</td>\n",
       "      <td>NaN</td>\n",
       "      <td>NaN</td>\n",
       "      <td>public</td>\n",
       "    </tr>\n",
       "    <tr>\n",
       "      <th>4</th>\n",
       "      <td>最后生还者 第一季</td>\n",
       "      <td>2023 / 美国 加拿大 / 剧情 动作 科幻 惊悚 恐怖 冒险 / 克雷格·麦辛 尼尔·...</td>\n",
       "      <td>9.1</td>\n",
       "      <td>https://movie.douban.com/subject/25848328/</td>\n",
       "      <td>2023-04-19 23:36:28</td>\n",
       "      <td>5.0</td>\n",
       "      <td>NaN</td>\n",
       "      <td>NaN</td>\n",
       "      <td>public</td>\n",
       "    </tr>\n",
       "    <tr>\n",
       "      <th>...</th>\n",
       "      <td>...</td>\n",
       "      <td>...</td>\n",
       "      <td>...</td>\n",
       "      <td>...</td>\n",
       "      <td>...</td>\n",
       "      <td>...</td>\n",
       "      <td>...</td>\n",
       "      <td>...</td>\n",
       "      <td>...</td>\n",
       "    </tr>\n",
       "    <tr>\n",
       "      <th>259</th>\n",
       "      <td>蜘蛛侠：英雄远征</td>\n",
       "      <td>2019 / 美国 / 动作 科幻 冒险 / 乔·沃茨 / 汤姆·赫兰德 赞达亚</td>\n",
       "      <td>7.6</td>\n",
       "      <td>https://movie.douban.com/subject/26931786/</td>\n",
       "      <td>2021-01-21 23:52:59</td>\n",
       "      <td>NaN</td>\n",
       "      <td>NaN</td>\n",
       "      <td>NaN</td>\n",
       "      <td>public</td>\n",
       "    </tr>\n",
       "    <tr>\n",
       "      <th>260</th>\n",
       "      <td>狮子王</td>\n",
       "      <td>2019 / 美国 / 剧情 动画 冒险 / 乔恩·费儒 / 唐纳德·格洛弗 阿尔法·伍达德</td>\n",
       "      <td>7.2</td>\n",
       "      <td>https://movie.douban.com/subject/26884354/</td>\n",
       "      <td>2021-01-21 23:52:57</td>\n",
       "      <td>NaN</td>\n",
       "      <td>NaN</td>\n",
       "      <td>NaN</td>\n",
       "      <td>public</td>\n",
       "    </tr>\n",
       "    <tr>\n",
       "      <th>261</th>\n",
       "      <td>复仇者联盟4：终局之战</td>\n",
       "      <td>2019 / 美国 / 剧情 动作 科幻 奇幻 冒险 / 安东尼·罗素 乔·罗素 / 小罗伯...</td>\n",
       "      <td>8.5</td>\n",
       "      <td>https://movie.douban.com/subject/26100958/</td>\n",
       "      <td>2021-01-21 23:52:55</td>\n",
       "      <td>5.0</td>\n",
       "      <td>NaN</td>\n",
       "      <td>NaN</td>\n",
       "      <td>public</td>\n",
       "    </tr>\n",
       "    <tr>\n",
       "      <th>262</th>\n",
       "      <td>姜子牙</td>\n",
       "      <td>2020 / 中国大陆 / 剧情 动画 奇幻 / 程腾 李炜 / 郑希 杨凝</td>\n",
       "      <td>6.6</td>\n",
       "      <td>https://movie.douban.com/subject/25907124/</td>\n",
       "      <td>2021-01-21 23:48:54</td>\n",
       "      <td>4.0</td>\n",
       "      <td>NaN</td>\n",
       "      <td>NaN</td>\n",
       "      <td>public</td>\n",
       "    </tr>\n",
       "    <tr>\n",
       "      <th>263</th>\n",
       "      <td>信条</td>\n",
       "      <td>2020 / 美国 英国 / 剧情 动作 科幻 / 克里斯托弗·诺兰 / 约翰·大卫·华盛顿...</td>\n",
       "      <td>7.6</td>\n",
       "      <td>https://movie.douban.com/subject/30444960/</td>\n",
       "      <td>2021-01-21 23:48:33</td>\n",
       "      <td>3.0</td>\n",
       "      <td>NaN</td>\n",
       "      <td>NaN</td>\n",
       "      <td>public</td>\n",
       "    </tr>\n",
       "  </tbody>\n",
       "</table>\n",
       "<p>264 rows × 9 columns</p>\n",
       "</div>"
      ],
      "text/plain": [
       "               标题                                                 简介  豆瓣评分   \n",
       "0       我们的星球 第二季                        2023 / 英国 美国 / 纪录片 / 大卫·爱登堡   8.8  \\\n",
       "1           惊天营救2   2023 / 美国 / 动作 惊悚 / 山姆·哈格雷夫 / 克里斯·海姆斯沃斯 格什菲·法拉哈尼   7.5   \n",
       "2          银河护卫队3  2023 / 美国 / 喜剧 动作 科幻 惊悚 冒险 / 詹姆斯·古恩 / 克里斯·帕拉特 ...   8.5   \n",
       "3    名侦探柯南：贝克街的亡灵            2002 / 日本 / 动画 悬疑 冒险 / 儿玉兼嗣 / 高山南 山崎和佳奈   8.8   \n",
       "4       最后生还者 第一季  2023 / 美国 加拿大 / 剧情 动作 科幻 惊悚 恐怖 冒险 / 克雷格·麦辛 尼尔·...   9.1   \n",
       "..            ...                                                ...   ...   \n",
       "259      蜘蛛侠：英雄远征           2019 / 美国 / 动作 科幻 冒险 / 乔·沃茨 / 汤姆·赫兰德 赞达亚   7.6   \n",
       "260           狮子王     2019 / 美国 / 剧情 动画 冒险 / 乔恩·费儒 / 唐纳德·格洛弗 阿尔法·伍达德   7.2   \n",
       "261   复仇者联盟4：终局之战  2019 / 美国 / 剧情 动作 科幻 奇幻 冒险 / 安东尼·罗素 乔·罗素 / 小罗伯...   8.5   \n",
       "262           姜子牙             2020 / 中国大陆 / 剧情 动画 奇幻 / 程腾 李炜 / 郑希 杨凝   6.6   \n",
       "263            信条  2020 / 美国 英国 / 剧情 动作 科幻 / 克里斯托弗·诺兰 / 约翰·大卫·华盛顿...   7.6   \n",
       "\n",
       "                                             链接                 创建时间  我的评分   \n",
       "0    https://movie.douban.com/subject/36148957/  2023-07-03 22:46:59   5.0  \\\n",
       "1    https://movie.douban.com/subject/35056376/  2023-06-21 22:55:32   4.0   \n",
       "2    https://movie.douban.com/subject/26258779/  2023-05-07 21:37:44   5.0   \n",
       "3     https://movie.douban.com/subject/2286642/  2023-04-22 20:19:27   5.0   \n",
       "4    https://movie.douban.com/subject/25848328/  2023-04-19 23:36:28   5.0   \n",
       "..                                          ...                  ...   ...   \n",
       "259  https://movie.douban.com/subject/26931786/  2021-01-21 23:52:59   NaN   \n",
       "260  https://movie.douban.com/subject/26884354/  2021-01-21 23:52:57   NaN   \n",
       "261  https://movie.douban.com/subject/26100958/  2021-01-21 23:52:55   5.0   \n",
       "262  https://movie.douban.com/subject/25907124/  2021-01-21 23:48:54   4.0   \n",
       "263  https://movie.douban.com/subject/30444960/  2021-01-21 23:48:33   3.0   \n",
       "\n",
       "      标签  评论     可见性  \n",
       "0    NaN NaN  public  \n",
       "1    NaN NaN  public  \n",
       "2    NaN NaN  public  \n",
       "3    NaN NaN  public  \n",
       "4    NaN NaN  public  \n",
       "..   ...  ..     ...  \n",
       "259  NaN NaN  public  \n",
       "260  NaN NaN  public  \n",
       "261  NaN NaN  public  \n",
       "262  NaN NaN  public  \n",
       "263  NaN NaN  public  \n",
       "\n",
       "[264 rows x 9 columns]"
      ]
     },
     "execution_count": 9,
     "metadata": {},
     "output_type": "execute_result"
    }
   ],
   "source": [
    "douban = pd.read_excel(\"豆伴(208462734).xlsx\")\n",
    "douban"
   ]
  },
  {
   "cell_type": "code",
   "execution_count": 4,
   "metadata": {
    "ExecuteTime": {
     "end_time": "2023-07-06T14:20:10.145128Z",
     "start_time": "2023-07-06T14:20:10.131037Z"
    },
    "collapsed": false
   },
   "outputs": [],
   "source": [
    "movie_dict = douban.to_dict()"
   ]
  },
  {
   "cell_type": "code",
   "execution_count": null,
   "metadata": {
    "ExecuteTime": {
     "end_time": "2023-07-06T14:37:12.440154Z",
     "start_time": "2023-07-06T14:37:12.431096Z"
    },
    "collapsed": false
   },
   "outputs": [],
   "source": [
    "for i in movie_dict[\"标题\"]:\n",
    "    print(i)"
   ]
  },
  {
   "cell_type": "code",
   "execution_count": 10,
   "metadata": {
    "ExecuteTime": {
     "end_time": "2023-07-06T14:21:53.716336Z",
     "start_time": "2023-07-06T14:21:53.698842Z"
    },
    "collapsed": false
   },
   "outputs": [
    {
     "data": {
      "text/plain": [
       "'https://movie.douban.com/subject/35914259/'"
      ]
     },
     "execution_count": 10,
     "metadata": {},
     "output_type": "execute_result"
    }
   ],
   "source": [
    "movie_dict[\"链接\"][5]"
   ]
  },
  {
   "cell_type": "code",
   "execution_count": null,
   "metadata": {
    "ExecuteTime": {
     "end_time": "2023-07-06T15:02:51.739305Z",
     "start_time": "2023-07-06T14:57:24.549246Z"
    },
    "collapsed": false
   },
   "outputs": [],
   "source": [
    "import time\n",
    "from notion_database.properties import Properties\n",
    "\n",
    "D = Database(integrations_token=\"secret_wa5Mmdai45S2vBpXXr1Hkx8eATxKQVGTydscWBstPsG\")\n",
    "D.find_all_page(database_id=\"9c4b15b3675d439680c87cb3a1e50873\")\n",
    "while D.result[\"has_more\"]:\n",
    "    D.find_all_page(database_id=\"9c4b15b3675d439680c87cb3a1e50873\", start_cursor=D.result[\"next_cursor\"], page_size=200)\n",
    "    firms = D.result[\"results\"]\n",
    "    for i in firms:\n",
    "        # print(i)\n",
    "        time.sleep(1)\n",
    "        P.retrieve_page(page_id=i[\"id\"])\n",
    "        if len(P.result[\"properties\"][\"封面\"][\"files\"]) == 0:\n",
    "            url = P.result[\"properties\"][\"影片链接\"][\"url\"]\n",
    "            cover = download_picture(url)\n",
    "            if cover != \"\":\n",
    "                PROPERTY = Properties()\n",
    "                PROPERTY.set_files(\"封面\", files_list=[cover])\n",
    "                P.update_page(page_id=i[\"id\"], properties=PROPERTY)\n",
    "                print(\"update success   \" + cover)\n",
    "        else:\n",
    "            print(\"skip\")"
   ]
  },
  {
   "cell_type": "code",
   "execution_count": 14,
   "metadata": {
    "ExecuteTime": {
     "end_time": "2023-07-06T14:24:05.796989Z",
     "start_time": "2023-07-06T14:24:03.545412Z"
    },
    "collapsed": false
   },
   "outputs": [
    {
     "name": "stdout",
     "output_type": "stream",
     "text": [
      "True\n"
     ]
    }
   ],
   "source": [
    "import time\n",
    "from notion_database.properties import Properties\n",
    "\n",
    "D = Database(integrations_token=\"secret_wa5Mmdai45S2vBpXXr1Hkx8eATxKQVGTydscWBstPsG\")\n",
    "D.find_all_page(database_id=\"9c4b15b3675d439680c87cb3a1e50873\")\n",
    "while D.result[\"has_more\"]:\n",
    "    D.find_all_page(database_id=\"9c4b15b3675d439680c87cb3a1e50873\", start_cursor=D.result[\"next_cursor\"], page_size=200)\n",
    "    firms = D.result[\"results\"]\n",
    "    for i in firms:\n",
    "        # print(i)\n",
    "        time.sleep(1)\n",
    "        P.retrieve_page(page_id=i[\"id\"])\n",
    "        url = P.result[\"properties\"][\"影片链接\"][\"url\"]\n",
    "\n",
    "        if not url:\n",
    "            title = P.result[\"properties\"][\"名称\"][\"title\"][0][\"text\"][\"content\"]\n",
    "            for key in movie_dict[\"标题\"]:\n",
    "                if movie_dict[\"标题\"][key] in title:\n",
    "                    new_url = movie_dict[\"链接\"][key]\n",
    "                    PROPERTY = Properties()\n",
    "                    PROPERTY.set_url(\"影片链接\", text=new_url)\n",
    "                    print(\"update success    \" + title)\n",
    "                    P.update_page(page_id=i[\"id\"], properties=PROPERTY)\n",
    "        else:\n",
    "            print(\"skip\")"
   ]
  },
  {
   "cell_type": "code",
   "execution_count": 27,
   "metadata": {
    "ExecuteTime": {
     "end_time": "2023-07-06T15:16:45.129570Z",
     "start_time": "2023-07-06T15:16:45.125095Z"
    },
    "collapsed": false
   },
   "outputs": [],
   "source": [
    "import re\n",
    "\n",
    "\n",
    "def film_info2(movie_url):\n",
    "    # 目前想改进的有title，类型，导演\n",
    "    if \"http://\" in movie_url:\n",
    "        movie_url= movie_url.replace(\"http://\",\"https://\")\n",
    "    url = movie_url\n",
    "    res = requests.get(url, headers=headers, allow_redirects=False)\n",
    "    url = res.headers['Location'] if res.status_code == 302 else url\n",
    "    print(url)\n",
    "    res = requests.get(url, headers=headers, allow_redirects=False)\n",
    "    bstitle = BeautifulSoup(res.text, 'html.parser')\n",
    "\n",
    "    moive_content = bstitle.find_all('div', id='content')\n",
    "    moive_content = moive_content[0]\n",
    "    # 电影名称与年份\n",
    "    title = moive_content.find('h1')\n",
    "    title = title.find_all('span')\n",
    "    title = title[0].text + title[1].text\n",
    "\n",
    "    # 电影名称与年份\n",
    "    title = moive_content.find('h1')\n",
    "    title = title.find_all('span')\n",
    "    title = title[0].text + title[1].text\n",
    "\n",
    "    # 基本信息\n",
    "    base_information = moive_content.find('div', class_='subject clearfix')\n",
    "    info = base_information.find('div', id='info').text.split('\\n')\n",
    "    info = ','.join(info)\n",
    "    # print(info)\n",
    "    pattern_type = re.compile(r'(?<=类型: )[\\u4e00-\\u9fa5 /]+', re.S)\n",
    "    movie_type = re.findall(pattern_type, info)[0].replace(\" \", \"\").split(\"/\")\n",
    "    # print(movie_type)\n",
    "    pattern_director = re.compile(r'(?<=导演: )[\\u4e00-\\u9fa5^a-z^A-Z· ]+', re.I)\n",
    "    if len(re.findall(pattern_director, info))>0:\n",
    "        director = re.findall(pattern_director, info)[0].replace(\" \", \"\").split(\"/\")\n",
    "    # print(director)\n",
    "    else:\n",
    "        director = \"aaa\"\n",
    "    # print(director)\n",
    "\n",
    "    return title, movie_type, director"
   ]
  },
  {
   "cell_type": "code",
   "execution_count": 39,
   "metadata": {
    "ExecuteTime": {
     "end_time": "2023-07-06T15:04:32.053153Z",
     "start_time": "2023-07-06T15:04:29.748786Z"
    },
    "collapsed": false
   },
   "outputs": [
    {
     "name": "stdout",
     "output_type": "stream",
     "text": [
      "https://movie.douban.com/subject/3718279/\n"
     ]
    },
    {
     "data": {
      "text/plain": [
       "('死侍 Deadpool(2016)', ['喜剧', '动作', '科幻', '冒险'], ['蒂姆'])"
      ]
     },
     "execution_count": 39,
     "metadata": {},
     "output_type": "execute_result"
    }
   ],
   "source": [
    "film_info2(\"https://movie.douban.com/subject/3718279/\")"
   ]
  },
  {
   "cell_type": "code",
   "execution_count": 63,
   "metadata": {
    "ExecuteTime": {
     "end_time": "2023-07-06T15:56:12.347722Z",
     "start_time": "2023-07-06T15:56:10.196620Z"
    },
    "collapsed": false
   },
   "outputs": [],
   "source": [
    "# D.find_all_page(database_id=\"9c4b15b3675d439680c87cb3a1e50873\")\n",
    "D.find_all_page(database_id=\"9c4b15b3675d439680c87cb3a1e50873\", start_cursor=D.result[\"next_cursor\"], page_size=200)"
   ]
  },
  {
   "cell_type": "code",
   "execution_count": 28,
   "metadata": {
    "ExecuteTime": {
     "end_time": "2023-07-06T15:44:45.010311Z",
     "start_time": "2023-07-06T15:43:56.811776Z"
    },
    "collapsed": false
   },
   "outputs": [
    {
     "name": "stdout",
     "output_type": "stream",
     "text": [
      "https://movie.douban.com/subject/1291543/\n",
      "update success    功夫\n",
      "https://movie.douban.com/subject/1946882/\n",
      "update success    007：大破量子危机 / Quantum of Solace\n",
      "https://movie.douban.com/subject/25826612/\n",
      "update success    权力的游戏 第五季 / Game of Thrones Season 5\n",
      "https://movie.douban.com/subject/30394797/\n",
      "update success    尚气与十环传奇 / Shang-Chi and the Legend of the Ten Rings\n",
      "https://movie.douban.com/subject/26311973/\n",
      "update success    唐人街探案\n",
      "https://movie.douban.com/subject/30314848/\n",
      "update success    瞬息全宇宙 / Everything Everywhere All at Once\n",
      "https://movie.douban.com/subject/1329950/\n",
      "update success    达·芬奇密码 / The Da Vinci Code\n",
      "https://movie.douban.com/subject/20276229/\n",
      "update success    007：无暇赴死 / No Time to Die\n",
      "https://movie.douban.com/subject/30364831/\n",
      "update success    恶魔城 第三季 / Castlevania Season 3\n",
      "https://movie.douban.com/subject/2363876/\n",
      "update success    007：大破天幕杀机 / Skyfall\n",
      "https://movie.douban.com/subject/30424374/\n",
      "update success    爱，死亡和机器人 第一季 / Love, Death & Robots Season 1\n",
      "https://movie.douban.com/subject/3075287/\n",
      "update success    源代码 / Source Code\n",
      "https://movie.douban.com/subject/1309115/\n",
      "update success    帝国的毁灭 Der Untergang(2004)\n",
      "https://movie.douban.com/subject/35360684/\n",
      "update success    新神榜：杨戬(2022)\n",
      "https://movie.douban.com/subject/32579501/\n",
      "update success    反贪风暴5：最终章 G風暴(2021)\n",
      "https://movie.douban.com/subject/26235354/\n",
      "update success    权力的游戏 第七季 Game of Thrones Season 7(2017)\n",
      "https://movie.douban.com/subject/26642033/\n",
      "update success    小黄人大眼萌：神偷奶爸前传 Minions: The Rise of Gru(2022)\n",
      "https://movie.douban.com/subject/30476761/\n",
      "update success    德里罪案 Delhi Crime(2019)\n",
      "https://movie.douban.com/subject/1300267/\n",
      "update success    乱世佳人 Gone with the Wind(1939)\n",
      "https://movie.douban.com/subject/35118256/\n",
      "update success    赛博朋克：边缘行者 Cyberpunk: Edgerunners(2022)\n"
     ]
    }
   ],
   "source": [
    "import time\n",
    "from notion_database.properties import Properties\n",
    "from notion_database.database import Database\n",
    "from notion_database.page import Page\n",
    "import requests\n",
    "from bs4 import BeautifulSoup\n",
    "P = Page(integrations_token=\"secret_wa5Mmdai45S2vBpXXr1Hkx8eATxKQVGTydscWBstPsG\")\n",
    "D = Database(integrations_token=\"secret_wa5Mmdai45S2vBpXXr1Hkx8eATxKQVGTydscWBstPsG\")\n",
    "D.find_all_page(database_id=\"9c4b15b3675d439680c87cb3a1e50873\")\n",
    "while D.result[\"has_more\"]:\n",
    "    D.find_all_page(database_id=\"9c4b15b3675d439680c87cb3a1e50873\", start_cursor=D.result[\"next_cursor\"], page_size=200)\n",
    "    firms = D.result[\"results\"]\n",
    "    for i in firms[-10:]:\n",
    "        # print(i)\n",
    "        time.sleep(0.5)\n",
    "        try:\n",
    "            P.retrieve_page(page_id=i[\"id\"])\n",
    "            url = P.result[\"properties\"][\"影片链接\"][\"url\"]\n",
    "            type = P.result[\"properties\"]['类型'][\"multi_select\"]\n",
    "        \n",
    "            title = P.result[\"properties\"][\"名称\"][\"title\"][0][\"text\"][\"content\"]\n",
    "            _, genre, director = film_info2(url)\n",
    "            PROPERTY = Properties()\n",
    "            PROPERTY.set_multi_select(\"类型\", text_list=genre)\n",
    "            PROPERTY.set_multi_select(\"导演\", text_list=director)\n",
    "            P.update_page(page_id=i[\"id\"], properties=PROPERTY)\n",
    "        except:\n",
    "            print(\"SDAS\")\n",
    "        print(\"update success    \" + title)"
   ]
  },
  {
   "cell_type": "code",
   "execution_count": 15,
   "metadata": {},
   "outputs": [],
   "source": [
    "D = Database(integrations_token=\"secret_wa5Mmdai45S2vBpXXr1Hkx8eATxKQVGTydscWBstPsG\")\n",
    "D.find_all_page(database_id=\"9c4b15b3675d439680c87cb3a1e50873\")"
   ]
  },
  {
   "cell_type": "code",
   "execution_count": 1,
   "metadata": {},
   "outputs": [
    {
     "name": "stderr",
     "output_type": "stream",
     "text": [
      "<>:82: SyntaxWarning: \"is not\" with a literal. Did you mean \"!=\"?\n",
      "<>:121: SyntaxWarning: \"is not\" with a literal. Did you mean \"!=\"?\n",
      "<>:82: SyntaxWarning: \"is not\" with a literal. Did you mean \"!=\"?\n",
      "<>:121: SyntaxWarning: \"is not\" with a literal. Did you mean \"!=\"?\n",
      "/var/folders/wr/tgjc9g9n57d3t6xssjr6hgyw0000gn/T/ipykernel_3259/232994387.py:82: SyntaxWarning: \"is not\" with a literal. Did you mean \"!=\"?\n",
      "  if len(res) is not 0:\n",
      "/var/folders/wr/tgjc9g9n57d3t6xssjr6hgyw0000gn/T/ipykernel_3259/232994387.py:121: SyntaxWarning: \"is not\" with a literal. Did you mean \"!=\"?\n",
      "  if len(img) is not 0:\n"
     ]
    }
   ],
   "source": [
    "# -*- coding: utf-8 -*-\n",
    "# @Author  : yocichen\n",
    "# @Email   : yocichen@126.com\n",
    "# @File    : doubanBooks.py\n",
    "# @Software: PyCharm\n",
    "# @Time    : 2019/11/9 11:38\n",
    "\n",
    "\n",
    "'''\n",
    "任务：\n",
    "爬取书籍图片链接/\n",
    "爬取内容简介/\n",
    "爬取作者简介/\n",
    "爬取标签（需要判断标签的类型，最好给一个筛选列表）- 改爬具体标签下的书籍src了\n",
    "'''\n",
    "\n",
    "import re\n",
    "import openpyxl\n",
    "import requests\n",
    "from requests import RequestException\n",
    "from bs4 import BeautifulSoup\n",
    "import lxml\n",
    "import time\n",
    "import random\n",
    "\n",
    "def get_one_page(url):\n",
    "    '''\n",
    "    Get the html of a page by requests module\n",
    "    :param url: page url\n",
    "    :return: html / None\n",
    "    '''\n",
    "    try:\n",
    "        head = ['Mozilla/5.0', 'Chrome/78.0.3904.97', 'Safari/537.36']\n",
    "        headers = {\n",
    "            'user-agent':head[random.randint(0, 2)]\n",
    "        }\n",
    "        response = requests.get(url, headers=headers) #, proxies={'http':'171.15.65.195:9999'}\n",
    "        if response.status_code == 200:\n",
    "            return response.text\n",
    "        return None\n",
    "    except RequestException:\n",
    "        return None\n",
    "\n",
    "def get_request_res(pattern_text, html):\n",
    "    '''\n",
    "    Get the book info by re module\n",
    "    :param pattern_text: re pattern\n",
    "    :param html: page's html text\n",
    "    :return: book's info\n",
    "    '''\n",
    "    pattern = re.compile(pattern_text, re.S)\n",
    "    res = re.findall(pattern, html)\n",
    "    if len(res) > 0:\n",
    "        return res[0].split('<', 1)[0][1:]\n",
    "    else:\n",
    "        return 'NULL'\n",
    "\n",
    "def get_bs_res(selector, html):\n",
    "    '''\n",
    "    Get the book info by bs4 module\n",
    "    :param selector: info selector\n",
    "    :param html: page's html text\n",
    "    :return: book's info\n",
    "    '''\n",
    "    soup = BeautifulSoup(html, 'lxml')\n",
    "    res = soup.select(selector)\n",
    "    # if res is not None or len(res) is not 0:\n",
    "    #     return res[0].string\n",
    "    # else:\n",
    "    #     return 'NULL'\n",
    "    if res is None:\n",
    "        return 'NULL'\n",
    "    elif len(res) == 0:\n",
    "        return 'NULL'\n",
    "    else:\n",
    "        return res[0].string\n",
    "\n",
    "# Get other info by bs module\n",
    "def get_bs_img_res(selector, html):\n",
    "    soup = BeautifulSoup(html, 'lxml')\n",
    "    res = soup.select(selector)\n",
    "    if len(res) is not 0:\n",
    "        return str(res[0])\n",
    "    else:\n",
    "        return 'NULL'\n",
    "\n",
    "def parse_one_page(html):\n",
    "    '''\n",
    "    Parse the useful info of html by re module\n",
    "    :param html: page's html text\n",
    "    :return: all of book info(dict)\n",
    "    '''\n",
    "    book_info = {}\n",
    "    book_name = get_bs_res('div > h1 > span', html)\n",
    "    # print('Book-name', book_name)\n",
    "    book_info['Book_name'] = book_name\n",
    "    # info > a:nth-child(2)\n",
    "    author = get_bs_res('div > span:nth-child(1) > a', html)\n",
    "    if author is None:\n",
    "        author = get_bs_res('#info > a:nth-child(2)', html)\n",
    "    # print('Author', author)\n",
    "    author = author.replace(\" \", \"\")\n",
    "    author = author.replace(\"\\n\", \"\")\n",
    "    book_info['Author'] = author\n",
    "\n",
    "    publisher = get_request_res(u'出版社:</span>(.*?)<br/>', html)\n",
    "    # print('Publisher', publisher)\n",
    "    book_info['publisher'] = publisher\n",
    "\n",
    "    publish_time = get_request_res(u'出版年:</span>(.*?)<br/>', html)\n",
    "    # print('Publish-time', publish_time)\n",
    "    book_info['publish_time'] = publish_time\n",
    "\n",
    "    ISBN = get_request_res(u'ISBN:</span>(.*?)<br/>', html)\n",
    "    # print('ISBN', ISBN)\n",
    "    book_info['ISBN'] = ISBN\n",
    "\n",
    "    img_label = get_bs_img_res('#mainpic > a > img', html)\n",
    "    pattern = re.compile('src=\"(.*?)\"', re.S)\n",
    "    img = re.findall(pattern, img_label)\n",
    "    if len(img) is not 0:\n",
    "        # print('img-src', img[0])\n",
    "        book_info['img_src'] = img[0]\n",
    "    else:\n",
    "        # print('src not found')\n",
    "        book_info['img_src'] = 'NULL'\n",
    "\n",
    "    book_intro = get_bs_res('#link-report > div:nth-child(1) > div > p', html)\n",
    "    # print('book introduction', book_intro)\n",
    "    book_info['book_intro'] = book_intro\n",
    "\n",
    "    author_intro = get_bs_res('#content > div > div.article > div.related_info > div:nth-child(4) > div > div > p', html)\n",
    "    # print('author introduction', author_intro)\n",
    "    book_info['author_intro'] = author_intro\n",
    "\n",
    "    grade = get_bs_res('div > div.rating_self.clearfix > strong', html)\n",
    "    if len(grade) == 1:\n",
    "        # print('Score no mark')\n",
    "        book_info['Score'] = 'NULL'\n",
    "    else:\n",
    "        # print('Score', grade[1:])\n",
    "        book_info['Score'] = grade[1:]\n",
    "\n",
    "    comment_num = get_bs_res('#interest_sectl > div > div.rating_self.clearfix > div > div.rating_sum > span > a > span', html)\n",
    "    # print('commments', comment_num)\n",
    "    book_info['commments'] = comment_num\n",
    "\n",
    "    five_stars = get_bs_res('#interest_sectl > div > span:nth-child(5)', html)\n",
    "    # print('5-stars', five_stars)\n",
    "    book_info['5_stars'] = five_stars\n",
    "\n",
    "    four_stars = get_bs_res('#interest_sectl > div > span:nth-child(9)', html)\n",
    "    # print('4-stars', four_stars)\n",
    "    book_info['4_stars'] = four_stars\n",
    "\n",
    "    three_stars = get_bs_res('#interest_sectl > div > span:nth-child(13)', html)\n",
    "    # print('3-stars', three_stars)\n",
    "    book_info['3_stars'] = three_stars\n",
    "\n",
    "    two_stars = get_bs_res('#interest_sectl > div > span:nth-child(17)', html)\n",
    "    # print('2-stars', two_stars)\n",
    "    book_info['2_stars'] = two_stars\n",
    "\n",
    "    one_stars = get_bs_res('#interest_sectl > div > span:nth-child(21)', html)\n",
    "    # print('1-stars', one_stars)\n",
    "    book_info['1_stars'] = one_stars\n",
    "\n",
    "    return book_info\n",
    "\n",
    "def write_bookinfo_excel(book_info, file):\n",
    "    '''\n",
    "    Write book info into excel file\n",
    "    :param book_info: a dict\n",
    "    :param file: memory excel file\n",
    "    :return: the num of successful item\n",
    "    '''\n",
    "    wb = openpyxl.load_workbook(file)\n",
    "    ws = wb.worksheets[0]\n",
    "    sheet_row = ws.max_row\n",
    "    sheet_col = ws.max_column\n",
    "    i = sheet_row\n",
    "    j = 1\n",
    "    for key in book_info:\n",
    "        ws.cell(i+1, j).value = book_info[key]\n",
    "        j += 1\n",
    "    done = ws.max_row - sheet_row\n",
    "    wb.save(file)\n",
    "    return done\n",
    "\n",
    "def read_booksrc_get_info(src_file, info_file):\n",
    "    '''\n",
    "    Read the src file and access each src, parse html and write info into file\n",
    "    :param src_file: src file\n",
    "    :param info_file: memory file\n",
    "    :return: the num of successful item\n",
    "    '''\n",
    "    wb = openpyxl.load_workbook(src_file)\n",
    "    ws = wb.worksheets[0]\n",
    "    row = ws.max_row\n",
    "    done = 0\n",
    "    for i in range(868, row+1):\n",
    "        src = ws.cell(i, 1).value\n",
    "        if src is None:\n",
    "            continue\n",
    "        html = get_one_page(str(src))\n",
    "        book_info = parse_one_page(html)\n",
    "        done += write_bookinfo_excel(book_info, info_file)\n",
    "        if done % 10 == 0:\n",
    "            print(done, 'done')\n",
    "    return done\n"
   ]
  },
  {
   "cell_type": "code",
   "execution_count": null,
   "metadata": {},
   "outputs": [],
   "source": [
    "import requests\n",
    "url = requests.get"
   ]
  },
  {
   "cell_type": "code",
   "execution_count": null,
   "metadata": {},
   "outputs": [],
   "source": [
    "parse_one_page()"
   ]
  }
 ],
 "metadata": {
  "kernelspec": {
   "display_name": "Python 3",
   "language": "python",
   "name": "python3"
  },
  "language_info": {
   "codemirror_mode": {
    "name": "ipython",
    "version": 3
   },
   "file_extension": ".py",
   "mimetype": "text/x-python",
   "name": "python",
   "nbconvert_exporter": "python",
   "pygments_lexer": "ipython3",
   "version": "3.9.16"
  }
 },
 "nbformat": 4,
 "nbformat_minor": 0
}
